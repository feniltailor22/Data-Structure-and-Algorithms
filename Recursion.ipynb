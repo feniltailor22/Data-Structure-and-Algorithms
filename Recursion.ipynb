{
  "nbformat": 4,
  "nbformat_minor": 0,
  "metadata": {
    "colab": {
      "name": "Recursion.ipynb",
      "provenance": [],
      "collapsed_sections": [],
      "authorship_tag": "ABX9TyN9WLHUpIFexIf+DdB0/fF0",
      "include_colab_link": true
    },
    "kernelspec": {
      "name": "python3",
      "display_name": "Python 3"
    },
    "language_info": {
      "name": "python"
    }
  },
  "cells": [
    {
      "cell_type": "markdown",
      "metadata": {
        "id": "view-in-github",
        "colab_type": "text"
      },
      "source": [
        "<a href=\"https://colab.research.google.com/github/feniltailor22/Data-Structure-and-Algorithms/blob/main/Recursion.ipynb\" target=\"_parent\"><img src=\"https://colab.research.google.com/assets/colab-badge.svg\" alt=\"Open In Colab\"/></a>"
      ]
    },
    {
      "cell_type": "markdown",
      "metadata": {
        "id": "aumXSJIs8A5m"
      },
      "source": [
        "Find the sum of first n natural number using recursion:"
      ]
    },
    {
      "cell_type": "code",
      "metadata": {
        "id": "PedgIIH87TZv"
      },
      "source": [
        "def sum(n):\n",
        "  if n==1:\n",
        "    return 1\n",
        "  else:\n",
        "    return (n+ sum(n-1))"
      ],
      "execution_count": 78,
      "outputs": []
    },
    {
      "cell_type": "code",
      "metadata": {
        "colab": {
          "base_uri": "https://localhost:8080/"
        },
        "id": "W-_66rM372f2",
        "outputId": "3c9a8b92-0fa4-49ff-c9bf-9b5bbd5c8f78"
      },
      "source": [
        "x=sum(5)\n",
        "x"
      ],
      "execution_count": 79,
      "outputs": [
        {
          "output_type": "execute_result",
          "data": {
            "text/plain": [
              "15"
            ]
          },
          "metadata": {},
          "execution_count": 79
        }
      ]
    },
    {
      "cell_type": "markdown",
      "metadata": {
        "id": "sGLh3Ark8IeV"
      },
      "source": [
        "Find the sum of first n natural number without recursion:"
      ]
    },
    {
      "cell_type": "code",
      "metadata": {
        "id": "ALg4SHLf75SU"
      },
      "source": [
        "def sum(n):\n",
        "  print((n*(n+1))/2)"
      ],
      "execution_count": 80,
      "outputs": []
    },
    {
      "cell_type": "code",
      "metadata": {
        "colab": {
          "base_uri": "https://localhost:8080/"
        },
        "id": "LPeCnLP88WLT",
        "outputId": "d3706f3b-3f2f-443b-c953-d15c782f9cb9"
      },
      "source": [
        "y=sum(7)"
      ],
      "execution_count": 82,
      "outputs": [
        {
          "output_type": "stream",
          "name": "stdout",
          "text": [
            "28.0\n"
          ]
        }
      ]
    },
    {
      "cell_type": "markdown",
      "metadata": {
        "id": "3YpQ5Thj8eTF"
      },
      "source": [
        "Finding factorial using while loop: "
      ]
    },
    {
      "cell_type": "code",
      "metadata": {
        "id": "crJxlGdb8XwG"
      },
      "source": [
        "def fac(n):\n",
        "  i=1\n",
        "  fact=1\n",
        "  while i<=n:\n",
        "    fact= fact*i\n",
        "    i+=1 \n",
        "  return fact"
      ],
      "execution_count": 155,
      "outputs": []
    },
    {
      "cell_type": "code",
      "metadata": {
        "colab": {
          "base_uri": "https://localhost:8080/"
        },
        "id": "yhcx56GQ8zj9",
        "outputId": "7106b513-1fb0-480d-e259-3ab369989e83"
      },
      "source": [
        "z=fac(5)\n",
        "z"
      ],
      "execution_count": 156,
      "outputs": [
        {
          "output_type": "execute_result",
          "data": {
            "text/plain": [
              "120"
            ]
          },
          "metadata": {},
          "execution_count": 156
        }
      ]
    },
    {
      "cell_type": "markdown",
      "metadata": {
        "id": "frdW-z7BDiiZ"
      },
      "source": [
        "Finding factorial using for loop:"
      ]
    },
    {
      "cell_type": "code",
      "metadata": {
        "id": "zADrPEP981kd"
      },
      "source": [
        "def fac(n):\n",
        "  ans=1\n",
        "  for i in range(1,n+1):\n",
        "    ans= ans*i\n",
        "  print(ans) "
      ],
      "execution_count": 161,
      "outputs": []
    },
    {
      "cell_type": "code",
      "metadata": {
        "colab": {
          "base_uri": "https://localhost:8080/"
        },
        "id": "NNYBxhGOD6Ze",
        "outputId": "67e5d7cb-f80e-49f5-8af2-ec129a6ef2a2"
      },
      "source": [
        "k= fac(10)\n",
        "k"
      ],
      "execution_count": 164,
      "outputs": [
        {
          "output_type": "stream",
          "name": "stdout",
          "text": [
            "3628800\n"
          ]
        }
      ]
    },
    {
      "cell_type": "markdown",
      "metadata": {
        "id": "g5Z-xA22EhpA"
      },
      "source": [
        "Finding factorial using recursion:"
      ]
    },
    {
      "cell_type": "code",
      "metadata": {
        "id": "ryxsoDKrD8eZ"
      },
      "source": [
        "def fac(n):\n",
        "  if n==1:\n",
        "    return 1\n",
        "  return (n* fac(n-1))\n",
        "  i-=1"
      ],
      "execution_count": 179,
      "outputs": []
    },
    {
      "cell_type": "code",
      "metadata": {
        "colab": {
          "base_uri": "https://localhost:8080/"
        },
        "id": "rvfTT6SZEzH_",
        "outputId": "1c4f3930-0e1e-4837-80a4-40ce9b5dc419"
      },
      "source": [
        "f= fac(5)\n",
        "f"
      ],
      "execution_count": 180,
      "outputs": [
        {
          "output_type": "execute_result",
          "data": {
            "text/plain": [
              "120"
            ]
          },
          "metadata": {},
          "execution_count": 180
        }
      ]
    }
  ]
}