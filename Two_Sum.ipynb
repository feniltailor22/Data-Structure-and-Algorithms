{
  "nbformat": 4,
  "nbformat_minor": 0,
  "metadata": {
    "colab": {
      "name": "Two Sum.ipynb",
      "provenance": [],
      "collapsed_sections": [],
      "authorship_tag": "ABX9TyNgDNdgUhUG5O2OZLHxUonb",
      "include_colab_link": true
    },
    "kernelspec": {
      "name": "python3",
      "display_name": "Python 3"
    },
    "language_info": {
      "name": "python"
    }
  },
  "cells": [
    {
      "cell_type": "markdown",
      "metadata": {
        "id": "view-in-github",
        "colab_type": "text"
      },
      "source": [
        "<a href=\"https://colab.research.google.com/github/feniltailor22/Data-Structure-and-Algorithms/blob/main/Two_Sum.ipynb\" target=\"_parent\"><img src=\"https://colab.research.google.com/assets/colab-badge.svg\" alt=\"Open In Colab\"/></a>"
      ]
    },
    {
      "cell_type": "markdown",
      "metadata": {
        "id": "sI0lhLkb9uW9"
      },
      "source": [
        "Given an array of integers nums and an integer target, return indices of the two numbers such that they add up to target.\n",
        "\n",
        "You may assume that each input would have exactly one solution, and you may not use the same element twice.\n",
        "\n",
        "You can return the answer in any order."
      ]
    },
    {
      "cell_type": "code",
      "metadata": {
        "id": "FUw-qDig9sgm"
      },
      "source": [
        "class Solution(object):\n",
        "    def twoSum(self, nums, target):\n",
        "        for i in range(0, len(nums)):\n",
        "            for j in range(1, len(nums)):\n",
        "                if nums[i]+nums[j]== target and i!=j:\n",
        "                    return [i, j]\n",
        "            i+=1\n",
        "            j+=1"
      ],
      "execution_count": 52,
      "outputs": []
    },
    {
      "cell_type": "code",
      "metadata": {
        "id": "IxZHlrkc99t-"
      },
      "source": [
        "s= Solution()"
      ],
      "execution_count": 53,
      "outputs": []
    },
    {
      "cell_type": "code",
      "metadata": {
        "id": "GMLGlMm2-DCQ"
      },
      "source": [
        "nums=[2,5,5,11]\n",
        "target=10"
      ],
      "execution_count": 54,
      "outputs": []
    },
    {
      "cell_type": "code",
      "metadata": {
        "colab": {
          "base_uri": "https://localhost:8080/"
        },
        "id": "tdL-pR__-J31",
        "outputId": "62ef4545-53fd-49a0-dc72-aba2b1244753"
      },
      "source": [
        "s.twoSum(nums, target)"
      ],
      "execution_count": 55,
      "outputs": [
        {
          "output_type": "execute_result",
          "data": {
            "text/plain": [
              "[1, 2]"
            ]
          },
          "metadata": {},
          "execution_count": 55
        }
      ]
    },
    {
      "cell_type": "code",
      "metadata": {
        "id": "u92Kps7O-Nec"
      },
      "source": [
        "nums=[3,2,4]\n",
        "target=7"
      ],
      "execution_count": 56,
      "outputs": []
    },
    {
      "cell_type": "code",
      "metadata": {
        "colab": {
          "base_uri": "https://localhost:8080/"
        },
        "id": "D4QeX3Mc-VzO",
        "outputId": "2287aa07-4a3e-4e85-9ab3-397be2a6336d"
      },
      "source": [
        "s.twoSum(nums, target)"
      ],
      "execution_count": 57,
      "outputs": [
        {
          "output_type": "execute_result",
          "data": {
            "text/plain": [
              "[0, 2]"
            ]
          },
          "metadata": {},
          "execution_count": 57
        }
      ]
    },
    {
      "cell_type": "code",
      "metadata": {
        "id": "Bgo4_-ey-XJf"
      },
      "source": [
        "#Time Complexity: O(N^2)"
      ],
      "execution_count": 58,
      "outputs": []
    },
    {
      "cell_type": "code",
      "metadata": {
        "id": "TX9isLmmCSz4"
      },
      "source": [
        "list=[5,9,42,39,17,58]"
      ],
      "execution_count": 59,
      "outputs": []
    },
    {
      "cell_type": "code",
      "metadata": {
        "colab": {
          "base_uri": "https://localhost:8080/"
        },
        "id": "g1yUOpDiJpry",
        "outputId": "1b49a95b-78cb-40ab-af6d-36681a139544"
      },
      "source": [
        "D= {}\n",
        "\n",
        "for index, value in enumerate(list):\n",
        "  print(index),print(value)\n",
        "  D[index]= value\n",
        "  print(D)\n",
        "\n",
        "#enumerate return index and value.\n",
        "#If we want to use the index of enumarate as key of dictionary D then it should return the value of enumerate. i.e. D[index]= value"
      ],
      "execution_count": 83,
      "outputs": [
        {
          "output_type": "stream",
          "name": "stdout",
          "text": [
            "0\n",
            "5\n",
            "{0: 5}\n",
            "1\n",
            "9\n",
            "{0: 5, 1: 9}\n",
            "2\n",
            "42\n",
            "{0: 5, 1: 9, 2: 42}\n",
            "3\n",
            "39\n",
            "{0: 5, 1: 9, 2: 42, 3: 39}\n",
            "4\n",
            "17\n",
            "{0: 5, 1: 9, 2: 42, 3: 39, 4: 17}\n",
            "5\n",
            "58\n",
            "{0: 5, 1: 9, 2: 42, 3: 39, 4: 17, 5: 58}\n"
          ]
        }
      ]
    },
    {
      "cell_type": "code",
      "metadata": {
        "colab": {
          "base_uri": "https://localhost:8080/"
        },
        "id": "QbBljMZ0L6pn",
        "outputId": "de85790a-72db-4a11-ff2c-113f233092ec"
      },
      "source": [
        "D"
      ],
      "execution_count": 84,
      "outputs": [
        {
          "output_type": "execute_result",
          "data": {
            "text/plain": [
              "{0: 5, 1: 9, 2: 42, 3: 39, 4: 17, 5: 58}"
            ]
          },
          "metadata": {},
          "execution_count": 84
        }
      ]
    },
    {
      "cell_type": "code",
      "metadata": {
        "colab": {
          "base_uri": "https://localhost:8080/"
        },
        "id": "c3Rrko60JAx1",
        "outputId": "2bcc6693-6517-4917-e5ba-299ac9f5dabd"
      },
      "source": [
        "#If we want to use the value of enumarate as key of dictionary D then it should return the index of enumerate. i.e. D[value]= index\n",
        "\n",
        "D= {}\n",
        "\n",
        "for index, value in enumerate(list):\n",
        "  print(index),print(value)\n",
        "  D[value]=index\n",
        "  print(D)"
      ],
      "execution_count": 82,
      "outputs": [
        {
          "output_type": "stream",
          "name": "stdout",
          "text": [
            "0\n",
            "5\n",
            "{5: 0}\n",
            "1\n",
            "9\n",
            "{5: 0, 9: 1}\n",
            "2\n",
            "42\n",
            "{5: 0, 9: 1, 42: 2}\n",
            "3\n",
            "39\n",
            "{5: 0, 9: 1, 42: 2, 39: 3}\n",
            "4\n",
            "17\n",
            "{5: 0, 9: 1, 42: 2, 39: 3, 17: 4}\n",
            "5\n",
            "58\n",
            "{5: 0, 9: 1, 42: 2, 39: 3, 17: 4, 58: 5}\n"
          ]
        }
      ]
    },
    {
      "cell_type": "code",
      "metadata": {
        "colab": {
          "base_uri": "https://localhost:8080/"
        },
        "id": "waaeZJpNK12S",
        "outputId": "20225b40-ea9a-4a8a-dc89-9951b0817f82"
      },
      "source": [
        "D"
      ],
      "execution_count": 78,
      "outputs": [
        {
          "output_type": "execute_result",
          "data": {
            "text/plain": [
              "{0: 5, 1: 9, 2: 42, 3: 39, 4: 17, 5: 58}"
            ]
          },
          "metadata": {},
          "execution_count": 78
        }
      ]
    },
    {
      "cell_type": "code",
      "metadata": {
        "id": "-tBdZNGTEU8F"
      },
      "source": [
        "#Here, we want index of required number from dic_of_seen_num. Hence, we have to use value of the nums as key of dic_of_seen_num. \n",
        "\n",
        "class Solution(object):\n",
        "    def twoSum(self, nums, target):\n",
        "      dic_of_seen_num= {}\n",
        "\n",
        "      for idx, val in enumerate(nums):\n",
        "        required_num= target- val\n",
        "        if required_num in dic_of_seen_num:\n",
        "          return [idx, dic_of_seen_num[required_num]]\n",
        "        else:\n",
        "          dic_of_seen_num[val]= idx\n",
        "        print(dic_of_seen_num)"
      ],
      "execution_count": 69,
      "outputs": []
    },
    {
      "cell_type": "code",
      "metadata": {
        "id": "95UbwWKBFrhV"
      },
      "source": [
        "s= Solution()"
      ],
      "execution_count": 70,
      "outputs": []
    },
    {
      "cell_type": "code",
      "metadata": {
        "id": "3HbrP91DFtYz"
      },
      "source": [
        "nums=[2,5,5,11]\n",
        "target=10"
      ],
      "execution_count": 71,
      "outputs": []
    },
    {
      "cell_type": "code",
      "metadata": {
        "colab": {
          "base_uri": "https://localhost:8080/"
        },
        "id": "6ju5eSL4FvU_",
        "outputId": "0daaef7b-f4d9-48f4-e43e-3e346cdc7a8e"
      },
      "source": [
        "s.twoSum(nums, target)"
      ],
      "execution_count": 72,
      "outputs": [
        {
          "output_type": "stream",
          "name": "stdout",
          "text": [
            "{2: 0}\n",
            "{2: 0, 5: 1}\n"
          ]
        },
        {
          "output_type": "execute_result",
          "data": {
            "text/plain": [
              "[2, 1]"
            ]
          },
          "metadata": {},
          "execution_count": 72
        }
      ]
    },
    {
      "cell_type": "code",
      "metadata": {
        "id": "FCBF4vxSFxRp"
      },
      "source": [
        "nums=[3,2,4]\n",
        "target=7"
      ],
      "execution_count": 73,
      "outputs": []
    },
    {
      "cell_type": "code",
      "metadata": {
        "colab": {
          "base_uri": "https://localhost:8080/"
        },
        "id": "h6hlPlraF7kl",
        "outputId": "2db51c21-5296-4281-f728-f208c36fee54"
      },
      "source": [
        "s.twoSum(nums, target)"
      ],
      "execution_count": 74,
      "outputs": [
        {
          "output_type": "stream",
          "name": "stdout",
          "text": [
            "{3: 0}\n",
            "{3: 0, 2: 1}\n"
          ]
        },
        {
          "output_type": "execute_result",
          "data": {
            "text/plain": [
              "[2, 0]"
            ]
          },
          "metadata": {},
          "execution_count": 74
        }
      ]
    },
    {
      "cell_type": "code",
      "metadata": {
        "id": "oW9ADt4ON0M2"
      },
      "source": [
        "#Time Complexity: O(N)\n",
        "#Space Complexity= O(N)"
      ],
      "execution_count": 85,
      "outputs": []
    }
  ]
}