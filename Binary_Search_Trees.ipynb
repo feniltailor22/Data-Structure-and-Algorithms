{
  "nbformat": 4,
  "nbformat_minor": 0,
  "metadata": {
    "colab": {
      "name": "Binary Search Trees.ipynb",
      "provenance": [],
      "collapsed_sections": [],
      "authorship_tag": "ABX9TyP45vQhkcuMXaIq6IPtpnsC",
      "include_colab_link": true
    },
    "kernelspec": {
      "name": "python3",
      "display_name": "Python 3"
    },
    "language_info": {
      "name": "python"
    }
  },
  "cells": [
    {
      "cell_type": "markdown",
      "metadata": {
        "id": "view-in-github",
        "colab_type": "text"
      },
      "source": [
        "<a href=\"https://colab.research.google.com/github/feniltailor22/Data-Structure-and-Algorithms/blob/main/Binary_Search_Trees.ipynb\" target=\"_parent\"><img src=\"https://colab.research.google.com/assets/colab-badge.svg\" alt=\"Open In Colab\"/></a>"
      ]
    },
    {
      "cell_type": "markdown",
      "metadata": {
        "id": "9Pn9UOngpadx"
      },
      "source": [
        "## Problem \n",
        "\n",
        "\n",
        "In this notebook, we'll focus on solving the following problem:\n",
        "\n",
        "> **QUESTION 1**: As a senior backend engineer at Jovian, you are tasked with developing a fast in-memory data structure to manage profile information (username, name and email) for 100 million users. It should allow the following operations to be performed efficiently:\n",
        "> \n",
        "> 1. **Insert** the profile information for a new user.\n",
        "> 2. **Find** the profile information of a user, given their username\n",
        "> 3. **Update** the profile information of a user, given their usrname\n",
        "> 5. **List** all the users of the platform, sorted by username\n",
        ">\n",
        "> You can assume that usernames are unique. \n"
      ]
    },
    {
      "cell_type": "markdown",
      "metadata": {
        "id": "7qOiBz2AphOM"
      },
      "source": [
        "## The Method\n",
        "\n",
        "\n",
        "Here's a systematic strategy we'll apply for solving problems:\n",
        "\n",
        "1. State the problem clearly. Identify the input & output formats.\n",
        "2. Come up with some example inputs & outputs. Try to cover all edge cases.\n",
        "3. Come up with a correct solution for the problem. State it in plain English.\n",
        "4. Implement the solution and test it using example inputs. Fix bugs, if any.\n",
        "5. Analyze the algorithm's complexity and identify inefficiencies, if any.\n",
        "6. Apply the right technique to overcome the inefficiency. Repeat steps 3 to 6.\n"
      ]
    },
    {
      "cell_type": "markdown",
      "metadata": {
        "id": "_Xd4re-kpm4B"
      },
      "source": [
        "## 1. State the problem clearly. Identify the input & output formats.\n",
        "\n",
        "#### Problem\n",
        "\n",
        "> We need to create a data structure which can store 100 million records and perform insertion, search, update and list operations efficiently.\n",
        "\n",
        "#### Input\n",
        "\n",
        "The key inputs to our data structure are user profiles, which contain the username, name and email of a user. \n",
        "\n",
        "A Python _class_ would be a great way to represent the information for a user. A class is a blueprint for creating _objects_. Everything in Python is an _object_ belonging to some _class_. Here's the simples possible class in Python, with nothing in it:"
      ]
    },
    {
      "cell_type": "code",
      "metadata": {
        "id": "wkXvM_v-yOhE"
      },
      "source": [
        "#First we will understand __str__ and __repr__ function:\n",
        "import datetime"
      ],
      "execution_count": 1,
      "outputs": []
    },
    {
      "cell_type": "code",
      "metadata": {
        "id": "4ndW7wNUyXcK"
      },
      "source": [
        "today= datetime.date.today()"
      ],
      "execution_count": 2,
      "outputs": []
    },
    {
      "cell_type": "code",
      "metadata": {
        "colab": {
          "base_uri": "https://localhost:8080/",
          "height": 35
        },
        "id": "gawEsb3dydwe",
        "outputId": "b1906780-25f3-4c5d-a06b-2dd692231344"
      },
      "source": [
        "str(today)"
      ],
      "execution_count": 3,
      "outputs": [
        {
          "output_type": "execute_result",
          "data": {
            "application/vnd.google.colaboratory.intrinsic+json": {
              "type": "string"
            },
            "text/plain": [
              "'2021-10-02'"
            ]
          },
          "metadata": {},
          "execution_count": 3
        }
      ]
    },
    {
      "cell_type": "code",
      "metadata": {
        "colab": {
          "base_uri": "https://localhost:8080/"
        },
        "id": "P0kKxiCIys1L",
        "outputId": "09b91917-bdbe-4f9d-abfd-a67b88f5874d"
      },
      "source": [
        "today"
      ],
      "execution_count": 4,
      "outputs": [
        {
          "output_type": "execute_result",
          "data": {
            "text/plain": [
              "datetime.date(2021, 10, 2)"
            ]
          },
          "metadata": {},
          "execution_count": 4
        }
      ]
    },
    {
      "cell_type": "code",
      "metadata": {
        "colab": {
          "base_uri": "https://localhost:8080/",
          "height": 35
        },
        "id": "UKYEYwg-ygTO",
        "outputId": "9674071f-9cc5-4260-f848-349b3f4bd367"
      },
      "source": [
        "repr(today)"
      ],
      "execution_count": 5,
      "outputs": [
        {
          "output_type": "execute_result",
          "data": {
            "application/vnd.google.colaboratory.intrinsic+json": {
              "type": "string"
            },
            "text/plain": [
              "'datetime.date(2021, 10, 2)'"
            ]
          },
          "metadata": {},
          "execution_count": 5
        }
      ]
    },
    {
      "cell_type": "code",
      "metadata": {
        "colab": {
          "base_uri": "https://localhost:8080/"
        },
        "id": "pj9Gwyj0ylAI",
        "outputId": "e14b02fe-97bc-4cab-e787-a131767456fa"
      },
      "source": [
        "today"
      ],
      "execution_count": 6,
      "outputs": [
        {
          "output_type": "execute_result",
          "data": {
            "text/plain": [
              "datetime.date(2021, 10, 2)"
            ]
          },
          "metadata": {},
          "execution_count": 6
        }
      ]
    },
    {
      "cell_type": "code",
      "metadata": {
        "id": "atWyVN2FzAXY"
      },
      "source": [
        "#__str__ is easy to read and for human consumption.\n",
        "#__repr__ is unambiguous and useful for backend operaations."
      ],
      "execution_count": 7,
      "outputs": []
    },
    {
      "cell_type": "code",
      "metadata": {
        "id": "rza5UthNzeAz"
      },
      "source": [
        "class Car:\n",
        "  def __init__(self, color, mileage):\n",
        "    self.color= color\n",
        "    self.mileage= mileage\n",
        "  \n",
        "  def __str__(self):\n",
        "    return 'Car(Color: {self.color}, Mileage: {self.mileage})'.format(self=self)"
      ],
      "execution_count": 8,
      "outputs": []
    },
    {
      "cell_type": "code",
      "metadata": {
        "id": "BIqxQJhm17Vl"
      },
      "source": [
        "my_car= Car('red', 55)"
      ],
      "execution_count": 9,
      "outputs": []
    },
    {
      "cell_type": "code",
      "metadata": {
        "colab": {
          "base_uri": "https://localhost:8080/"
        },
        "id": "APaEfqaj2Npq",
        "outputId": "2b161589-1541-4f29-f88a-edcee0607f14"
      },
      "source": [
        "print(my_car)"
      ],
      "execution_count": 10,
      "outputs": [
        {
          "output_type": "stream",
          "name": "stdout",
          "text": [
            "Car(Color: red, Mileage: 55)\n"
          ]
        }
      ]
    },
    {
      "cell_type": "code",
      "metadata": {
        "colab": {
          "base_uri": "https://localhost:8080/"
        },
        "id": "-blU1jcF4lsu",
        "outputId": "03a4140e-6159-4424-e757-799c3846ce38"
      },
      "source": [
        "my_car"
      ],
      "execution_count": 11,
      "outputs": [
        {
          "output_type": "execute_result",
          "data": {
            "text/plain": [
              "<__main__.Car at 0x7fee5b276490>"
            ]
          },
          "metadata": {},
          "execution_count": 11
        }
      ]
    },
    {
      "cell_type": "code",
      "metadata": {
        "colab": {
          "base_uri": "https://localhost:8080/",
          "height": 35
        },
        "id": "Y8m6DcP52UTn",
        "outputId": "59a1a6c3-b923-4de1-bc0f-75bae9b9d765"
      },
      "source": [
        "str(my_car)"
      ],
      "execution_count": 12,
      "outputs": [
        {
          "output_type": "execute_result",
          "data": {
            "application/vnd.google.colaboratory.intrinsic+json": {
              "type": "string"
            },
            "text/plain": [
              "'Car(Color: red, Mileage: 55)'"
            ]
          },
          "metadata": {},
          "execution_count": 12
        }
      ]
    },
    {
      "cell_type": "code",
      "metadata": {
        "colab": {
          "base_uri": "https://localhost:8080/",
          "height": 35
        },
        "id": "nQ8TvCw32lpj",
        "outputId": "b7101826-8ccc-4b2f-c01d-b8b165931e8b"
      },
      "source": [
        "repr(my_car)"
      ],
      "execution_count": 13,
      "outputs": [
        {
          "output_type": "execute_result",
          "data": {
            "application/vnd.google.colaboratory.intrinsic+json": {
              "type": "string"
            },
            "text/plain": [
              "'<__main__.Car object at 0x7fee5b276490>'"
            ]
          },
          "metadata": {},
          "execution_count": 13
        }
      ]
    },
    {
      "cell_type": "code",
      "metadata": {
        "id": "R8R2BCRt2qDa"
      },
      "source": [
        "class Car:\n",
        "  def __init__(self, color, mileage):\n",
        "    self.color= color\n",
        "    self.mileage= mileage\n",
        "  \n",
        "  def __repr__(self):\n",
        "    return 'Car(Color: {self.color}, Mileage: {self.mileage})'.format(self=self)"
      ],
      "execution_count": 14,
      "outputs": []
    },
    {
      "cell_type": "code",
      "metadata": {
        "id": "r5RHbrfO38pL"
      },
      "source": [
        "my_car= Car('blue', 63)"
      ],
      "execution_count": 15,
      "outputs": []
    },
    {
      "cell_type": "code",
      "metadata": {
        "colab": {
          "base_uri": "https://localhost:8080/"
        },
        "id": "77ah7TfB3_o6",
        "outputId": "56e37399-b329-4255-dd55-b79ad8380cb7"
      },
      "source": [
        "print(my_car)"
      ],
      "execution_count": 16,
      "outputs": [
        {
          "output_type": "stream",
          "name": "stdout",
          "text": [
            "Car(Color: blue, Mileage: 63)\n"
          ]
        }
      ]
    },
    {
      "cell_type": "code",
      "metadata": {
        "colab": {
          "base_uri": "https://localhost:8080/"
        },
        "id": "sc9C1HJQ4eMz",
        "outputId": "a2b82975-e92e-4dc3-8331-34f52f895b04"
      },
      "source": [
        "my_car"
      ],
      "execution_count": 17,
      "outputs": [
        {
          "output_type": "execute_result",
          "data": {
            "text/plain": [
              "Car(Color: blue, Mileage: 63)"
            ]
          },
          "metadata": {},
          "execution_count": 17
        }
      ]
    },
    {
      "cell_type": "code",
      "metadata": {
        "id": "uUAWfscluV7v"
      },
      "source": [
        "class User:\n",
        "  def __init__(self, username, name, email):\n",
        "    self.username= username\n",
        "    self.name= name\n",
        "    self.email= email\n",
        "\n",
        "  def __repr__(self):\n",
        "    #return \"User(username='{}', name='{}', email='{}')\".format(self.username, self.name, self.email)\n",
        "    return ('User(username={}, name={}, email={})').format(self.username, self.name, self.email)"
      ],
      "execution_count": 18,
      "outputs": []
    },
    {
      "cell_type": "code",
      "metadata": {
        "id": "vA3JeQ94vg-S"
      },
      "source": [
        "fenil= User('ft', 'fenil', 'ft@gmail.com')  "
      ],
      "execution_count": 19,
      "outputs": []
    },
    {
      "cell_type": "code",
      "metadata": {
        "colab": {
          "base_uri": "https://localhost:8080/"
        },
        "id": "Fy7_auXgcZmk",
        "outputId": "517c3aa5-d48e-468a-c00c-863c04c725ea"
      },
      "source": [
        "fenil"
      ],
      "execution_count": 20,
      "outputs": [
        {
          "output_type": "execute_result",
          "data": {
            "text/plain": [
              "User(username=ft, name=fenil, email=ft@gmail.com)"
            ]
          },
          "metadata": {},
          "execution_count": 20
        }
      ]
    },
    {
      "cell_type": "markdown",
      "metadata": {
        "id": "h6_Nu9dBgi5F"
      },
      "source": [
        "## 2. Come up with some example inputs & outputs. \n",
        "\n",
        "Let's create some sample user profiles that we can use to test our functions once we implement them."
      ]
    },
    {
      "cell_type": "code",
      "metadata": {
        "id": "T94dyd83e4oV"
      },
      "source": [
        "ankur= User('as', 'ankur', 'as@gmail.com')\n",
        "abhi= User('ab', 'abhi', 'ap@gmail.com')\n",
        "mayank= User('mk', 'mayank', 'mk@gmail.com')\n",
        "karan= User('kp', 'karan', 'kp@gmail.com')\n",
        "keyur= User('ks', 'keyur', 'ks@gmail.com')\n",
        "vinay= User('vp', 'vinay', 'vp@gmail.com')"
      ],
      "execution_count": 21,
      "outputs": []
    },
    {
      "cell_type": "code",
      "metadata": {
        "id": "1IObwiYWfiP_"
      },
      "source": [
        "users= [fenil, ankur, abhi, mayank, karan, keyur, vinay]"
      ],
      "execution_count": 22,
      "outputs": []
    },
    {
      "cell_type": "code",
      "metadata": {
        "colab": {
          "base_uri": "https://localhost:8080/"
        },
        "id": "_0qYNlhAfpl8",
        "outputId": "295aacb1-6ab7-4889-9014-916fef625c2e"
      },
      "source": [
        "users"
      ],
      "execution_count": 23,
      "outputs": [
        {
          "output_type": "execute_result",
          "data": {
            "text/plain": [
              "[User(username=ft, name=fenil, email=ft@gmail.com),\n",
              " User(username=as, name=ankur, email=as@gmail.com),\n",
              " User(username=ab, name=abhi, email=ap@gmail.com),\n",
              " User(username=mk, name=mayank, email=mk@gmail.com),\n",
              " User(username=kp, name=karan, email=kp@gmail.com),\n",
              " User(username=ks, name=keyur, email=ks@gmail.com),\n",
              " User(username=vp, name=vinay, email=vp@gmail.com)]"
            ]
          },
          "metadata": {},
          "execution_count": 23
        }
      ]
    },
    {
      "cell_type": "markdown",
      "metadata": {
        "id": "FD4uy0wigp10"
      },
      "source": [
        "## 3. Come up with a correct solution. State it in plain English.\n",
        "\n",
        "Here's a simple and easy solution to the problem: we store the `User` objects in a list sorted by usernames. \n",
        "\n",
        "The various functions can be implemented as follows:\n",
        "\n",
        "1. **Insert**: Loop through the list and add the new user at a position that keeps the list sorted.\n",
        "2. **Find**: Loop through the list and find the user object with the username matching the query.\n",
        "3. **Update**: Loop through the list, find the user object matching the query and update the details\n",
        "4. **List**: Return the list of user objects.\n",
        "\n",
        "We can use the fact usernames, which are are strings can be compared using the `<`, `>` and `==` operators in Python."
      ]
    },
    {
      "cell_type": "code",
      "metadata": {
        "colab": {
          "base_uri": "https://localhost:8080/"
        },
        "id": "eaObiV5ahnt5",
        "outputId": "374cf650-3aea-4b70-e9fa-8d9bedd10f02"
      },
      "source": [
        "'v' > 'f'"
      ],
      "execution_count": 24,
      "outputs": [
        {
          "output_type": "execute_result",
          "data": {
            "text/plain": [
              "True"
            ]
          },
          "metadata": {},
          "execution_count": 24
        }
      ]
    },
    {
      "cell_type": "markdown",
      "metadata": {
        "id": "IyG-zjOXh44M"
      },
      "source": [
        "## 4. Implement the solution and test it using example inputs.\n"
      ]
    },
    {
      "cell_type": "code",
      "metadata": {
        "id": "twgGIvddhwIW"
      },
      "source": [
        "class Userdatabase:\n",
        "  def __init__(self):\n",
        "    self.users=[]\n",
        "  \n",
        "  def insert_user(self, new_user):\n",
        "    i=0\n",
        "    while i<len(self.users):\n",
        "      if new_user.name<self.users[i].name:\n",
        "        break\n",
        "      i+=1\n",
        "    self.users.insert(i, new_user)\n",
        "  \n",
        "  def find_user(self, name):\n",
        "    for i in range(0, len(self.users)):\n",
        "      if name== self.users[i].name:\n",
        "        return self.users[i]\n",
        "      \n",
        "  def update_user(self, user):\n",
        "    target= self.find_user(user.name)\n",
        "    target.username= user.username\n",
        "    target.email= user.email\n",
        "    return target\n",
        "  \n",
        "  def list_all(self):\n",
        "    return self.users"
      ],
      "execution_count": 25,
      "outputs": []
    },
    {
      "cell_type": "code",
      "metadata": {
        "id": "jxAcI1jNmAnV"
      },
      "source": [
        "database= Userdatabase()"
      ],
      "execution_count": 26,
      "outputs": []
    },
    {
      "cell_type": "code",
      "metadata": {
        "id": "m6OewMKXuMMJ"
      },
      "source": [
        "database.insert_user(vinay)\n",
        "database.insert_user(abhi)\n",
        "database.insert_user(mayank)"
      ],
      "execution_count": 27,
      "outputs": []
    },
    {
      "cell_type": "code",
      "metadata": {
        "colab": {
          "base_uri": "https://localhost:8080/"
        },
        "id": "dn637lE3uAMU",
        "outputId": "c75f004e-705e-4673-dcac-ec51ec754c55"
      },
      "source": [
        "database.list_all()"
      ],
      "execution_count": 28,
      "outputs": [
        {
          "output_type": "execute_result",
          "data": {
            "text/plain": [
              "[User(username=ab, name=abhi, email=ap@gmail.com),\n",
              " User(username=mk, name=mayank, email=mk@gmail.com),\n",
              " User(username=vp, name=vinay, email=vp@gmail.com)]"
            ]
          },
          "metadata": {},
          "execution_count": 28
        }
      ]
    },
    {
      "cell_type": "code",
      "metadata": {
        "id": "t_tBio9JuH-S"
      },
      "source": [
        "database.insert_user(fenil)"
      ],
      "execution_count": 29,
      "outputs": []
    },
    {
      "cell_type": "code",
      "metadata": {
        "colab": {
          "base_uri": "https://localhost:8080/"
        },
        "id": "rK6dHiLt1de3",
        "outputId": "b6d8a77d-7faa-442b-b44b-27910cbbad0b"
      },
      "source": [
        "database.list_all()"
      ],
      "execution_count": 30,
      "outputs": [
        {
          "output_type": "execute_result",
          "data": {
            "text/plain": [
              "[User(username=ab, name=abhi, email=ap@gmail.com),\n",
              " User(username=ft, name=fenil, email=ft@gmail.com),\n",
              " User(username=mk, name=mayank, email=mk@gmail.com),\n",
              " User(username=vp, name=vinay, email=vp@gmail.com)]"
            ]
          },
          "metadata": {},
          "execution_count": 30
        }
      ]
    },
    {
      "cell_type": "code",
      "metadata": {
        "id": "6xPMk4aD1iTL"
      },
      "source": [
        "f_user= database.find_user('fenil')"
      ],
      "execution_count": 31,
      "outputs": []
    },
    {
      "cell_type": "code",
      "metadata": {
        "colab": {
          "base_uri": "https://localhost:8080/"
        },
        "id": "yOqiBiMM2XGm",
        "outputId": "dda0e282-07e9-4086-ff3f-529d088fa6df"
      },
      "source": [
        "f_user"
      ],
      "execution_count": 32,
      "outputs": [
        {
          "output_type": "execute_result",
          "data": {
            "text/plain": [
              "User(username=ft, name=fenil, email=ft@gmail.com)"
            ]
          },
          "metadata": {},
          "execution_count": 32
        }
      ]
    },
    {
      "cell_type": "code",
      "metadata": {
        "id": "wahbCojE249z",
        "colab": {
          "base_uri": "https://localhost:8080/"
        },
        "outputId": "57eb7d3f-d286-47bc-8746-f67a8d79a3ac"
      },
      "source": [
        "u_user= database.update_user(User(username='ft22', name='fenil', email='ft2212@gmail.com'))\n",
        "u_user"
      ],
      "execution_count": 33,
      "outputs": [
        {
          "output_type": "execute_result",
          "data": {
            "text/plain": [
              "User(username=ft22, name=fenil, email=ft2212@gmail.com)"
            ]
          },
          "metadata": {},
          "execution_count": 33
        }
      ]
    },
    {
      "cell_type": "code",
      "metadata": {
        "colab": {
          "base_uri": "https://localhost:8080/"
        },
        "id": "YqtS1ivtm8ab",
        "outputId": "b0c802a2-0fff-477e-e0cd-3d7093027c86"
      },
      "source": [
        "f_user"
      ],
      "execution_count": 34,
      "outputs": [
        {
          "output_type": "execute_result",
          "data": {
            "text/plain": [
              "User(username=ft22, name=fenil, email=ft2212@gmail.com)"
            ]
          },
          "metadata": {},
          "execution_count": 34
        }
      ]
    },
    {
      "cell_type": "markdown",
      "metadata": {
        "id": "b9QFidMQ4lvl"
      },
      "source": [
        "## 5. Analyze the algorithm's complexity and identify inefficiencies\n",
        "\n",
        "The operations `insert`, `find`, `update` involves iterating over a list of users, in the worst case, they may take up to `N` iterations to return a result, where `N` is the total number of users. `list_all` however, simply returns the existing internal list of users. \n",
        "\n",
        "Thus, the time complexities of the various operations are:\n",
        "\n",
        "1. Insert: **O(N)**\n",
        "2. Find: **O(N)**\n",
        "3. Update: **O(N)**\n",
        "4. List: **O(1)**\n",
        "\n",
        "To get a sense how long each function might take if there are 100 million users on the platform, we can simply run an `for` or `while` loop on 10 million numbers.\n",
        "\n",
        "**Space complexity of each operation is O(1).**"
      ]
    },
    {
      "cell_type": "markdown",
      "metadata": {
        "id": "r-YEou6r6Zxa"
      },
      "source": [
        "## 6. Apply the right technique to overcome the inefficiency\n",
        "\n",
        "We can limit the number of iterations required for common operations like find, insert and update by organizing our data in the following structure, called a **binary tree**:\n",
        "\n",
        "<img src=\"https://i.imgur.com/lVqP63n.png\" width=\"520\">\n",
        "\n",
        "\n",
        "\n",
        "It's called a tree because it vaguely like an inverted tree trunk with branches. \n",
        "* The word \"binary\" indicates that each \"node\" in the tree can have at most 2 children (left or right). \n",
        "* Nodes can have 0, 1 or 2 children. Nodes that do not have any children are sometimes also called \"leaves\".\n",
        "* The single node at the top is called the \"root\" node, and it typically where operations like search, insertion etc. begin.\n",
        "\n",
        "<img src=\"https://i.imgur.com/TZHMKJr.png\" width=\"400\">"
      ]
    },
    {
      "cell_type": "markdown",
      "metadata": {
        "id": "YH2PAZBD6bIW"
      },
      "source": [
        "## Balanced Binary Search Trees\n",
        "\n",
        "<img src=\"https://i.imgur.com/Mqef5b3.png\" width=\"520\">\n",
        "\n",
        "For our use case, we require the binary tree to have some additional properties:\n",
        "\n",
        "1. **Keys and Values**: Each node of the tree stores a key (a username) and a value (a `User` object). Only keys are shown in the picture above for brevity. A binary tree where nodes have both a key and a value is often referred to as a **map** or **treemap** (because it maps keys to values).\n",
        "2. **Binary Search Tree**: The *left subtree* of any node only contains nodes with keys that are lexicographically smaller than the node's key, and the *right subtree* of any node only contains nodes with keys that lexicographically larger than the node's key. A tree that satisfies this property is called a **binary search trees**, and it's easy to locate a specific key by traversing a single path down from the root note.\n",
        "3. **Balanced Tree**: The tree is **balanced** i.e. it does not skew too heavily to one side or the other. The left and right subtrees of any node shouldn't differ in height/depth by more than 1 level.\n",
        "\n",
        "\n",
        "### Height of a Binary Tree\n",
        "\n",
        "The number of levels in a tree is called its height. As you can tell from the picture above, each level of a tree contains twice as many nodes as the previous level. \n",
        "\n",
        "For a tree of height `k`, here's a list of the number of nodes at each level:\n",
        "\n",
        "Level 0: `1`\n",
        "\n",
        "Level 1: `2`\n",
        "\n",
        "Level 2: `4` i.e. `2^2`\n",
        "\n",
        "Level 3: `8` i.e. `2^3`\n",
        "\n",
        "...\n",
        "\n",
        "Level k-1: `2^(k-1)`\n",
        "\n",
        "If the total number of nodes in the tree is `N`, then it follows that\n",
        "\n",
        "```\n",
        "N = 1 + 2^1 + 2^2 + 2^3 + ... + 2^(k-1)\n",
        "```\n",
        "\n",
        "\n",
        "We can simplify this equation by adding `1` on each side:\n",
        "\n",
        "```\n",
        "N + 1 = 1 + 1 + 2^1 + 2^2 + 2^3 + ... + 2^(k-1) \n",
        "\n",
        "N + 1 = 2^1 + 2^1 + 2^2+ 2^3 + ... + 2^(k-1) \n",
        "\n",
        "N + 1 = = 2^2 + 2^2 + 2^3 + ... + 2^(k-1)\n",
        "\n",
        "N + 1 = = 2^3 + 2^3 + ... + 2^(k-1)\n",
        "\n",
        "...\n",
        "\n",
        "N + 1 = 2^(k-1) + 2^(k-1)\n",
        "\n",
        "N + 1 = 2^k\n",
        "\n",
        "k = log(N + 1) <= log(N) + 1 \n",
        "\n",
        "```\n",
        "\n",
        "Thus, to store `N` records we require a balanced binary search tree (BST) of height no larger than `log(N) + 1`. This is a very useful property, in combination with the fact that nodes are arranged in a way that makes it easy to find a specific key by following a single path down from the root. \n",
        "\n",
        "As we'll see soon, the `insert`, `find` and `update` operations in a balanced BST have time complexity `O(log N)` since they all involve traversing a single path down from the root of the tree."
      ]
    },
    {
      "cell_type": "markdown",
      "metadata": {
        "id": "ah2Xoqwn9eUk"
      },
      "source": [
        "## Binary Tree\n",
        "\n",
        "> **QUESTION**: Implement a binary tree using Python, and show its usage with some examples.\n",
        "\n",
        "To begin, we'll create simple binary tree (without any of the additional properties) containing numbers as keys within nodes. Here's an example:\n",
        "\n",
        "<img src=\"https://i.imgur.com/hg2ZG5h.png\" width=\"240\">\n",
        "\n",
        "Here's a simple class representing a node within a binary tree."
      ]
    },
    {
      "cell_type": "code",
      "metadata": {
        "id": "slrpKDXO4Crz"
      },
      "source": [
        "class TreeNode:\n",
        "  def __init__(self, key):\n",
        "    self.key= key\n",
        "    self.left= None\n",
        "    self.right= None"
      ],
      "execution_count": 35,
      "outputs": []
    },
    {
      "cell_type": "code",
      "metadata": {
        "id": "n3emi0w5954r"
      },
      "source": [
        "node0= TreeNode(3)\n",
        "node1= TreeNode(4)\n",
        "node2= TreeNode(5)"
      ],
      "execution_count": 36,
      "outputs": []
    },
    {
      "cell_type": "code",
      "metadata": {
        "colab": {
          "base_uri": "https://localhost:8080/"
        },
        "id": "zrlVt_KJ-F68",
        "outputId": "f6030651-76cc-46fe-d3d3-a28720c692cc"
      },
      "source": [
        "node0.key"
      ],
      "execution_count": 37,
      "outputs": [
        {
          "output_type": "execute_result",
          "data": {
            "text/plain": [
              "3"
            ]
          },
          "metadata": {},
          "execution_count": 37
        }
      ]
    },
    {
      "cell_type": "code",
      "metadata": {
        "id": "6DrOnpXh-Moy"
      },
      "source": [
        "#We can connect the nodes by setting the .left and .right properties of the root node.\n",
        "node0.left= node1\n",
        "node0.right= node2"
      ],
      "execution_count": 38,
      "outputs": []
    },
    {
      "cell_type": "markdown",
      "metadata": {
        "id": "IDHxXpyt-zmB"
      },
      "source": [
        "We can create a new variable *tree* which simply points to the root node, and use it to access all the nodes within the tree.\n",
        "\n",
        "<img src=\"https://i.imgur.com/hg2ZG5h.png\" width=\"240\">"
      ]
    },
    {
      "cell_type": "code",
      "metadata": {
        "id": "XBpsTiXk-kyD"
      },
      "source": [
        "tree= node0"
      ],
      "execution_count": 39,
      "outputs": []
    },
    {
      "cell_type": "code",
      "metadata": {
        "colab": {
          "base_uri": "https://localhost:8080/"
        },
        "id": "Aqnscwu0-9iG",
        "outputId": "1aaaed52-9774-4011-ce11-59304dea9046"
      },
      "source": [
        "tree.key"
      ],
      "execution_count": 40,
      "outputs": [
        {
          "output_type": "execute_result",
          "data": {
            "text/plain": [
              "3"
            ]
          },
          "metadata": {},
          "execution_count": 40
        }
      ]
    },
    {
      "cell_type": "code",
      "metadata": {
        "colab": {
          "base_uri": "https://localhost:8080/"
        },
        "id": "2KiVr5sz_BUq",
        "outputId": "26a4fce4-c78e-4bcd-f6fb-35d38858afca"
      },
      "source": [
        "tree.left.key"
      ],
      "execution_count": 41,
      "outputs": [
        {
          "output_type": "execute_result",
          "data": {
            "text/plain": [
              "4"
            ]
          },
          "metadata": {},
          "execution_count": 41
        }
      ]
    },
    {
      "cell_type": "code",
      "metadata": {
        "colab": {
          "base_uri": "https://localhost:8080/"
        },
        "id": "DEP03CJF_Dfs",
        "outputId": "d5215fbd-23ae-4ab7-87f8-23900b6cb458"
      },
      "source": [
        "tree.right.key"
      ],
      "execution_count": 42,
      "outputs": [
        {
          "output_type": "execute_result",
          "data": {
            "text/plain": [
              "5"
            ]
          },
          "metadata": {},
          "execution_count": 42
        }
      ]
    },
    {
      "cell_type": "markdown",
      "metadata": {
        "id": "y7Rppg_u_pCB"
      },
      "source": [
        "Going forward, we'll use the term \"tree\" to refer to the root node. The term \"node\" can refer to any node in a tree, not necessarily the root.\n",
        "\n",
        "**Exercise:** Create the following binary tree using the `TreeNode` class defined above.\n",
        "\n",
        "<img src=\"https://i.imgur.com/d7djJAf.png\" width=\"540\">"
      ]
    },
    {
      "cell_type": "code",
      "metadata": {
        "id": "J5yqQ8km_tQ7"
      },
      "source": [
        "node0= TreeNode(2)\n",
        "node1= TreeNode(3)\n",
        "node2= TreeNode(5)\n",
        "node3= TreeNode(1)\n",
        "node4= TreeNode(3)\n",
        "node5= TreeNode(7)\n",
        "node6= TreeNode(4)\n",
        "node7= TreeNode(6)\n",
        "node8= TreeNode(8)"
      ],
      "execution_count": 43,
      "outputs": []
    },
    {
      "cell_type": "code",
      "metadata": {
        "id": "RMg7Z_ldAKY6"
      },
      "source": [
        "tree= node0"
      ],
      "execution_count": 44,
      "outputs": []
    },
    {
      "cell_type": "code",
      "metadata": {
        "colab": {
          "base_uri": "https://localhost:8080/"
        },
        "id": "BTMgWdmkAMkR",
        "outputId": "b2f87ead-8576-4fa8-b1d7-0a78da139fdb"
      },
      "source": [
        "tree.key"
      ],
      "execution_count": 45,
      "outputs": [
        {
          "output_type": "execute_result",
          "data": {
            "text/plain": [
              "2"
            ]
          },
          "metadata": {},
          "execution_count": 45
        }
      ]
    },
    {
      "cell_type": "code",
      "metadata": {
        "id": "cJWkCqzCAPDl"
      },
      "source": [
        "node0.left= node1\n",
        "node0.right= node2"
      ],
      "execution_count": 46,
      "outputs": []
    },
    {
      "cell_type": "code",
      "metadata": {
        "colab": {
          "base_uri": "https://localhost:8080/"
        },
        "id": "4ncHtG-OAVbV",
        "outputId": "c649a3b1-33a3-401e-cff2-49e0d2d74cc8"
      },
      "source": [
        "tree.left.key"
      ],
      "execution_count": 47,
      "outputs": [
        {
          "output_type": "execute_result",
          "data": {
            "text/plain": [
              "3"
            ]
          },
          "metadata": {},
          "execution_count": 47
        }
      ]
    },
    {
      "cell_type": "code",
      "metadata": {
        "colab": {
          "base_uri": "https://localhost:8080/"
        },
        "id": "iz5lA4YtAgDP",
        "outputId": "4795ba37-ab64-439a-c1f1-472a90dedd93"
      },
      "source": [
        "tree.right.key"
      ],
      "execution_count": 48,
      "outputs": [
        {
          "output_type": "execute_result",
          "data": {
            "text/plain": [
              "5"
            ]
          },
          "metadata": {},
          "execution_count": 48
        }
      ]
    },
    {
      "cell_type": "code",
      "metadata": {
        "id": "hLFynPZVBclX"
      },
      "source": [
        "node1.left= node3"
      ],
      "execution_count": 49,
      "outputs": []
    },
    {
      "cell_type": "code",
      "metadata": {
        "colab": {
          "base_uri": "https://localhost:8080/"
        },
        "id": "UmLH6LLeBjga",
        "outputId": "fcdc282f-beba-470c-e885-d5c9568e6e99"
      },
      "source": [
        "tree.left.left.key"
      ],
      "execution_count": 50,
      "outputs": [
        {
          "output_type": "execute_result",
          "data": {
            "text/plain": [
              "1"
            ]
          },
          "metadata": {},
          "execution_count": 50
        }
      ]
    },
    {
      "cell_type": "code",
      "metadata": {
        "id": "bWqmIf8rBnfI"
      },
      "source": [
        "node2.left= node4\n",
        "node2.right= node5"
      ],
      "execution_count": 51,
      "outputs": []
    },
    {
      "cell_type": "code",
      "metadata": {
        "colab": {
          "base_uri": "https://localhost:8080/"
        },
        "id": "zC54h3iJB5Bj",
        "outputId": "776c4d2a-2eb4-42be-e1e2-ddb2e2d4b297"
      },
      "source": [
        "tree.right.left.key"
      ],
      "execution_count": 52,
      "outputs": [
        {
          "output_type": "execute_result",
          "data": {
            "text/plain": [
              "3"
            ]
          },
          "metadata": {},
          "execution_count": 52
        }
      ]
    },
    {
      "cell_type": "code",
      "metadata": {
        "colab": {
          "base_uri": "https://localhost:8080/"
        },
        "id": "vc-3AWg8B9dN",
        "outputId": "41308ee0-86d5-45bb-827a-03c849db244f"
      },
      "source": [
        "tree.right.right.key"
      ],
      "execution_count": 53,
      "outputs": [
        {
          "output_type": "execute_result",
          "data": {
            "text/plain": [
              "7"
            ]
          },
          "metadata": {},
          "execution_count": 53
        }
      ]
    },
    {
      "cell_type": "code",
      "metadata": {
        "id": "fmHzijRWCURL"
      },
      "source": [
        "node4.right= node6"
      ],
      "execution_count": 54,
      "outputs": []
    },
    {
      "cell_type": "code",
      "metadata": {
        "colab": {
          "base_uri": "https://localhost:8080/"
        },
        "id": "5I-6Itw6CdmY",
        "outputId": "17af04be-4d1c-4134-c624-b340825f9283"
      },
      "source": [
        "tree.right.left.right.key"
      ],
      "execution_count": 55,
      "outputs": [
        {
          "output_type": "execute_result",
          "data": {
            "text/plain": [
              "4"
            ]
          },
          "metadata": {},
          "execution_count": 55
        }
      ]
    },
    {
      "cell_type": "code",
      "metadata": {
        "id": "ATNmF2bvCiMF"
      },
      "source": [
        "node5.left =node7\n",
        "node5.right= node8"
      ],
      "execution_count": 56,
      "outputs": []
    },
    {
      "cell_type": "code",
      "metadata": {
        "colab": {
          "base_uri": "https://localhost:8080/"
        },
        "id": "uqEOu8OgCpSX",
        "outputId": "988f879f-0588-491e-cd5b-1607055169b7"
      },
      "source": [
        "tree.right.right.left.key"
      ],
      "execution_count": 57,
      "outputs": [
        {
          "output_type": "execute_result",
          "data": {
            "text/plain": [
              "6"
            ]
          },
          "metadata": {},
          "execution_count": 57
        }
      ]
    },
    {
      "cell_type": "code",
      "metadata": {
        "colab": {
          "base_uri": "https://localhost:8080/"
        },
        "id": "Id_QZ_IBC0dE",
        "outputId": "f425d7f6-73ab-4ff4-8179-b921aa740928"
      },
      "source": [
        "tree.right.right.right.key"
      ],
      "execution_count": 58,
      "outputs": [
        {
          "output_type": "execute_result",
          "data": {
            "text/plain": [
              "8"
            ]
          },
          "metadata": {},
          "execution_count": 58
        }
      ]
    },
    {
      "cell_type": "markdown",
      "metadata": {
        "id": "3Tx-rWmeEXlo"
      },
      "source": [
        "It's a bit inconvenient to create a tree by manually connecting all the nodes. Let's write a helper function which can convert a tuple with the structure `( left_subtree, key, right_subtree)` (where `left_subtree` and `right_subtree` are themselves tuples) into binary tree.\n",
        "\n",
        "Here's an tuple representing the tree shown above:"
      ]
    },
    {
      "cell_type": "code",
      "metadata": {
        "id": "w62OlVbyC4DG"
      },
      "source": [
        "tree_tuple = ((1,3,None), 2, ((None, 3, 4), 5, (6, 7, 8)))"
      ],
      "execution_count": 59,
      "outputs": []
    },
    {
      "cell_type": "code",
      "metadata": {
        "id": "beHkjuNDE00R"
      },
      "source": [
        "def parse_tuple(data):\n",
        "  print('data:', data)\n",
        "  if data is None:\n",
        "    node= None\n",
        "  elif isinstance(data, tuple) and len(data)==3:\n",
        "    node= TreeNode(data[1])\n",
        "    node.left= parse_tuple(data[0])\n",
        "    node.right= parse_tuple(data[2])\n",
        "  else:\n",
        "    node= TreeNode(data)\n",
        "  return node"
      ],
      "execution_count": 60,
      "outputs": []
    },
    {
      "cell_type": "markdown",
      "metadata": {
        "id": "8WyNW95_IDPs"
      },
      "source": [
        "The `parse_tuple` creates a new root node when a tuple of size 3 as an the input. Interestingly, to create the left and right subtrees for the node, the `parse_tuple` function invokes itself. This technique is called _recursion_. The chain of _recursive_ calls ends when `parse_tuple` encounters a number or `None` as input. \n"
      ]
    },
    {
      "cell_type": "code",
      "metadata": {
        "colab": {
          "base_uri": "https://localhost:8080/"
        },
        "id": "64xNhTREIPJM",
        "outputId": "18638d32-a4b2-4cce-a4df-bdf82697792a"
      },
      "source": [
        "tree2= parse_tuple(((1,3,None),2,((None,3,4),5,(6,7,8))))"
      ],
      "execution_count": 61,
      "outputs": [
        {
          "output_type": "stream",
          "name": "stdout",
          "text": [
            "data: ((1, 3, None), 2, ((None, 3, 4), 5, (6, 7, 8)))\n",
            "data: (1, 3, None)\n",
            "data: 1\n",
            "data: None\n",
            "data: ((None, 3, 4), 5, (6, 7, 8))\n",
            "data: (None, 3, 4)\n",
            "data: None\n",
            "data: 4\n",
            "data: (6, 7, 8)\n",
            "data: 6\n",
            "data: 8\n"
          ]
        }
      ]
    },
    {
      "cell_type": "markdown",
      "metadata": {
        "id": "D8zn2jx2KdA5"
      },
      "source": [
        "Let's create another helper function to display all the keys in a tree-like structure for easier visualization."
      ]
    },
    {
      "cell_type": "code",
      "metadata": {
        "id": "a0JxBLLfJ7Bg"
      },
      "source": [
        "def display_keys(node, space='\\t', level=0):\n",
        "    # print(node.key if node else None, level)\n",
        "    \n",
        "    # If the node is empty\n",
        "    if node is None:\n",
        "        print(space*level + '∅')\n",
        "        return   \n",
        "    \n",
        "    # If the node is a leaf \n",
        "    if node.left is None and node.right is None:\n",
        "        print(space*level + str(node.key))\n",
        "        return\n",
        "    \n",
        "    # If the node has children\n",
        "    display_keys(node.right, space, level+1)\n",
        "    print(space*level + str(node.key))\n",
        "    display_keys(node.left,space, level+1)    "
      ],
      "execution_count": 62,
      "outputs": []
    },
    {
      "cell_type": "code",
      "metadata": {
        "colab": {
          "base_uri": "https://localhost:8080/"
        },
        "id": "ZuHe9ZdsKfrb",
        "outputId": "feeae8af-d5f5-4691-d54f-776e59b9063d"
      },
      "source": [
        "display_keys(tree2, '   ')"
      ],
      "execution_count": 63,
      "outputs": [
        {
          "output_type": "stream",
          "name": "stdout",
          "text": [
            "         8\n",
            "      7\n",
            "         6\n",
            "   5\n",
            "         4\n",
            "      3\n",
            "         ∅\n",
            "2\n",
            "      ∅\n",
            "   3\n",
            "      1\n"
          ]
        }
      ]
    },
    {
      "cell_type": "markdown",
      "metadata": {
        "id": "7ou9G7j0L7Qs"
      },
      "source": [
        "## Traversing a Binary Tree\n",
        "\n",
        "The following questions are frequently asked in coding interviews and assessments:\n",
        "\n",
        "> **QUESTION 3**: Write a function to perform the _inorder_ traversal of a binary tree.\n",
        "\n",
        "> **QUESTION 4**: Write a function to perform the _preorder_ traversal of a binary tree.\n",
        "\n",
        "> **QUESTION 5**: Write a function to perform the _postorder_ traversal of a binary tree.\n",
        "\n",
        "A *traversal* refers to the process of visiting each node of a tree exactly once. _Visiting a node_ generally refers to adding the node's key to a list. There are three ways to traverse a binary tree and return the list of visited keys: \n",
        "\n",
        "### Inorder traversal\n",
        "\n",
        "\n",
        "\n",
        "  1. Traverse the left subtree recursively inorder.\n",
        "  2. Traverse the current node.\n",
        "  3. Traverse the right subtree recursively inorder.\n",
        "\n",
        "\n",
        "<img src=\"https://i.imgur.com/KCXpMA9.png\" width=\"540\">\n",
        "\n",
        "\n",
        "### Preorder traversal\n",
        "\n",
        "  1. Traverse the current node.\n",
        "  2. Traverse the left subtree recursively preorder.\n",
        "  3. Traverse the right subtree recursively preorder.\n",
        "  \n",
        "<img src=\"https://i.imgur.com/2xrMUWP.png\" width=\"540\">\n",
        "\n",
        "\n",
        "Algorithm Postorder(tree)\n",
        "   1. Traverse the left subtree, i.e., call Postorder(left-subtree)\n",
        "   2. Traverse the right subtree, i.e., call Postorder(right-subtree)\n",
        "   3. Visit the root.\n",
        "\n"
      ]
    },
    {
      "cell_type": "markdown",
      "metadata": {
        "id": "5lGZBhEiOa_e"
      },
      "source": [
        "Depth First Traversals: \n",
        "1. Inorder (Left, Root, Right) : 1,3,2,3,4,5,6,7,8\n",
        "2. Preorder (Root, Left, Right) : 2,3.1,5,3,4,7,6,8\n",
        "3. Postorder (Left, Right, Root) : 1,3,4,3,6,8,7,5,2"
      ]
    },
    {
      "cell_type": "markdown",
      "metadata": {
        "id": "ekj5h7DXM5Dy"
      },
      "source": [
        "![image.png](data:image/png;base64,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)"
      ]
    },
    {
      "cell_type": "markdown",
      "metadata": {
        "id": "Zfk3gPiANCGB"
      },
      "source": [
        "Depth First Traversals: \n",
        "1. Inorder (Left, Root, Right) : 4 2 5 1 3 \n",
        "2. Preorder (Root, Left, Right) : 1 2 4 5 3 \n",
        "3. Postorder (Left, Right, Root) : 4 5 2 3 1"
      ]
    },
    {
      "cell_type": "code",
      "metadata": {
        "id": "DV2j08XeKtvu"
      },
      "source": [
        "def traverse_in_order(node):\n",
        "  if node is None:\n",
        "    return []\n",
        "  return (traverse_in_order(node.left) + [node.key] + traverse_in_order(node.right))"
      ],
      "execution_count": 64,
      "outputs": []
    },
    {
      "cell_type": "code",
      "metadata": {
        "colab": {
          "base_uri": "https://localhost:8080/"
        },
        "id": "m8zFEIl8zr4h",
        "outputId": "da4a2d1e-da51-4b3b-a6ca-24feac900ff1"
      },
      "source": [
        "tree= parse_tuple(((1,3,None),2,((None,3,4),5,(6,7,8))))"
      ],
      "execution_count": 65,
      "outputs": [
        {
          "output_type": "stream",
          "name": "stdout",
          "text": [
            "data: ((1, 3, None), 2, ((None, 3, 4), 5, (6, 7, 8)))\n",
            "data: (1, 3, None)\n",
            "data: 1\n",
            "data: None\n",
            "data: ((None, 3, 4), 5, (6, 7, 8))\n",
            "data: (None, 3, 4)\n",
            "data: None\n",
            "data: 4\n",
            "data: (6, 7, 8)\n",
            "data: 6\n",
            "data: 8\n"
          ]
        }
      ]
    },
    {
      "cell_type": "code",
      "metadata": {
        "colab": {
          "base_uri": "https://localhost:8080/"
        },
        "id": "j-X6IZwxz1r0",
        "outputId": "fdfd23a3-8524-4945-aef0-8fe602563743"
      },
      "source": [
        "display_keys(tree, '  ')"
      ],
      "execution_count": 66,
      "outputs": [
        {
          "output_type": "stream",
          "name": "stdout",
          "text": [
            "      8\n",
            "    7\n",
            "      6\n",
            "  5\n",
            "      4\n",
            "    3\n",
            "      ∅\n",
            "2\n",
            "    ∅\n",
            "  3\n",
            "    1\n"
          ]
        }
      ]
    },
    {
      "cell_type": "code",
      "metadata": {
        "colab": {
          "base_uri": "https://localhost:8080/"
        },
        "id": "kqCLGx8Yz-uX",
        "outputId": "66c1aca5-2b04-41c6-ab41-36fb16940964"
      },
      "source": [
        "traverse_in_order(tree)"
      ],
      "execution_count": 67,
      "outputs": [
        {
          "output_type": "execute_result",
          "data": {
            "text/plain": [
              "[1, 3, 2, 3, 4, 5, 6, 7, 8]"
            ]
          },
          "metadata": {},
          "execution_count": 67
        }
      ]
    },
    {
      "cell_type": "code",
      "metadata": {
        "id": "-QQrXvSZ6Qt-"
      },
      "source": [
        "#InOrder Traversal Program:\n",
        "class Tree(object):\n",
        "  def __init__(self, key):\n",
        "    self.key= key\n",
        "    self.left= None\n",
        "    self.right= None\n",
        "\n",
        "class Solution(object):\n",
        "  def InOrderTraversal(self, node):\n",
        "    if node is None:\n",
        "      return []\n",
        "    return self.InOrderTraversal(node.left) + [node.key] + self.InOrderTraversal(node.right) "
      ],
      "execution_count": 68,
      "outputs": []
    },
    {
      "cell_type": "code",
      "metadata": {
        "id": "i4VKprDj6_PC"
      },
      "source": [
        "list= [1,None,2,None,3,None,5,None,6]"
      ],
      "execution_count": 69,
      "outputs": []
    },
    {
      "cell_type": "code",
      "metadata": {
        "id": "jhIeYHkl8bj2"
      },
      "source": [
        "node0= Tree(list[0])\n",
        "node1= Tree(list[1])\n",
        "node2= Tree(list[2])\n",
        "node3= Tree(list[3])\n",
        "node4= Tree(list[4])\n",
        "node5= Tree(list[5])\n",
        "node6= Tree(list[6])\n",
        "node7= Tree(list[7])\n",
        "node8= Tree(list[8])"
      ],
      "execution_count": 70,
      "outputs": []
    },
    {
      "cell_type": "code",
      "metadata": {
        "id": "kg3hYHKuQqOw"
      },
      "source": [
        "node0.left= node1\n",
        "node0.right= node2\n",
        "node2.left= node3\n",
        "node2.right= node4\n",
        "node4.left= node5\n",
        "node4.right= node6\n",
        "node6.left= node7\n",
        "node6.right= node8"
      ],
      "execution_count": 71,
      "outputs": []
    },
    {
      "cell_type": "code",
      "metadata": {
        "id": "LbpFY3f-T2wi"
      },
      "source": [
        "node= node0"
      ],
      "execution_count": 72,
      "outputs": []
    },
    {
      "cell_type": "code",
      "metadata": {
        "id": "6iKbVMWIT_Es"
      },
      "source": [
        "s0= Solution()"
      ],
      "execution_count": 73,
      "outputs": []
    },
    {
      "cell_type": "code",
      "metadata": {
        "colab": {
          "base_uri": "https://localhost:8080/"
        },
        "id": "doT7nVz2UIGX",
        "outputId": "06eb777e-865b-40dc-c78f-49d9c7a8954f"
      },
      "source": [
        "s0.InOrderTraversal(node)"
      ],
      "execution_count": 74,
      "outputs": [
        {
          "output_type": "execute_result",
          "data": {
            "text/plain": [
              "[None, 1, None, 2, None, 3, None, 5, 6]"
            ]
          },
          "metadata": {},
          "execution_count": 74
        }
      ]
    },
    {
      "cell_type": "code",
      "metadata": {
        "id": "L6aH1t5IU1G_"
      },
      "source": [
        "#Height of Binary Tree(MinDepth)"
      ],
      "execution_count": 75,
      "outputs": []
    },
    {
      "cell_type": "code",
      "metadata": {
        "id": "fEaEYHR1U8ap"
      },
      "source": [
        "def MinDepth(root):\n",
        "  if root is None:\n",
        "    return 0  \n",
        "\n",
        "  if root.left is None and root.right is None:\n",
        "    return 1\n",
        "    \n",
        "  if root.left is None:\n",
        "    return MinDepth(root.right)+1\n",
        "\n",
        "  if root.right is None:\n",
        "    return MinDepth(root.left)+1\n",
        "\n",
        "  return min(MinDepth(root.left), MinDepth(root.right))+1"
      ],
      "execution_count": 76,
      "outputs": []
    },
    {
      "cell_type": "code",
      "metadata": {
        "colab": {
          "base_uri": "https://localhost:8080/"
        },
        "id": "1M8Yr0odCMIu",
        "outputId": "d7f0b931-8471-457c-ef9f-d2e7a308033c"
      },
      "source": [
        "MinDepth(node)"
      ],
      "execution_count": 77,
      "outputs": [
        {
          "output_type": "execute_result",
          "data": {
            "text/plain": [
              "2"
            ]
          },
          "metadata": {},
          "execution_count": 77
        }
      ]
    },
    {
      "cell_type": "code",
      "metadata": {
        "id": "JhmWU3YXDCeA"
      },
      "source": [
        "def MaxDepth(root):\n",
        "  if root is None:\n",
        "    return 0    \n",
        "  return max(MaxDepth(root.left), MaxDepth(root.right))+1"
      ],
      "execution_count": 78,
      "outputs": []
    },
    {
      "cell_type": "code",
      "metadata": {
        "colab": {
          "base_uri": "https://localhost:8080/"
        },
        "id": "nyb4i61iDHMi",
        "outputId": "0b10930c-9ce4-46fb-fe8d-f07cd365d200"
      },
      "source": [
        "MaxDepth(node)"
      ],
      "execution_count": 79,
      "outputs": [
        {
          "output_type": "execute_result",
          "data": {
            "text/plain": [
              "5"
            ]
          },
          "metadata": {},
          "execution_count": 79
        }
      ]
    },
    {
      "cell_type": "code",
      "metadata": {
        "id": "-hSx5SMFDT_-"
      },
      "source": [
        "#Tree size (Total Nodes in a Tree)"
      ],
      "execution_count": 80,
      "outputs": []
    },
    {
      "cell_type": "code",
      "metadata": {
        "id": "3J9ElMEHDpE9"
      },
      "source": [
        "def TreeSize(node):\n",
        "  if node is None:\n",
        "    return 0\n",
        "  return TreeSize(node.left)+TreeSize(node.right)+1"
      ],
      "execution_count": 81,
      "outputs": []
    },
    {
      "cell_type": "code",
      "metadata": {
        "colab": {
          "base_uri": "https://localhost:8080/"
        },
        "id": "umtFtKJcD4JE",
        "outputId": "43d6952f-b93c-4a80-cc19-e74672e8e2e1"
      },
      "source": [
        "TreeSize(node)"
      ],
      "execution_count": 82,
      "outputs": [
        {
          "output_type": "execute_result",
          "data": {
            "text/plain": [
              "9"
            ]
          },
          "metadata": {},
          "execution_count": 82
        }
      ]
    }
  ]
}