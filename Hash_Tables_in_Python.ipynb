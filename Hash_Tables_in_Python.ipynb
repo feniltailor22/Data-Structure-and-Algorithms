{
  "nbformat": 4,
  "nbformat_minor": 0,
  "metadata": {
    "colab": {
      "name": "Hash Tables in Python.ipynb",
      "provenance": [],
      "collapsed_sections": [],
      "authorship_tag": "ABX9TyNxgU7Rpf2ORuPa3HVFWkF/",
      "include_colab_link": true
    },
    "kernelspec": {
      "name": "python3",
      "display_name": "Python 3"
    },
    "language_info": {
      "name": "python"
    }
  },
  "cells": [
    {
      "cell_type": "markdown",
      "metadata": {
        "id": "view-in-github",
        "colab_type": "text"
      },
      "source": [
        "<a href=\"https://colab.research.google.com/github/feniltailor22/Data-Structure-and-Algorithms/blob/main/Hash_Tables_in_Python.ipynb\" target=\"_parent\"><img src=\"https://colab.research.google.com/assets/colab-badge.svg\" alt=\"Open In Colab\"/></a>"
      ]
    },
    {
      "cell_type": "markdown",
      "metadata": {
        "id": "XcGFuwQLIYo6"
      },
      "source": [
        " Dictionaries in Python are used to store key-value pairs. Keys are used to store and retrieve values. For example, here's a dictionary for storing and retrieving phone numbers using people's names."
      ]
    },
    {
      "cell_type": "code",
      "metadata": {
        "id": "MudHUtDhHvDq"
      },
      "source": [
        "phone_num= {'Fenil': '6479967890',\n",
        "            'Abhi': '4178459756',\n",
        "            'Mayank': '6574598855',\n",
        "            'Karan': '6697742355'\n",
        "}"
      ],
      "execution_count": 1,
      "outputs": []
    },
    {
      "cell_type": "code",
      "metadata": {
        "colab": {
          "base_uri": "https://localhost:8080/",
          "height": 35
        },
        "id": "ZiaZDRz6Irui",
        "outputId": "e7fc1411-ff96-45f1-99bd-461407f15d2d"
      },
      "source": [
        "phone_num['Mayank']"
      ],
      "execution_count": 2,
      "outputs": [
        {
          "output_type": "execute_result",
          "data": {
            "application/vnd.google.colaboratory.intrinsic+json": {
              "type": "string"
            },
            "text/plain": [
              "'6574598855'"
            ]
          },
          "metadata": {},
          "execution_count": 2
        }
      ]
    },
    {
      "cell_type": "code",
      "metadata": {
        "id": "Jk2g64XvI2JE"
      },
      "source": [
        "#Adding new value in Dictionaty:\n",
        "phone_num['Deep']= '6475429644'"
      ],
      "execution_count": 3,
      "outputs": []
    },
    {
      "cell_type": "code",
      "metadata": {
        "colab": {
          "base_uri": "https://localhost:8080/"
        },
        "id": "2YtckiIqJCjV",
        "outputId": "73d14c01-6fa0-44f1-a6bc-a9ea9fea6b86"
      },
      "source": [
        "phone_num"
      ],
      "execution_count": 4,
      "outputs": [
        {
          "output_type": "execute_result",
          "data": {
            "text/plain": [
              "{'Abhi': '4178459756',\n",
              " 'Deep': '6475429644',\n",
              " 'Fenil': '6479967890',\n",
              " 'Karan': '6697742355',\n",
              " 'Mayank': '6574598855'}"
            ]
          },
          "metadata": {},
          "execution_count": 4
        }
      ]
    },
    {
      "cell_type": "markdown",
      "metadata": {
        "id": "VVEGUKJ8J6b9"
      },
      "source": [
        "You can also view all the names and phone numbers stored in `phone_num` using a `for` loop."
      ]
    },
    {
      "cell_type": "code",
      "metadata": {
        "colab": {
          "base_uri": "https://localhost:8080/"
        },
        "id": "qPbRqWypJFrI",
        "outputId": "e6043b0d-ed96-4077-aa6c-3f04d0845e0f"
      },
      "source": [
        "for name in phone_num:\n",
        "  print('Name: ', name, ', Phone Number: ', phone_num[name])\n",
        "\n",
        "#here name is key of dic, and phone_num[name] is key-value of dic."
      ],
      "execution_count": 5,
      "outputs": [
        {
          "output_type": "stream",
          "name": "stdout",
          "text": [
            "Name:  Fenil , Phone Number:  6479967890\n",
            "Name:  Abhi , Phone Number:  4178459756\n",
            "Name:  Mayank , Phone Number:  6574598855\n",
            "Name:  Karan , Phone Number:  6697742355\n",
            "Name:  Deep , Phone Number:  6475429644\n"
          ]
        }
      ]
    },
    {
      "cell_type": "code",
      "metadata": {
        "colab": {
          "base_uri": "https://localhost:8080/"
        },
        "id": "MdEaYYG0KYlb",
        "outputId": "1abcce05-6f31-4b4d-b080-17a0ffb76700"
      },
      "source": [
        "#Generic Approach:\n",
        "for key in phone_num:\n",
        "  print(key, phone_num[key])"
      ],
      "execution_count": 6,
      "outputs": [
        {
          "output_type": "stream",
          "name": "stdout",
          "text": [
            "Fenil 6479967890\n",
            "Abhi 4178459756\n",
            "Mayank 6574598855\n",
            "Karan 6697742355\n",
            "Deep 6475429644\n"
          ]
        }
      ]
    },
    {
      "cell_type": "markdown",
      "metadata": {
        "id": "Ri5_w0xgN4Jj"
      },
      "source": [
        "Dictionaries in Python are implemented using a data structure called **hash table**. A hash table uses a list/array to store the key-value pairs, and uses a _hashing function_ to determine the index for storing or retrieving the data associated with a given key. \n",
        "\n",
        "Here's a visual representation of a hash table ([source](https://en.wikipedia.org/wiki/Hash_table)):\n",
        "\n",
        "<img src=\"https://i.imgur.com/5dPEmuY.png\" width=\"480\">\n",
        "\n",
        "Implement a `HashTable` class which supports the following operations:\n",
        "\n",
        "1. **Insert**: Insert a new key-value pair\n",
        "2. **Find**: Find the value associated with a key\n",
        "3. **Update**: Update the value associated with a key\n",
        "5. **List**: List all the keys stored in the hash table"
      ]
    },
    {
      "cell_type": "code",
      "metadata": {
        "id": "KVgjCDxzKiW4"
      },
      "source": [
        "MAX_HASH_TABLE_SIZE= 4096"
      ],
      "execution_count": 7,
      "outputs": []
    },
    {
      "cell_type": "code",
      "metadata": {
        "id": "EToj7OYKOQVB"
      },
      "source": [
        "# List of size MAX_HASH_TABLE_SIZE with all values None\n",
        "data_list= [None] * 4096"
      ],
      "execution_count": 8,
      "outputs": []
    },
    {
      "cell_type": "code",
      "metadata": {
        "colab": {
          "base_uri": "https://localhost:8080/"
        },
        "id": "oCICvO0KOXal",
        "outputId": "97c61ee9-2d3b-4fd0-c286-0fb109bccc25"
      },
      "source": [
        "len(data_list)"
      ],
      "execution_count": 9,
      "outputs": [
        {
          "output_type": "execute_result",
          "data": {
            "text/plain": [
              "4096"
            ]
          },
          "metadata": {},
          "execution_count": 9
        }
      ]
    },
    {
      "cell_type": "markdown",
      "metadata": {
        "id": "NSBs0F3SP0NU"
      },
      "source": [
        "### Hashing Function\n",
        "\n",
        "A _hashing function_ is used to convert strings and other non-numeric data types into numbers, which can then be used as list indices. For instance, if a hashing function converts the string `\"Aakash\"` into the number `4`, then the key-value pair `('Aakash', '7878787878')` will be stored at the position `4` within the data list.\n",
        "\n",
        "Here's a simple algorithm for hashing, which can convert strings into numeric list indices.\n",
        "\n",
        "1. Iterate over the string, character by character\n",
        "2. Convert each character to a number using Python's built-in `ord` function.\n",
        "3. Add the numbers for each character to obtain the hash for the entire string \n",
        "4. Take the remainder of the result with the size of the data list\n",
        "    \n",
        "  #total % len(data_list)= hash of a string\n",
        "\n",
        "\n",
        "Complete the `get_index` function below which implements the hashing algorithm described above.**"
      ]
    },
    {
      "cell_type": "code",
      "metadata": {
        "id": "N2xAzK4POZiC"
      },
      "source": [
        "def get_index(data_list, string):\n",
        "\n",
        "  # Variable to store the result (updated after each iteration)\n",
        "  result= 0\n",
        "\n",
        "  for char in string:\n",
        "    num= ord(char)  # Convert the character to a number (using ord)\n",
        "    result += num # Update result by adding the number\n",
        "  \n",
        "  # Take the remainder of the result with the size of the data_list\n",
        "  hash= result % len(data_list)\n",
        "\n",
        "  return hash"
      ],
      "execution_count": 10,
      "outputs": []
    },
    {
      "cell_type": "code",
      "metadata": {
        "colab": {
          "base_uri": "https://localhost:8080/"
        },
        "id": "yVmFk1BhRmQ5",
        "outputId": "45529e5b-04c1-474f-b666-79883c23af7d"
      },
      "source": [
        "get_index(data_list, 'Fenil')"
      ],
      "execution_count": 11,
      "outputs": [
        {
          "output_type": "execute_result",
          "data": {
            "text/plain": [
              "494"
            ]
          },
          "metadata": {},
          "execution_count": 11
        }
      ]
    },
    {
      "cell_type": "code",
      "metadata": {
        "colab": {
          "base_uri": "https://localhost:8080/"
        },
        "id": "KnUishr5SKyh",
        "outputId": "f9bee3f1-378a-44ee-cf74-6e14ff6966a5"
      },
      "source": [
        "ord('F')+ ord('e')+ ord('n')+ ord('i')+ ord('l')"
      ],
      "execution_count": 12,
      "outputs": [
        {
          "output_type": "execute_result",
          "data": {
            "text/plain": [
              "494"
            ]
          },
          "metadata": {},
          "execution_count": 12
        }
      ]
    },
    {
      "cell_type": "code",
      "metadata": {
        "id": "bdbkPPP0Sdkj"
      },
      "source": [
        "data_list2= [None]* 48"
      ],
      "execution_count": 13,
      "outputs": []
    },
    {
      "cell_type": "code",
      "metadata": {
        "colab": {
          "base_uri": "https://localhost:8080/"
        },
        "id": "zh_drjBtS3Eg",
        "outputId": "a57399c4-223d-42cd-8ad2-8fafb3331fb3"
      },
      "source": [
        "get_index(data_list2, 'Fenil')"
      ],
      "execution_count": 14,
      "outputs": [
        {
          "output_type": "execute_result",
          "data": {
            "text/plain": [
              "14"
            ]
          },
          "metadata": {},
          "execution_count": 14
        }
      ]
    },
    {
      "cell_type": "code",
      "metadata": {
        "colab": {
          "base_uri": "https://localhost:8080/"
        },
        "id": "YO5RH1xbSvT6",
        "outputId": "58d340af-8595-4853-b8b8-d40053c8d343"
      },
      "source": [
        "494%48"
      ],
      "execution_count": 15,
      "outputs": [
        {
          "output_type": "execute_result",
          "data": {
            "text/plain": [
              "14"
            ]
          },
          "metadata": {},
          "execution_count": 15
        }
      ]
    },
    {
      "cell_type": "markdown",
      "metadata": {
        "id": "6fJ0GWOUYGel"
      },
      "source": [
        "### Insert\n",
        "\n",
        "To insert a key-value pair into a hash table, we can simply get the hash of the key, and store the pair at that index in the data list."
      ]
    },
    {
      "cell_type": "code",
      "metadata": {
        "id": "U1Xg0b5fS9T0"
      },
      "source": [
        "idx= get_index(data_list, 'Aakash')"
      ],
      "execution_count": 16,
      "outputs": []
    },
    {
      "cell_type": "code",
      "metadata": {
        "colab": {
          "base_uri": "https://localhost:8080/"
        },
        "id": "g9ASOKzrXcp1",
        "outputId": "e96a6fb7-3952-418e-c4df-84fc6894d051"
      },
      "source": [
        "idx"
      ],
      "execution_count": 17,
      "outputs": [
        {
          "output_type": "execute_result",
          "data": {
            "text/plain": [
              "585"
            ]
          },
          "metadata": {},
          "execution_count": 17
        }
      ]
    },
    {
      "cell_type": "code",
      "metadata": {
        "id": "Mmbu0qW7Xdcm"
      },
      "source": [
        "data_list[idx]= ('Aakash', '9099564778') \n",
        "#data_list[index] = (key, value)"
      ],
      "execution_count": 18,
      "outputs": []
    },
    {
      "cell_type": "code",
      "metadata": {
        "colab": {
          "base_uri": "https://localhost:8080/"
        },
        "id": "bkwwdzKnabVY",
        "outputId": "94661c73-7682-4678-8f3b-5698148d9592"
      },
      "source": [
        "data_list[idx]"
      ],
      "execution_count": 19,
      "outputs": [
        {
          "output_type": "execute_result",
          "data": {
            "text/plain": [
              "('Aakash', '9099564778')"
            ]
          },
          "metadata": {},
          "execution_count": 19
        }
      ]
    },
    {
      "cell_type": "code",
      "metadata": {
        "colab": {
          "base_uri": "https://localhost:8080/",
          "height": 35
        },
        "id": "78p9Uzb-afHs",
        "outputId": "7a89f4d9-a883-4514-b39d-94fd206ce105"
      },
      "source": [
        "data_list[idx][0]"
      ],
      "execution_count": 20,
      "outputs": [
        {
          "output_type": "execute_result",
          "data": {
            "application/vnd.google.colaboratory.intrinsic+json": {
              "type": "string"
            },
            "text/plain": [
              "'Aakash'"
            ]
          },
          "metadata": {},
          "execution_count": 20
        }
      ]
    },
    {
      "cell_type": "code",
      "metadata": {
        "colab": {
          "base_uri": "https://localhost:8080/",
          "height": 35
        },
        "id": "-RmJ4htVagwi",
        "outputId": "41cfee64-3964-4353-d8c5-b0baf2f0ed5d"
      },
      "source": [
        "data_list[idx][1]"
      ],
      "execution_count": 21,
      "outputs": [
        {
          "output_type": "execute_result",
          "data": {
            "application/vnd.google.colaboratory.intrinsic+json": {
              "type": "string"
            },
            "text/plain": [
              "'9099564778'"
            ]
          },
          "metadata": {},
          "execution_count": 21
        }
      ]
    },
    {
      "cell_type": "code",
      "metadata": {
        "id": "dqnKqMnPbQ3b"
      },
      "source": [
        "idx2= get_index(data_list, 'Fenil')"
      ],
      "execution_count": 22,
      "outputs": []
    },
    {
      "cell_type": "code",
      "metadata": {
        "id": "ktPywRRebTYU"
      },
      "source": [
        "data_list[idx2]= ('Fenil', '6479985645')"
      ],
      "execution_count": 23,
      "outputs": []
    },
    {
      "cell_type": "markdown",
      "metadata": {
        "id": "oj9fMbtGYZTr"
      },
      "source": [
        "### Find\n",
        "\n",
        "The retrieve the value associated with a pair, we can get the hash of the key and look up that index in the data list."
      ]
    },
    {
      "cell_type": "code",
      "metadata": {
        "id": "hCiCwNSrX-V6"
      },
      "source": [
        "key, value= data_list[idx]"
      ],
      "execution_count": 24,
      "outputs": []
    },
    {
      "cell_type": "code",
      "metadata": {
        "colab": {
          "base_uri": "https://localhost:8080/",
          "height": 35
        },
        "id": "-MDxcE7BYg2M",
        "outputId": "4ce356ce-fb59-4a14-b534-35aeccad0988"
      },
      "source": [
        "key"
      ],
      "execution_count": 25,
      "outputs": [
        {
          "output_type": "execute_result",
          "data": {
            "application/vnd.google.colaboratory.intrinsic+json": {
              "type": "string"
            },
            "text/plain": [
              "'Aakash'"
            ]
          },
          "metadata": {},
          "execution_count": 25
        }
      ]
    },
    {
      "cell_type": "code",
      "metadata": {
        "colab": {
          "base_uri": "https://localhost:8080/",
          "height": 35
        },
        "id": "4XpIW3T-Z0BR",
        "outputId": "12a09f93-c766-4bbf-9591-d5d03babd4d6"
      },
      "source": [
        "value"
      ],
      "execution_count": 26,
      "outputs": [
        {
          "output_type": "execute_result",
          "data": {
            "application/vnd.google.colaboratory.intrinsic+json": {
              "type": "string"
            },
            "text/plain": [
              "'9099564778'"
            ]
          },
          "metadata": {},
          "execution_count": 26
        }
      ]
    },
    {
      "cell_type": "markdown",
      "metadata": {
        "id": "GwIc2jU8Z-1M"
      },
      "source": [
        "###List"
      ]
    },
    {
      "cell_type": "code",
      "metadata": {
        "colab": {
          "base_uri": "https://localhost:8080/"
        },
        "id": "TFzXMUdAZ3lm",
        "outputId": "c8fa770a-25d6-43b1-db51-680519dd655f"
      },
      "source": [
        "key_val= 'Aakash', '4545854'\n",
        "key_val"
      ],
      "execution_count": 27,
      "outputs": [
        {
          "output_type": "execute_result",
          "data": {
            "text/plain": [
              "('Aakash', '4545854')"
            ]
          },
          "metadata": {},
          "execution_count": 27
        }
      ]
    },
    {
      "cell_type": "code",
      "metadata": {
        "colab": {
          "base_uri": "https://localhost:8080/",
          "height": 35
        },
        "id": "mGa1cgJXaP8e",
        "outputId": "5f862f45-975a-433e-e2e4-dd4aebcaae55"
      },
      "source": [
        "key_val[0]"
      ],
      "execution_count": 28,
      "outputs": [
        {
          "output_type": "execute_result",
          "data": {
            "application/vnd.google.colaboratory.intrinsic+json": {
              "type": "string"
            },
            "text/plain": [
              "'Aakash'"
            ]
          },
          "metadata": {},
          "execution_count": 28
        }
      ]
    },
    {
      "cell_type": "code",
      "metadata": {
        "colab": {
          "base_uri": "https://localhost:8080/",
          "height": 35
        },
        "id": "etEcDVGAaRQz",
        "outputId": "6d46b2b8-1cfa-485a-963c-84544b664639"
      },
      "source": [
        "key_val[1]"
      ],
      "execution_count": 29,
      "outputs": [
        {
          "output_type": "execute_result",
          "data": {
            "application/vnd.google.colaboratory.intrinsic+json": {
              "type": "string"
            },
            "text/plain": [
              "'4545854'"
            ]
          },
          "metadata": {},
          "execution_count": 29
        }
      ]
    },
    {
      "cell_type": "code",
      "metadata": {
        "id": "OoG4LSlraSuo"
      },
      "source": [
        "#Retriving Keys from a list of Hash Table:"
      ],
      "execution_count": 30,
      "outputs": []
    },
    {
      "cell_type": "code",
      "metadata": {
        "id": "uBziSNI2blaf"
      },
      "source": [
        "keys= [kv[0] for kv in data_list if kv is not None]"
      ],
      "execution_count": 31,
      "outputs": []
    },
    {
      "cell_type": "code",
      "metadata": {
        "colab": {
          "base_uri": "https://localhost:8080/"
        },
        "id": "8XC_YCSMb4K5",
        "outputId": "5ef6442f-2317-41ea-c400-c0074493d2d4"
      },
      "source": [
        "keys"
      ],
      "execution_count": 32,
      "outputs": [
        {
          "output_type": "execute_result",
          "data": {
            "text/plain": [
              "['Fenil', 'Aakash']"
            ]
          },
          "metadata": {},
          "execution_count": 32
        }
      ]
    },
    {
      "cell_type": "code",
      "metadata": {
        "id": "Rb7IX-VaiOaK"
      },
      "source": [
        "#Retriving  Values from a list of Hash Table:"
      ],
      "execution_count": 51,
      "outputs": []
    },
    {
      "cell_type": "code",
      "metadata": {
        "colab": {
          "base_uri": "https://localhost:8080/"
        },
        "id": "fc7KUq5JcG9N",
        "outputId": "48f84548-9d42-4514-a777-50d3e919c2a7"
      },
      "source": [
        "values= [kv[1] for kv in data_list if kv is not None]\n",
        "values"
      ],
      "execution_count": 33,
      "outputs": [
        {
          "output_type": "execute_result",
          "data": {
            "text/plain": [
              "['6479985645', '9099564778']"
            ]
          },
          "metadata": {},
          "execution_count": 33
        }
      ]
    },
    {
      "cell_type": "code",
      "metadata": {
        "id": "q4sfCWPocO9s"
      },
      "source": [
        "class BasicHashTable:\n",
        "  \n",
        "  def __init__(self, max_size= MAX_HASH_TABLE_SIZE):\n",
        "    self.data_list= [None]* max_size\n",
        "  \n",
        "  #Inserting a Key-Value pair\n",
        "  def insert(self, key, value):\n",
        "    idx= get_index(self.data_list, key)\n",
        "    self.data_list[idx]= key, value\n",
        "  \n",
        "  #Finding Value of a stored key\n",
        "  def find(self, key):\n",
        "    idx= get_index(self.data_list, key)\n",
        "    kv= self.data_list[idx]\n",
        "    print(kv[1])\n",
        "\n",
        "  #Updating a Key-Value pair\n",
        "  def update(self, key, value):\n",
        "    idx= get_index(self.data_list, key)\n",
        "    key, value= self.data_list[idx]\n",
        "  \n",
        "  #Listing all keys\n",
        "  def List_all(self):\n",
        "    print('keys: ', [kv[0] for kv in self.data_list if kv is not None])"
      ],
      "execution_count": 34,
      "outputs": []
    },
    {
      "cell_type": "code",
      "metadata": {
        "id": "yEZ2gRtOjOiB"
      },
      "source": [
        "basic_table= BasicHashTable(max_size=1024)"
      ],
      "execution_count": 35,
      "outputs": []
    },
    {
      "cell_type": "code",
      "metadata": {
        "colab": {
          "base_uri": "https://localhost:8080/"
        },
        "id": "BuepJrDijhOF",
        "outputId": "aaefb358-f55d-4754-a562-a076564678d6"
      },
      "source": [
        "len(basic_table.data_list)"
      ],
      "execution_count": 36,
      "outputs": [
        {
          "output_type": "execute_result",
          "data": {
            "text/plain": [
              "1024"
            ]
          },
          "metadata": {},
          "execution_count": 36
        }
      ]
    },
    {
      "cell_type": "code",
      "metadata": {
        "id": "Hs68PPwhjr50"
      },
      "source": [
        "basic_table.insert('vinay', '645585')\n",
        "basic_table.insert('deep', '7899655')\n",
        "basic_table.insert('rajan', '1555789')"
      ],
      "execution_count": 37,
      "outputs": []
    },
    {
      "cell_type": "code",
      "metadata": {
        "colab": {
          "base_uri": "https://localhost:8080/"
        },
        "id": "Za0-vUw_kXwM",
        "outputId": "95dc8c4e-e563-48dd-877d-ac19a38c1092"
      },
      "source": [
        "basic_table.find('deep')"
      ],
      "execution_count": 38,
      "outputs": [
        {
          "output_type": "stream",
          "name": "stdout",
          "text": [
            "7899655\n"
          ]
        }
      ]
    },
    {
      "cell_type": "code",
      "metadata": {
        "id": "hDMsEh6_kBjV"
      },
      "source": [
        "basic_table.update('vinay','466987')"
      ],
      "execution_count": 39,
      "outputs": []
    },
    {
      "cell_type": "code",
      "metadata": {
        "colab": {
          "base_uri": "https://localhost:8080/"
        },
        "id": "sGdnmfDunIO0",
        "outputId": "6818aef1-d2f5-4250-aa87-a29450772e71"
      },
      "source": [
        "basic_table.List_all()"
      ],
      "execution_count": 40,
      "outputs": [
        {
          "output_type": "stream",
          "name": "stdout",
          "text": [
            "keys:  ['deep', 'rajan', 'vinay']\n"
          ]
        }
      ]
    },
    {
      "cell_type": "markdown",
      "metadata": {
        "id": "jnjKJ6qsoFph"
      },
      "source": [
        "### Handling Collisions with Linear Probing\n",
        "\n",
        "Multiple keys can have the same hash. For instance, the keys `\"listen\"` and `\"silent\"` have the same hash. This is referred to as _collision_. Data stored against one key may override the data stored against another, if they have the same hash."
      ]
    },
    {
      "cell_type": "code",
      "metadata": {
        "colab": {
          "base_uri": "https://localhost:8080/"
        },
        "id": "VYrWzqV-nLyY",
        "outputId": "8c122f9b-6077-445e-b609-a652e9ac93f3"
      },
      "source": [
        "get_index(data_list, 'listen'), get_index(data_list, 'silent'), get_index(data_list2, 'mrunal')"
      ],
      "execution_count": 138,
      "outputs": [
        {
          "output_type": "execute_result",
          "data": {
            "text/plain": [
              "(655, 655, 655)"
            ]
          },
          "metadata": {},
          "execution_count": 138
        }
      ]
    },
    {
      "cell_type": "code",
      "metadata": {
        "id": "7y7gQOC-ocva"
      },
      "source": [
        "basic_table.insert('silent', 99)\n",
        "basic_table.insert('listen', 200)\n",
        "basic_table.insert('mrunal', 488)"
      ],
      "execution_count": 139,
      "outputs": []
    },
    {
      "cell_type": "code",
      "metadata": {
        "colab": {
          "base_uri": "https://localhost:8080/"
        },
        "id": "FEa8VBXwonpX",
        "outputId": "ee8f9a01-b3b2-45cc-fa77-b74fba3178d3"
      },
      "source": [
        "basic_table.find('silent')"
      ],
      "execution_count": 140,
      "outputs": [
        {
          "output_type": "stream",
          "name": "stdout",
          "text": [
            "488\n"
          ]
        }
      ]
    },
    {
      "cell_type": "code",
      "metadata": {
        "id": "4aaRVk9BosHb"
      },
      "source": [
        "#When you find the value for 'silent' key it is returning 'listen' key, which is not a good sign. We have to handle this collisions."
      ],
      "execution_count": 141,
      "outputs": []
    },
    {
      "cell_type": "markdown",
      "metadata": {
        "id": "zDuyglvGpx5C"
      },
      "source": [
        "As you can see above, the value for the key `listen` was overwritten by the value for the key `silent`. Our hash table implementation is incomplete because it does not handle collisions correctly.\n",
        "\n",
        "To handle collisions we'll use a technique called **linear probing**. Here's how it works: \n",
        "\n",
        "1. While inserting a new key-value pair if the target index for a key is occupied by another key, then we try the next index, followed by the next and so on till we the closest empty location.\n",
        "\n",
        "2. While finding a key-value pair, we apply the same strategy, but instead of searching for an empty location, we look for a location which contains a key-value pair with the matching key.\n",
        "\n",
        "2. While updating a key-value pair, we apply the same strategy, but instead of searching for an empty location, we look for a location which contains a key-value pair with the matching key, and update its value.\n",
        "\n",
        "\n",
        "We'll define a function called `get_valid_index`, which starts searching the data list from the index determined by the hashing function `get_index` and returns the first index which is either empty or contains a key-value pair matching the given key."
      ]
    },
    {
      "cell_type": "code",
      "metadata": {
        "id": "d4v1SGfDqah8"
      },
      "source": [
        "def get_index(data_list, key):\n",
        "  result=0\n",
        "\n",
        "  for char in key:\n",
        "    num= ord(char)\n",
        "    result+= num\n",
        "  index= result%len(data_list)  #remender will be index of a key.\n",
        "  return index"
      ],
      "execution_count": 142,
      "outputs": []
    },
    {
      "cell_type": "code",
      "metadata": {
        "id": "NVjBTcTCrUnL"
      },
      "source": [
        "def get_valid_index(data_list, key):\n",
        "\n",
        "  # Start with the index returned by get_index\n",
        "  idx= get_index(data_list, key)\n",
        "\n",
        "  while True:\n",
        "    # Get the key-value pair stored at idx\n",
        "    kv= data_list[idx]\n",
        "\n",
        "    # If it is None, return the index\n",
        "    if kv is None:\n",
        "      return idx\n",
        "    \n",
        "    # If the stored key matches the given key, return the index\n",
        "    if key== kv[0]:\n",
        "      return idx\n",
        "\n",
        "    # Move to the next index\n",
        "    idx += 1\n",
        "\n",
        "    # Go back to the start if you have reached the end of the array\n",
        "    if idx == len(data_list):\n",
        "      idx = 0"
      ],
      "execution_count": 143,
      "outputs": []
    },
    {
      "cell_type": "code",
      "metadata": {
        "id": "3gyAOL8st58K"
      },
      "source": [
        "data_list2 = [None] * (MAX_HASH_TABLE_SIZE)"
      ],
      "execution_count": 144,
      "outputs": []
    },
    {
      "cell_type": "code",
      "metadata": {
        "colab": {
          "base_uri": "https://localhost:8080/"
        },
        "id": "9TJOOE3IuU71",
        "outputId": "5aa5b02f-07c0-484d-b933-2a85c231fcbd"
      },
      "source": [
        "get_valid_index(data_list2, 'silent')"
      ],
      "execution_count": 145,
      "outputs": [
        {
          "output_type": "execute_result",
          "data": {
            "text/plain": [
              "655"
            ]
          },
          "metadata": {},
          "execution_count": 145
        }
      ]
    },
    {
      "cell_type": "code",
      "metadata": {
        "colab": {
          "base_uri": "https://localhost:8080/"
        },
        "id": "nivsP56WvgqQ",
        "outputId": "355fcc53-6ac0-4cc5-e2f3-3a1b75026bd5"
      },
      "source": [
        "data_list2[655]= ('silent', '71') \n",
        "data_list2[655]"
      ],
      "execution_count": 146,
      "outputs": [
        {
          "output_type": "execute_result",
          "data": {
            "text/plain": [
              "('silent', '71')"
            ]
          },
          "metadata": {},
          "execution_count": 146
        }
      ]
    },
    {
      "cell_type": "code",
      "metadata": {
        "colab": {
          "base_uri": "https://localhost:8080/"
        },
        "id": "hK1Jvfihwi9j",
        "outputId": "66ebb384-3202-4068-8a40-ed5692823874"
      },
      "source": [
        "get_valid_index(data_list2, 'listen')"
      ],
      "execution_count": 147,
      "outputs": [
        {
          "output_type": "execute_result",
          "data": {
            "text/plain": [
              "656"
            ]
          },
          "metadata": {},
          "execution_count": 147
        }
      ]
    },
    {
      "cell_type": "code",
      "metadata": {
        "colab": {
          "base_uri": "https://localhost:8080/"
        },
        "id": "DAvB9A7kxsHz",
        "outputId": "65532d44-84ab-43da-9e34-bef13bb00401"
      },
      "source": [
        "get_valid_index(data_list2, 'mrunal')"
      ],
      "execution_count": 148,
      "outputs": [
        {
          "output_type": "execute_result",
          "data": {
            "text/plain": [
              "656"
            ]
          },
          "metadata": {},
          "execution_count": 148
        }
      ]
    },
    {
      "cell_type": "code",
      "metadata": {
        "colab": {
          "base_uri": "https://localhost:8080/"
        },
        "id": "nVzGddFcw6Qx",
        "outputId": "872e7508-e724-452d-89c8-36e2c9843473"
      },
      "source": [
        "data_list2[656]= ('listen', '119') \n",
        "data_list2[656]"
      ],
      "execution_count": 149,
      "outputs": [
        {
          "output_type": "execute_result",
          "data": {
            "text/plain": [
              "('listen', '119')"
            ]
          },
          "metadata": {},
          "execution_count": 149
        }
      ]
    },
    {
      "cell_type": "markdown",
      "metadata": {
        "id": "82gEjrb_oATm"
      },
      "source": [
        "**Hash Table with Linear Probing**"
      ]
    },
    {
      "cell_type": "code",
      "metadata": {
        "id": "xankzVAbn4jK"
      },
      "source": [
        "class ProbingHashTable:\n",
        "  def __init__(self, list_size):\n",
        "    self.data_list= [None]* list_size\n",
        "\n",
        "  def insert(self, key, value):\n",
        "    idx= get_valid_index(self.data_list, key)\n",
        "    self.data_list[idx]= key, value\n",
        "\n",
        "  def find(self, key):\n",
        "    idx= get_valid_index(self.data_list, key)\n",
        "    kv= self.data_list[idx]\n",
        "    print(kv[1])\n",
        "  \n",
        "  def update(self, key, value):\n",
        "    idx= get_valid_index(self.data_list, key)\n",
        "    self.data_list= key, value\n",
        "  \n",
        "  def list_all(self):\n",
        "    print('Keys: ', [kv[0] for kv in self.data_list if kv is not None])"
      ],
      "execution_count": 150,
      "outputs": []
    },
    {
      "cell_type": "code",
      "metadata": {
        "id": "ZvuiSAeVqoEZ"
      },
      "source": [
        "probing_table= ProbingHashTable(1024)"
      ],
      "execution_count": 151,
      "outputs": []
    },
    {
      "cell_type": "code",
      "metadata": {
        "colab": {
          "base_uri": "https://localhost:8080/"
        },
        "id": "RZQiLBhJt0k6",
        "outputId": "1c87f33b-f439-444a-fa31-b7a77b9219a9"
      },
      "source": [
        "len(probing_table.data_list)"
      ],
      "execution_count": 152,
      "outputs": [
        {
          "output_type": "execute_result",
          "data": {
            "text/plain": [
              "1024"
            ]
          },
          "metadata": {},
          "execution_count": 152
        }
      ]
    },
    {
      "cell_type": "code",
      "metadata": {
        "id": "WC-jEtmotE3C"
      },
      "source": [
        "probing_table.insert('mrunal', '996')"
      ],
      "execution_count": 153,
      "outputs": []
    },
    {
      "cell_type": "code",
      "metadata": {
        "id": "re5CGr8ptP2i"
      },
      "source": [
        "probing_table.insert('silent', '1011')\n",
        "probing_table.insert('listen', '543')"
      ],
      "execution_count": 154,
      "outputs": []
    },
    {
      "cell_type": "code",
      "metadata": {
        "colab": {
          "base_uri": "https://localhost:8080/"
        },
        "id": "H_XhKJynvAFC",
        "outputId": "aea76242-2778-473f-8c2f-0bf66838fe49"
      },
      "source": [
        "probing_table.find('silent')"
      ],
      "execution_count": 155,
      "outputs": [
        {
          "output_type": "stream",
          "name": "stdout",
          "text": [
            "1011\n"
          ]
        }
      ]
    },
    {
      "cell_type": "code",
      "metadata": {
        "colab": {
          "base_uri": "https://localhost:8080/"
        },
        "id": "16xvMr9fvEnW",
        "outputId": "a2bb8fb1-5594-447f-d46e-b70d59758f73"
      },
      "source": [
        "probing_table.find('listen')"
      ],
      "execution_count": 156,
      "outputs": [
        {
          "output_type": "stream",
          "name": "stdout",
          "text": [
            "543\n"
          ]
        }
      ]
    },
    {
      "cell_type": "code",
      "metadata": {
        "colab": {
          "base_uri": "https://localhost:8080/"
        },
        "id": "3X8B6CA7vghS",
        "outputId": "d06c8ec7-31a9-46eb-a295-9a01ec81a53e"
      },
      "source": [
        "probing_table.list_all()"
      ],
      "execution_count": 157,
      "outputs": [
        {
          "output_type": "stream",
          "name": "stdout",
          "text": [
            "Keys:  ['mrunal', 'silent', 'listen']\n"
          ]
        }
      ]
    }
  ]
}