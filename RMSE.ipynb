{
  "nbformat": 4,
  "nbformat_minor": 0,
  "metadata": {
    "colab": {
      "name": "RMSE.ipynb",
      "provenance": [],
      "collapsed_sections": [],
      "authorship_tag": "ABX9TyOQSAfhBmQeMVC53hYEQ53z",
      "include_colab_link": true
    },
    "kernelspec": {
      "name": "python3",
      "display_name": "Python 3"
    },
    "language_info": {
      "name": "python"
    }
  },
  "cells": [
    {
      "cell_type": "markdown",
      "metadata": {
        "id": "view-in-github",
        "colab_type": "text"
      },
      "source": [
        "<a href=\"https://colab.research.google.com/github/feniltailor22/Data-Structure-and-Algorithms/blob/main/RMSE.ipynb\" target=\"_parent\"><img src=\"https://colab.research.google.com/assets/colab-badge.svg\" alt=\"Open In Colab\"/></a>"
      ]
    },
    {
      "cell_type": "code",
      "metadata": {
        "id": "PFKT3zpianYN"
      },
      "source": [
        "import math"
      ],
      "execution_count": 131,
      "outputs": []
    },
    {
      "cell_type": "code",
      "metadata": {
        "id": "O8br4o0aq5_o"
      },
      "source": [
        "def Solution(predicted, observed):\n",
        "  n= len(predicted)\n",
        "  sum=0\n",
        "  for i in range(0, n):\n",
        "    sum= ((predicted[i]-observed[i])**2)+ sum\n",
        "    MSE= (sum/len(predicted))\n",
        "  RSME= math.sqrt(MSE)\n",
        "  print(RSME)"
      ],
      "execution_count": 132,
      "outputs": []
    },
    {
      "cell_type": "code",
      "metadata": {
        "id": "vmFvCrXwayMM"
      },
      "source": [
        "x= [5,9,4]\n",
        "y= [16,8,6]"
      ],
      "execution_count": 133,
      "outputs": []
    },
    {
      "cell_type": "code",
      "metadata": {
        "colab": {
          "base_uri": "https://localhost:8080/"
        },
        "id": "3VgP3exXbQOR",
        "outputId": "d3a4282d-c26b-4b37-9ce8-6175ccd0e091"
      },
      "source": [
        "s= Solution(y,x)"
      ],
      "execution_count": 134,
      "outputs": [
        {
          "output_type": "stream",
          "name": "stdout",
          "text": [
            "6.48074069840786\n"
          ]
        }
      ]
    }
  ]
}