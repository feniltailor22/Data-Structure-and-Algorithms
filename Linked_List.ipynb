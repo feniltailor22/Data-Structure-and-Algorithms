{
  "nbformat": 4,
  "nbformat_minor": 0,
  "metadata": {
    "colab": {
      "name": "Linked List.ipynb",
      "provenance": [],
      "collapsed_sections": [],
      "authorship_tag": "ABX9TyPtXOhCIIsMGgm8GzS/vlmx",
      "include_colab_link": true
    },
    "kernelspec": {
      "name": "python3",
      "display_name": "Python 3"
    },
    "language_info": {
      "name": "python"
    }
  },
  "cells": [
    {
      "cell_type": "markdown",
      "metadata": {
        "id": "view-in-github",
        "colab_type": "text"
      },
      "source": [
        "<a href=\"https://colab.research.google.com/github/feniltailor22/Data-Structure-and-Algorithms/blob/main/Linked_List.ipynb\" target=\"_parent\"><img src=\"https://colab.research.google.com/assets/colab-badge.svg\" alt=\"Open In Colab\"/></a>"
      ]
    },
    {
      "cell_type": "code",
      "metadata": {
        "colab": {
          "base_uri": "https://localhost:8080/"
        },
        "id": "w2NAYTjmVONt",
        "outputId": "7d7465be-bc54-4d8b-b580-15108984b140"
      },
      "source": [
        "class Node:\n",
        "  def __init__(self, data=None, next=None):\n",
        "    self.data= data\n",
        "    self.next= next\n",
        "  \n",
        "class Linkedlist:\n",
        "  def __init__(self):\n",
        "    self.head= None\n",
        "\n",
        "  def insert_at_begining(self, data):\n",
        "    node= Node(data, self.head)\n",
        "    self.head= node\n",
        "\n",
        "  def print(self):\n",
        "    if self.head is None:\n",
        "      print('Linked list is empty')\n",
        "      return\n",
        "\n",
        "    itr= self.head\n",
        "    llstr= ''\n",
        "\n",
        "    while itr:\n",
        "      llstr += str(itr.data) + '-->' #appending data into itr list\n",
        "      itr= itr.next \n",
        "      \n",
        "    print(llstr)\n",
        "  \n",
        "  def insert_at_end(self, data):\n",
        "    if self.head is None:\n",
        "      self.head= Node(data, None)\n",
        "      return\n",
        "\n",
        "    itr= self.head\n",
        "    while itr.next:\n",
        "      itr= itr.next\n",
        "    \n",
        "    itr.next= Node(data, None) \n",
        "\n",
        "  def insert_values(self, data_list):\n",
        "    self.head= None\n",
        "    for data in data_list:\n",
        "      self.insert_at_end(data)  \n",
        "  \n",
        "  def get_length(self):\n",
        "    count= 0\n",
        "    itr= self.head\n",
        "    while itr:\n",
        "      count += 1\n",
        "      itr= itr.next\n",
        "    return count\n",
        "  \n",
        "  def remove_at(self, index):\n",
        "    if index<0 or index>=self.get_length():\n",
        "      raise Exception('Invalid Index!')\n",
        "    \n",
        "    if index==0:\n",
        "      self.head= self.head.next\n",
        "      return\n",
        "    \n",
        "    count=0\n",
        "    itr= self.head\n",
        "    while itr:\n",
        "      if count == index-1:\n",
        "        itr.next= itr.next.next\n",
        "        break\n",
        "      itr= itr.next\n",
        "      count += 1\n",
        "    \n",
        "  def insert_at(self, index, data):\n",
        "    if index<0 or index>=self.get_length():\n",
        "      raise Exception('Invalid Index!')\n",
        "      \n",
        "    if index==0:\n",
        "      self.insert_at_begining(data)\n",
        "      return\n",
        "      \n",
        "    count=0\n",
        "    itr= self.head\n",
        "    while itr:\n",
        "      if count== index-1:\n",
        "        node= Node(data, itr.next)\n",
        "        itr.next= node\n",
        "      itr= itr.next\n",
        "      count+=1\n",
        "  \n",
        "  def insert_after_value(self, data_after, data_to_insert):\n",
        "    if self.head is None:\n",
        "      return\n",
        "        \n",
        "    itr= self.head\n",
        "\n",
        "    while itr:\n",
        "      if itr.data == data_after:\n",
        "        node = Node(data_to_insert, itr.next)\n",
        "        itr.next= node\n",
        "        break\n",
        "\n",
        "      itr = itr.next   \n",
        "\n",
        "  def remove_by_value(self, data):\n",
        "        if self.head is None:\n",
        "            return\n",
        "\n",
        "        itr = self.head\n",
        "        if itr.data == data:\n",
        "            itr = itr.next\n",
        "            return\n",
        "\n",
        "        while itr.next:\n",
        "            if itr.next.data == data:\n",
        "                itr.next = itr.next.next\n",
        "                break\n",
        "            itr = itr.next  \n",
        "\n",
        "if __name__ == '__main__':\n",
        "  ll= Linkedlist()\n",
        "  ll.insert_at_begining(5)\n",
        "  ll.insert_at_begining(29)\n",
        "  ll.insert_at_end(22)\n",
        "  ll.insert_at_end(77)\n",
        "  ll.print()\n",
        "  print('length:', ll.get_length())"
      ],
      "execution_count": 75,
      "outputs": [
        {
          "output_type": "stream",
          "name": "stdout",
          "text": [
            "29-->5-->22-->77-->\n",
            "length: 4\n"
          ]
        }
      ]
    },
    {
      "cell_type": "code",
      "metadata": {
        "colab": {
          "base_uri": "https://localhost:8080/"
        },
        "id": "7E2caVzjEqrX",
        "outputId": "fb0b324d-595b-4045-932b-fb8002900b21"
      },
      "source": [
        "if __name__ == '__main__': \n",
        "  ll.insert_values(['apple', 'banana', 'mango', 'cherry'])\n",
        "  ll.insert_at(0, 'watermalon')\n",
        "  ll.print()\n",
        "  ll.insert_at(2, 'papaiya')\n",
        "  ll.insert_after_value(\"watermalon\",\"cheeku\")\n",
        "  ll.print()\n",
        "  ll.remove_by_value(\"papaiya\")\n",
        "  ll.print()\n",
        "  ll.remove_at(3)\n",
        "  ll.print()\n",
        "  print('length:', ll.get_length())"
      ],
      "execution_count": 77,
      "outputs": [
        {
          "output_type": "stream",
          "name": "stdout",
          "text": [
            "watermalon-->apple-->banana-->mango-->cherry-->\n",
            "watermalon-->cheeku-->apple-->papaiya-->banana-->mango-->cherry-->\n",
            "watermalon-->cheeku-->apple-->banana-->mango-->cherry-->\n",
            "watermalon-->cheeku-->apple-->mango-->cherry-->\n",
            "length: 5\n"
          ]
        }
      ]
    }
  ]
}