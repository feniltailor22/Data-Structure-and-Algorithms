{
  "nbformat": 4,
  "nbformat_minor": 0,
  "metadata": {
    "colab": {
      "name": "Binary Search, Linked List, Complexity Analysis.ipynb",
      "provenance": [],
      "collapsed_sections": [],
      "mount_file_id": "1jiaM6GT3kH9JBjuPmfTYuB_2VFxVCQD9",
      "authorship_tag": "ABX9TyPzkByWAnKsqdcc1Xy/VDgx",
      "include_colab_link": true
    },
    "kernelspec": {
      "name": "python3",
      "display_name": "Python 3"
    },
    "language_info": {
      "name": "python"
    }
  },
  "cells": [
    {
      "cell_type": "markdown",
      "metadata": {
        "id": "view-in-github",
        "colab_type": "text"
      },
      "source": [
        "<a href=\"https://colab.research.google.com/github/feniltailor22/Data-Structure-and-Algorithms/blob/main/Binary_Search%2C_Linked_List%2C_Complexity_Analysis.ipynb\" target=\"_parent\"><img src=\"https://colab.research.google.com/assets/colab-badge.svg\" alt=\"Open In Colab\"/></a>"
      ]
    },
    {
      "cell_type": "markdown",
      "metadata": {
        "id": "eRv2OjB7-YTt"
      },
      "source": [
        "QUESTION 1: Alice has some cards with numbers written on them. She arranges the cards in decreasing order, and lays them out face down in a sequence on a table. She challenges Bob to pick out the card containing a given number by turning over as few cards as possible. Write a function to help Bob locate the card.\n",
        "\n",
        "\n",
        "![image.png](data:image/png;base64,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)"
      ]
    },
    {
      "cell_type": "markdown",
      "metadata": {
        "id": "7bogGzTtBPky"
      },
      "source": [
        "## The Method\n",
        "\n",
        "Here's the systematic strategy we'll apply for solving problems:\n",
        "\n",
        "1. State the problem clearly. Identify the input & output formats.\n",
        "2. Come up with some example inputs & outputs. Try to cover all edge cases.\n",
        "3. Come up with a correct solution for the problem. State it in plain English.\n",
        "4. Implement the solution and test it using example inputs. Fix bugs, if any.\n",
        "5. Analyze the algorithm's complexity and identify inefficiencies, if any.\n",
        "6. Apply the right technique to overcome the inefficiency. Repeat steps 3 to 6.\n",
        "\n",
        "Let's apply this approach step-by-step."
      ]
    },
    {
      "cell_type": "markdown",
      "metadata": {
        "id": "YJQfuyhtBTh8"
      },
      "source": [
        "## Solution\n",
        "\n",
        "\n",
        "### 1. State the problem clearly. Identify the input & output formats.\n",
        "\n",
        " The first step is to state the problem clearly and precisely in abstract terms. \n",
        "\n",
        "<img src=\"https://i.imgur.com/mazym6s.png\" width=\"480\">\n",
        "\n",
        "In this case, for instance, we can represent the sequence of cards as a list of numbers. Turning over a specific card is equivalent to accessing the value of the number at the corresponding position the list. \n",
        "\n",
        "<img src=\"https://i.imgur.com/G9fBarb.png\" width=\"600\">\n",
        "\n",
        "The problem can now be stated as follows:\n",
        "\n",
        "#### Problem\n",
        "\n",
        "> We need to write a program to find the position of a given number in a list of numbers arranged in decreasing order. We also need to minimize the number of times we access elements from the list.\n",
        "\n",
        "#### Input\n",
        "\n",
        "1. `cards`: A list of numbers sorted in decreasing order. E.g. `[13, 11, 10, 7, 4, 3, 1, 0]`\n",
        "2. `query`: A number, whose position in the array is to be determined. E.g. `7`\n",
        "\n",
        "#### Output\n",
        "\n",
        "3. `position`: The position of `query` in the list `cards`. E.g. `3` in the above case (counting from `0`)\n",
        "\n",
        "\n",
        "\n",
        "Based on the above, we can now create the signature of our function:"
      ]
    },
    {
      "cell_type": "code",
      "metadata": {
        "id": "FnpMXnw_BeMq"
      },
      "source": [
        "def locate_card(cards, query):\n",
        "  pass"
      ],
      "execution_count": 1,
      "outputs": []
    },
    {
      "cell_type": "markdown",
      "metadata": {
        "id": "FRLfyLpqDjGX"
      },
      "source": [
        "### 2. Come up with some example inputs & outputs. Try to cover all edge cases.\n",
        "\n",
        "Before we start implementing our function, it would be useful to come up with some example inputs and outputs which we can use later to test out problem. We'll refer to them as *test cases*.\n",
        "\n",
        "Here's the test case described in the example above."
      ]
    },
    {
      "cell_type": "code",
      "metadata": {
        "id": "DKax5-JPDnPL"
      },
      "source": [
        "cards= [13, 11, 10, 7, 4, 3, 1, 0]\n",
        "query= 7\n",
        "output= 3"
      ],
      "execution_count": 2,
      "outputs": []
    },
    {
      "cell_type": "code",
      "metadata": {
        "colab": {
          "base_uri": "https://localhost:8080/"
        },
        "id": "toXhzyuiD849",
        "outputId": "31671da7-bb87-49fd-8075-98f5817efcc6"
      },
      "source": [
        "result= locate_card(cards, query)\n",
        "print(result)"
      ],
      "execution_count": 3,
      "outputs": [
        {
          "output_type": "stream",
          "name": "stdout",
          "text": [
            "None\n"
          ]
        }
      ]
    },
    {
      "cell_type": "code",
      "metadata": {
        "colab": {
          "base_uri": "https://localhost:8080/"
        },
        "id": "jPF-3HduEOTE",
        "outputId": "58066658-c057-4880-f780-45fd4fc28a47"
      },
      "source": [
        "result == output"
      ],
      "execution_count": 4,
      "outputs": [
        {
          "output_type": "execute_result",
          "data": {
            "text/plain": [
              "False"
            ]
          },
          "metadata": {},
          "execution_count": 4
        }
      ]
    },
    {
      "cell_type": "code",
      "metadata": {
        "id": "9FYb0vZSERP8"
      },
      "source": [
        "#Above test case can be represented as:\n",
        "test={\n",
        "    'input':{\n",
        "        'cards': [13, 11, 10, 7, 4, 3, 1, 0],\n",
        "        'query': 7\n",
        "    },\n",
        "    'output': 3\n",
        "}"
      ],
      "execution_count": 5,
      "outputs": []
    },
    {
      "cell_type": "code",
      "metadata": {
        "colab": {
          "base_uri": "https://localhost:8080/"
        },
        "id": "BNnAqLraFKHu",
        "outputId": "2ebd6314-815c-495e-be1f-a8033e6e2113"
      },
      "source": [
        "#The fuction can also be tested as folows:\n",
        "locate_card(test['input']['cards'],test['input']['query']) == test['output']"
      ],
      "execution_count": 6,
      "outputs": [
        {
          "output_type": "execute_result",
          "data": {
            "text/plain": [
              "False"
            ]
          },
          "metadata": {},
          "execution_count": 6
        }
      ]
    },
    {
      "cell_type": "markdown",
      "metadata": {
        "id": "-fl7HEc3J3Ad"
      },
      "source": [
        "Our function should be able to handle any set of valid inputs we pass into it. Here's a list of some possible variations we might encounter:\n",
        "\n",
        "1. The number `query` occurs somewhere in the middle of the list `cards`.\n",
        "2. `query` is the first element in `cards`.\n",
        "3. `query` is the last element in `cards`.\n",
        "4. The list `cards` contains just one element, which is `query`.\n",
        "5. The list `cards` does not contain number `query`.\n",
        "6. The list `cards` is empty.\n",
        "7. The list `cards` contains repeating numbers.\n",
        "8. The number `query` occurs at more than one position in `cards`.\n",
        "9. (can you think of any more variations?)\n",
        "\n",
        "> **Edge Cases**: It's likely that you didn't think of all of the above cases when you read the problem for the first time. Some of these (like the empty array or `query` not occurring in `cards`) are called *edge cases*, as they represent rare or extreme examples. \n",
        "\n",
        "While edge cases may not occur frequently, your programs should be able to handle all edge cases, otherwise they may fail in unexpected ways. Let's create some more test cases for the variations listed above. We'll store all our test cases in an list for easier testing."
      ]
    },
    {
      "cell_type": "code",
      "metadata": {
        "id": "0yqt38bPF5zW"
      },
      "source": [
        "tests= []"
      ],
      "execution_count": 7,
      "outputs": []
    },
    {
      "cell_type": "code",
      "metadata": {
        "id": "x2GtnzB9KT18"
      },
      "source": [
        "#test case 1: query occurs in middle\n",
        "tests.append(test)\n",
        "\n",
        "tests.append({\n",
        "    'input': {\n",
        "        'cards': [13, 11, 10, 7, 4, 3, 1, 0],\n",
        "        'query': 1\n",
        "    },\n",
        "    'output': 6\n",
        "})"
      ],
      "execution_count": 8,
      "outputs": []
    },
    {
      "cell_type": "code",
      "metadata": {
        "id": "RyhqVeeMKu94"
      },
      "source": [
        "#test case 2: query is the first element\n",
        "tests.append({\n",
        "    'input': {\n",
        "        'cards': [4, 2, 1, -1],\n",
        "        'query': 4\n",
        "    },\n",
        "    'output': 0\n",
        "})"
      ],
      "execution_count": 9,
      "outputs": []
    },
    {
      "cell_type": "code",
      "metadata": {
        "id": "cZetQh5wK0IL"
      },
      "source": [
        "#test case 3: query is the last element\n",
        "tests.append({\n",
        "    'input': {\n",
        "        'cards': [3, -1, -9, -127],\n",
        "        'query': -127\n",
        "    },\n",
        "    'output': 3\n",
        "})"
      ],
      "execution_count": 10,
      "outputs": []
    },
    {
      "cell_type": "code",
      "metadata": {
        "id": "by8DsieuK6ad"
      },
      "source": [
        "#test case 4: cards contains just one element, query\n",
        "tests.append({\n",
        "    'input': {\n",
        "        'cards': [6],\n",
        "        'query': 6\n",
        "    },\n",
        "    'output': 0 \n",
        "})"
      ],
      "execution_count": 11,
      "outputs": []
    },
    {
      "cell_type": "code",
      "metadata": {
        "id": "NIG-hi2JLF63"
      },
      "source": [
        "#We will assume that our function will return -1 in case cards does not contain query."
      ],
      "execution_count": 12,
      "outputs": []
    },
    {
      "cell_type": "code",
      "metadata": {
        "id": "mlOhxExkLOH1"
      },
      "source": [
        "#test case 5: cards does not contain query \n",
        "tests.append({\n",
        "    'input': {\n",
        "        'cards': [9, 7, 5, 2, -9],\n",
        "        'query': 4\n",
        "    },\n",
        "    'output': -1\n",
        "})"
      ],
      "execution_count": 13,
      "outputs": []
    },
    {
      "cell_type": "code",
      "metadata": {
        "id": "EiCD6zoaLlGE"
      },
      "source": [
        "#test case 5: cards is empty\n",
        "tests.append({\n",
        "    'input': {\n",
        "        'cards': [],\n",
        "        'query': 7\n",
        "    },\n",
        "    'output': -1\n",
        "})"
      ],
      "execution_count": 14,
      "outputs": []
    },
    {
      "cell_type": "code",
      "metadata": {
        "id": "nx3Scw-TLqfD"
      },
      "source": [
        "#test case 6: numbers can repeat in cards\n",
        "tests.append({\n",
        "    'input': {\n",
        "        'cards': [8, 8, 6, 6, 6, 6, 6, 3, 2, 2, 2, 0, 0, 0],\n",
        "        'query': 3\n",
        "    },\n",
        "    'output': 7\n",
        "})"
      ],
      "execution_count": 15,
      "outputs": []
    },
    {
      "cell_type": "code",
      "metadata": {
        "id": "rBYdLOymL0em"
      },
      "source": [
        "#In the case where query occurs multiple times in cards, we'll expect our function to return the first occurrence of query.\n",
        "#test case 7: query occurs multiple times\n",
        "tests.append({\n",
        "    'input': {\n",
        "        'cards': [8, 8, 6, 6, 6, 6, 6, 6, 3, 2, 2, 2, 0, 0, 0],\n",
        "        'query': 6\n",
        "    },\n",
        "    'output': 2\n",
        "})"
      ],
      "execution_count": 16,
      "outputs": []
    },
    {
      "cell_type": "code",
      "metadata": {
        "colab": {
          "base_uri": "https://localhost:8080/"
        },
        "id": "q03FiL_-MAD6",
        "outputId": "5d0d2fe0-714b-47b9-8077-617cdd856a40"
      },
      "source": [
        "#full set of test cases \n",
        "tests"
      ],
      "execution_count": 17,
      "outputs": [
        {
          "output_type": "execute_result",
          "data": {
            "text/plain": [
              "[{'input': {'cards': [13, 11, 10, 7, 4, 3, 1, 0], 'query': 7}, 'output': 3},\n",
              " {'input': {'cards': [13, 11, 10, 7, 4, 3, 1, 0], 'query': 1}, 'output': 6},\n",
              " {'input': {'cards': [4, 2, 1, -1], 'query': 4}, 'output': 0},\n",
              " {'input': {'cards': [3, -1, -9, -127], 'query': -127}, 'output': 3},\n",
              " {'input': {'cards': [6], 'query': 6}, 'output': 0},\n",
              " {'input': {'cards': [9, 7, 5, 2, -9], 'query': 4}, 'output': -1},\n",
              " {'input': {'cards': [], 'query': 7}, 'output': -1},\n",
              " {'input': {'cards': [8, 8, 6, 6, 6, 6, 6, 3, 2, 2, 2, 0, 0, 0], 'query': 3},\n",
              "  'output': 7},\n",
              " {'input': {'cards': [8, 8, 6, 6, 6, 6, 6, 6, 3, 2, 2, 2, 0, 0, 0],\n",
              "   'query': 6},\n",
              "  'output': 2}]"
            ]
          },
          "metadata": {},
          "execution_count": 17
        }
      ]
    },
    {
      "cell_type": "markdown",
      "metadata": {
        "id": "0bwZ6eDmNUj7"
      },
      "source": [
        "### 3. Come up with a correct solution for the problem. State it in plain English.\n",
        "\n",
        "Our first goal should always be to come up with a _correct_ solution to the problem, which may necessarily be the most _efficient_ solution. The simplest or most obvious solution to a problem, which generally involves checking all possible answers is called the _brute force_ solution.\n",
        "\n",
        "In this problem, coming up with a correct solution is quite easy: Bob can simply turn over cards in order one by one, till he find a card with the given number on it. Here's how we might implement it:\n",
        "\n",
        "1. Create a variable `position` with the value 0.\n",
        "3. Check whether the number at index `position` in `card` equals `query`.\n",
        "4. If it does, `position` is the answer and can be returned from the function\n",
        "5. If not, increment the value of `position` by 1, and repeat steps 2 to 5 till we reach the last position.\n",
        "6. If the number was not found, return `-1`.\n",
        "\n",
        "> **Linear Search Algorithm**: Congratulations, we've just written our first _algorithm_! An algorithm is simply a list of statements which can be converted into code and executed by a computer on different sets of inputs. This particular algorithm is called linear search, since it involves searching through a list in a linear fashion i.e. element after element.\n",
        "\n"
      ]
    },
    {
      "cell_type": "markdown",
      "metadata": {
        "id": "Y18-iRZLOUPp"
      },
      "source": [
        "### 4. Implement the solution and test it using example inputs. Fix bugs, if any.\n",
        "\n",
        "We now exactly what we want our function to do, and we have an easy way of testing it on a variety of inputs.\n",
        "\n",
        "Here's a first attempt at implementing the function."
      ]
    },
    {
      "cell_type": "code",
      "metadata": {
        "id": "Rux1xrbRMGTV"
      },
      "source": [
        "def locate_cards(cards, query):\n",
        "  #Creat a variable position with the value 0.\n",
        "  position = 0\n",
        "\n",
        "  while True:\n",
        "\n",
        "    #check if element at the current position match the query\n",
        "    if cards[position] == query:\n",
        "      return position\n",
        "    \n",
        "    position += 1\n",
        "    \n",
        "    #check if we have reached the end of the array\n",
        "    if position == len(cards):\n",
        "      return -1\n",
        "\n",
        "#if we run this function then we will have an error when the list is empty. Hence below code is used for each condition."
      ],
      "execution_count": 18,
      "outputs": []
    },
    {
      "cell_type": "code",
      "metadata": {
        "id": "sM7pev0FifTy"
      },
      "source": [
        "def locate_cards(cards, query):\n",
        "  #Create a variable position with the value 0.\n",
        "  position = 0\n",
        "\n",
        "  while position<len(cards):\n",
        "\n",
        "    #check if element at the current position match the query\n",
        "    if cards[position] == query:\n",
        "      return position\n",
        "    \n",
        "    position += 1\n",
        "    \n",
        "  #check if we have reached the end of the array\n",
        "  else:\n",
        "      return -1"
      ],
      "execution_count": 19,
      "outputs": []
    },
    {
      "cell_type": "code",
      "metadata": {
        "id": "qN2g10LKRpuK"
      },
      "source": [
        "test={\n",
        "    'input':{\n",
        "        'cards': [17, 13, 11, 10, 7, 4, 3, 1, 0],\n",
        "        'query': 7\n",
        "    },\n",
        "    'output': 4\n",
        "}"
      ],
      "execution_count": 20,
      "outputs": []
    },
    {
      "cell_type": "code",
      "metadata": {
        "colab": {
          "base_uri": "https://localhost:8080/"
        },
        "id": "WhuWFWvlSjFs",
        "outputId": "89eae0bd-137c-46e0-f5cf-aec03f947cd0"
      },
      "source": [
        "test"
      ],
      "execution_count": 21,
      "outputs": [
        {
          "output_type": "execute_result",
          "data": {
            "text/plain": [
              "{'input': {'cards': [17, 13, 11, 10, 7, 4, 3, 1, 0], 'query': 7}, 'output': 4}"
            ]
          },
          "metadata": {},
          "execution_count": 21
        }
      ]
    },
    {
      "cell_type": "code",
      "metadata": {
        "colab": {
          "base_uri": "https://localhost:8080/"
        },
        "id": "fdnnoYlDSnXg",
        "outputId": "cd9d9c00-42e7-41d5-bd18-e7f816f1d956"
      },
      "source": [
        "result= locate_cards(test['input']['cards'],test['input']['query'])\n",
        "result"
      ],
      "execution_count": 22,
      "outputs": [
        {
          "output_type": "execute_result",
          "data": {
            "text/plain": [
              "4"
            ]
          },
          "metadata": {},
          "execution_count": 22
        }
      ]
    },
    {
      "cell_type": "code",
      "metadata": {
        "colab": {
          "base_uri": "https://localhost:8080/"
        },
        "id": "ModtdbAIUwBX",
        "outputId": "78edeaf1-69ba-443e-908b-b3f082946575"
      },
      "source": [
        "result == test['output']"
      ],
      "execution_count": 23,
      "outputs": [
        {
          "output_type": "execute_result",
          "data": {
            "text/plain": [
              "True"
            ]
          },
          "metadata": {},
          "execution_count": 23
        }
      ]
    },
    {
      "cell_type": "code",
      "metadata": {
        "id": "nFJ5lEJ0WNQi"
      },
      "source": [
        "#Trying the same function on different test cases:"
      ],
      "execution_count": 24,
      "outputs": []
    },
    {
      "cell_type": "code",
      "metadata": {
        "colab": {
          "base_uri": "https://localhost:8080/"
        },
        "id": "wsknwy05Xw7D",
        "outputId": "043a246e-0f60-4717-f768-f8c74620a659"
      },
      "source": [
        "tests[0]"
      ],
      "execution_count": 25,
      "outputs": [
        {
          "output_type": "execute_result",
          "data": {
            "text/plain": [
              "{'input': {'cards': [13, 11, 10, 7, 4, 3, 1, 0], 'query': 7}, 'output': 3}"
            ]
          },
          "metadata": {},
          "execution_count": 25
        }
      ]
    },
    {
      "cell_type": "code",
      "metadata": {
        "colab": {
          "base_uri": "https://localhost:8080/"
        },
        "id": "7eYLsiC3U69E",
        "outputId": "1b899151-0ccf-4bb0-8c54-021f28216958"
      },
      "source": [
        "result0= locate_cards(tests[0]['input']['cards'],tests[0]['input']['query'])\n",
        "result0"
      ],
      "execution_count": 26,
      "outputs": [
        {
          "output_type": "execute_result",
          "data": {
            "text/plain": [
              "3"
            ]
          },
          "metadata": {},
          "execution_count": 26
        }
      ]
    },
    {
      "cell_type": "code",
      "metadata": {
        "colab": {
          "base_uri": "https://localhost:8080/"
        },
        "id": "mzRHMiy1X6cg",
        "outputId": "409e67bb-ad25-493c-c848-58f576c2b021"
      },
      "source": [
        "tests[1]"
      ],
      "execution_count": 27,
      "outputs": [
        {
          "output_type": "execute_result",
          "data": {
            "text/plain": [
              "{'input': {'cards': [13, 11, 10, 7, 4, 3, 1, 0], 'query': 1}, 'output': 6}"
            ]
          },
          "metadata": {},
          "execution_count": 27
        }
      ]
    },
    {
      "cell_type": "code",
      "metadata": {
        "colab": {
          "base_uri": "https://localhost:8080/"
        },
        "id": "sVr6thHzX8tl",
        "outputId": "84d18200-2e5e-466d-e29c-5360e41288de"
      },
      "source": [
        "result1= locate_cards(tests[1]['input']['cards'],tests[1]['input']['query'])\n",
        "result1"
      ],
      "execution_count": 28,
      "outputs": [
        {
          "output_type": "execute_result",
          "data": {
            "text/plain": [
              "6"
            ]
          },
          "metadata": {},
          "execution_count": 28
        }
      ]
    },
    {
      "cell_type": "code",
      "metadata": {
        "colab": {
          "base_uri": "https://localhost:8080/"
        },
        "id": "1D83kImSYIYf",
        "outputId": "0fbbfa02-9075-4522-f4ef-f8172af3f2cc"
      },
      "source": [
        "tests[2]"
      ],
      "execution_count": 29,
      "outputs": [
        {
          "output_type": "execute_result",
          "data": {
            "text/plain": [
              "{'input': {'cards': [4, 2, 1, -1], 'query': 4}, 'output': 0}"
            ]
          },
          "metadata": {},
          "execution_count": 29
        }
      ]
    },
    {
      "cell_type": "code",
      "metadata": {
        "colab": {
          "base_uri": "https://localhost:8080/"
        },
        "id": "hBkvFDgzYKqu",
        "outputId": "f7d85ce5-37ad-4cce-b39f-1bdfc1a121c7"
      },
      "source": [
        "result2= locate_cards(tests[2]['input']['cards'],tests[2]['input']['query'])\n",
        "result2"
      ],
      "execution_count": 30,
      "outputs": [
        {
          "output_type": "execute_result",
          "data": {
            "text/plain": [
              "0"
            ]
          },
          "metadata": {},
          "execution_count": 30
        }
      ]
    },
    {
      "cell_type": "code",
      "metadata": {
        "colab": {
          "base_uri": "https://localhost:8080/"
        },
        "id": "c8fw8QjrYafT",
        "outputId": "cdab0b70-60a3-4a83-b0b4-37269775d94d"
      },
      "source": [
        "tests[3]"
      ],
      "execution_count": 31,
      "outputs": [
        {
          "output_type": "execute_result",
          "data": {
            "text/plain": [
              "{'input': {'cards': [3, -1, -9, -127], 'query': -127}, 'output': 3}"
            ]
          },
          "metadata": {},
          "execution_count": 31
        }
      ]
    },
    {
      "cell_type": "code",
      "metadata": {
        "colab": {
          "base_uri": "https://localhost:8080/"
        },
        "id": "7ZXx1DzCY4bJ",
        "outputId": "497244e6-1fe3-4956-e01c-eac74b9ae8c0"
      },
      "source": [
        "result3= locate_cards(tests[3]['input']['cards'],tests[3]['input']['query'])\n",
        "result3"
      ],
      "execution_count": 32,
      "outputs": [
        {
          "output_type": "execute_result",
          "data": {
            "text/plain": [
              "3"
            ]
          },
          "metadata": {},
          "execution_count": 32
        }
      ]
    },
    {
      "cell_type": "code",
      "metadata": {
        "colab": {
          "base_uri": "https://localhost:8080/"
        },
        "id": "_iCzoIxEY9Dj",
        "outputId": "92064691-78d2-41dd-c8c8-f62b4e2f8932"
      },
      "source": [
        "tests[4]"
      ],
      "execution_count": 33,
      "outputs": [
        {
          "output_type": "execute_result",
          "data": {
            "text/plain": [
              "{'input': {'cards': [6], 'query': 6}, 'output': 0}"
            ]
          },
          "metadata": {},
          "execution_count": 33
        }
      ]
    },
    {
      "cell_type": "code",
      "metadata": {
        "colab": {
          "base_uri": "https://localhost:8080/"
        },
        "id": "MxI0GxLwZBAx",
        "outputId": "65309eb5-9ffe-42a0-bacd-9827d8aeb190"
      },
      "source": [
        "result4= locate_cards(tests[4]['input']['cards'],tests[4]['input']['query'])\n",
        "result4"
      ],
      "execution_count": 34,
      "outputs": [
        {
          "output_type": "execute_result",
          "data": {
            "text/plain": [
              "0"
            ]
          },
          "metadata": {},
          "execution_count": 34
        }
      ]
    },
    {
      "cell_type": "code",
      "metadata": {
        "colab": {
          "base_uri": "https://localhost:8080/"
        },
        "id": "n4BSaP9sfk_T",
        "outputId": "7821edba-965b-4300-eba5-69250029907e"
      },
      "source": [
        "tests[5]"
      ],
      "execution_count": 35,
      "outputs": [
        {
          "output_type": "execute_result",
          "data": {
            "text/plain": [
              "{'input': {'cards': [9, 7, 5, 2, -9], 'query': 4}, 'output': -1}"
            ]
          },
          "metadata": {},
          "execution_count": 35
        }
      ]
    },
    {
      "cell_type": "code",
      "metadata": {
        "colab": {
          "base_uri": "https://localhost:8080/"
        },
        "id": "wLxTDDidfpc-",
        "outputId": "88993df0-94f4-41b5-937e-8ab7c33b6b84"
      },
      "source": [
        "result5= locate_cards(tests[5]['input']['cards'],tests[5]['input']['query'])\n",
        "result5"
      ],
      "execution_count": 36,
      "outputs": [
        {
          "output_type": "execute_result",
          "data": {
            "text/plain": [
              "-1"
            ]
          },
          "metadata": {},
          "execution_count": 36
        }
      ]
    },
    {
      "cell_type": "code",
      "metadata": {
        "colab": {
          "base_uri": "https://localhost:8080/"
        },
        "id": "glmXjFxVfuaP",
        "outputId": "9b399b4e-70ab-4180-ef95-21fc028a24c4"
      },
      "source": [
        "tests[6]"
      ],
      "execution_count": 37,
      "outputs": [
        {
          "output_type": "execute_result",
          "data": {
            "text/plain": [
              "{'input': {'cards': [], 'query': 7}, 'output': -1}"
            ]
          },
          "metadata": {},
          "execution_count": 37
        }
      ]
    },
    {
      "cell_type": "code",
      "metadata": {
        "colab": {
          "base_uri": "https://localhost:8080/"
        },
        "id": "3q-Tte7yfz4J",
        "outputId": "baf1715d-2fa7-4fe4-8355-8671ece85512"
      },
      "source": [
        "result6= locate_cards(tests[6]['input']['cards'],tests[6]['input']['query'])\n",
        "result6"
      ],
      "execution_count": 38,
      "outputs": [
        {
          "output_type": "execute_result",
          "data": {
            "text/plain": [
              "-1"
            ]
          },
          "metadata": {},
          "execution_count": 38
        }
      ]
    },
    {
      "cell_type": "markdown",
      "metadata": {
        "id": "v7lpnPHVkyVd"
      },
      "source": [
        "###5. Analyze the algorithm's complexity and identify inefficiencies, if any.\n",
        "\n",
        "Before we can minimize the number, we need a way to measure it. Since we access a list element once in every iteration, for a list of size N we access the elements from the list up to N times. Thus, Bob may need to overturn up to N cards in the worst case, to find the required card.\n",
        "\n",
        "The field of study concerned with finding the amount of time, space or other resources required to complete the execution of computer programs is called the analysis of algorithms. And the process of figuring out the best algorithm to solve a given problem is called algorithm design and optimization."
      ]
    },
    {
      "cell_type": "markdown",
      "metadata": {
        "id": "UGocBiNylVfA"
      },
      "source": [
        "###Complexity and Big O Notation\n",
        "Complexity of an algorithm is a measure of the amount of time and/or space required by an algorithm for an input of a given size e.g. N. Unless otherwise stated, the term complexity always refers to the worst-case complexity (i.e. the highest possible time/space taken by the program/algorithm to process an input)."
      ]
    },
    {
      "cell_type": "markdown",
      "metadata": {
        "id": "b4qBZyvUpT_Z"
      },
      "source": [
        "In the case of linear search:\n",
        "\n",
        "1. The time complexity of the algorithm is cN for some fixed constant c that depends on the number of operations we perform in each iteration and the time taken to execute a statement. Time complexity is sometimes also called the running time of the algorithm.\n",
        "\n",
        "2. The space complexity is some constant c' (independent of N), since we just need a single variable position to iterate through the array, and it occupies a constant space in the computer's memory (RAM).\n",
        "\n",
        "Big O Notation:\n",
        "\n",
        "Worst-case complexity is often expressed using the Big O notation. In the Big O, we drop fixed constants and lower powers of variables to capture the trend of relationship between the size of the input and the complexity of the algorithm i.e. if the complexity of the algorithm is cN^3 + dN^2 + eN + f, in the Big O notation it is expressed as O(N^3)\n",
        "\n",
        "Thus, the time complexity of linear search is O(N) and its space complexity is O(1).\n",
        "\n",
        "\n",
        "\n",
        "\n"
      ]
    },
    {
      "cell_type": "markdown",
      "metadata": {
        "id": "vQXohfEkrsNU"
      },
      "source": [
        "### 7. Come up with a correct solution for the problem. State it in plain English.\n",
        "\n",
        "####Binary Search\n",
        "\n",
        "It is used when:\n",
        "1. We have sorted array.\n",
        "2. We need to do comparisons.\n",
        "\n",
        "Here's how binary search can be applied to our problem:\n",
        "\n",
        "1. Find the middle element of the list.\n",
        "2. If it matches queried number, return the middle position as the answer.\n",
        "3. If it is less than the queried number, then search the first half of the list\n",
        "3. If it is greater than the queried number, then search the second half of the list\n",
        "4. If no more elements remain, return -1.\n"
      ]
    },
    {
      "cell_type": "markdown",
      "metadata": {
        "id": "0lkIOHGLsAD2"
      },
      "source": [
        "### 8. Implement the solution and test it using example inputs. Fix bugs, if any."
      ]
    },
    {
      "cell_type": "code",
      "metadata": {
        "id": "GZMTBruXhx8u"
      },
      "source": [
        "l= [12,45,26,63,96,55,41,89,42,67,5]"
      ],
      "execution_count": 39,
      "outputs": []
    },
    {
      "cell_type": "code",
      "metadata": {
        "id": "e3m6sO5YtbMZ"
      },
      "source": [
        "l.sort(reverse=True)"
      ],
      "execution_count": 40,
      "outputs": []
    },
    {
      "cell_type": "code",
      "metadata": {
        "colab": {
          "base_uri": "https://localhost:8080/"
        },
        "id": "j72FrhVMtcfd",
        "outputId": "79d576da-5b8e-4da8-e72a-41ea2c867f3d"
      },
      "source": [
        "l"
      ],
      "execution_count": 41,
      "outputs": [
        {
          "output_type": "execute_result",
          "data": {
            "text/plain": [
              "[96, 89, 67, 63, 55, 45, 42, 41, 26, 12, 5]"
            ]
          },
          "metadata": {},
          "execution_count": 41
        }
      ]
    },
    {
      "cell_type": "code",
      "metadata": {
        "colab": {
          "base_uri": "https://localhost:8080/"
        },
        "id": "MK0E3Xj2vvbG",
        "outputId": "2a570ddb-4173-4664-987d-c2607bbde75a"
      },
      "source": [
        "len(l)"
      ],
      "execution_count": 42,
      "outputs": [
        {
          "output_type": "execute_result",
          "data": {
            "text/plain": [
              "11"
            ]
          },
          "metadata": {},
          "execution_count": 42
        }
      ]
    },
    {
      "cell_type": "code",
      "metadata": {
        "colab": {
          "base_uri": "https://localhost:8080/"
        },
        "id": "dUfbgq1dxE51",
        "outputId": "2a848a87-b47f-4178-d6ef-5df4018219f0"
      },
      "source": [
        "11/2, 11//2 # '//' is used to return integer number."
      ],
      "execution_count": 43,
      "outputs": [
        {
          "output_type": "execute_result",
          "data": {
            "text/plain": [
              "(5.5, 5)"
            ]
          },
          "metadata": {},
          "execution_count": 43
        }
      ]
    },
    {
      "cell_type": "code",
      "metadata": {
        "id": "PTkJPOmktdZ8"
      },
      "source": [
        "def detect_card_position (cards,query):\n",
        "  \n",
        "  cards.sort(reverse=True)\n",
        "  lo, hi= 0, len(cards)-1\n",
        "\n",
        "  while lo <= hi:\n",
        "    mid = (lo + hi) // 2 \n",
        "    mid_number= cards[mid]\n",
        "    \n",
        "    print('lo:', lo, 'hi:', hi, 'mid:', mid, 'mid_number:', mid_number )\n",
        "\n",
        "    if mid_number == query:\n",
        "      return mid_number\n",
        "    elif mid_number < query:\n",
        "      hi = mid - 1\n",
        "    elif mid_number > query:\n",
        "      lo = mid + 1\n",
        "  \n",
        "  return -1"
      ],
      "execution_count": 44,
      "outputs": []
    },
    {
      "cell_type": "code",
      "metadata": {
        "id": "wujW28eXzdqu"
      },
      "source": [
        "test_data1= {\n",
        "    'cards': [12,45,26,63,96,55,41,89,42,67,5],\n",
        "    'query': 26\n",
        "}"
      ],
      "execution_count": 45,
      "outputs": []
    },
    {
      "cell_type": "code",
      "metadata": {
        "colab": {
          "base_uri": "https://localhost:8080/"
        },
        "id": "QuSEJcClz35s",
        "outputId": "9b6807ea-1c36-4fc9-dd2b-c429e02c5612"
      },
      "source": [
        "test_data1['cards']"
      ],
      "execution_count": 46,
      "outputs": [
        {
          "output_type": "execute_result",
          "data": {
            "text/plain": [
              "[12, 45, 26, 63, 96, 55, 41, 89, 42, 67, 5]"
            ]
          },
          "metadata": {},
          "execution_count": 46
        }
      ]
    },
    {
      "cell_type": "code",
      "metadata": {
        "colab": {
          "base_uri": "https://localhost:8080/"
        },
        "id": "1DFxAW3q1NEu",
        "outputId": "6208dbba-a8fd-49ce-9096-51e00e0c39d5"
      },
      "source": [
        "test_result1= detect_card_position(test_data1['cards'], test_data1['query'])"
      ],
      "execution_count": 47,
      "outputs": [
        {
          "output_type": "stream",
          "name": "stdout",
          "text": [
            "lo: 0 hi: 10 mid: 5 mid_number: 45\n",
            "lo: 6 hi: 10 mid: 8 mid_number: 26\n"
          ]
        }
      ]
    },
    {
      "cell_type": "code",
      "metadata": {
        "colab": {
          "base_uri": "https://localhost:8080/"
        },
        "id": "9Hexg_0z7Y4k",
        "outputId": "ab4a27a1-dc3f-4034-aeca-abba7cd62afe"
      },
      "source": [
        "test_data1['cards']"
      ],
      "execution_count": 48,
      "outputs": [
        {
          "output_type": "execute_result",
          "data": {
            "text/plain": [
              "[96, 89, 67, 63, 55, 45, 42, 41, 26, 12, 5]"
            ]
          },
          "metadata": {},
          "execution_count": 48
        }
      ]
    },
    {
      "cell_type": "code",
      "metadata": {
        "id": "RS_SkfQP7ipu"
      },
      "source": [
        "#That means after passing the test data1 value in the fuction we get cards in descending order."
      ],
      "execution_count": 49,
      "outputs": []
    },
    {
      "cell_type": "code",
      "metadata": {
        "colab": {
          "base_uri": "https://localhost:8080/"
        },
        "id": "yJsrr8W11mYk",
        "outputId": "5afcb7db-66b1-4e07-9e8c-9e9698fdd162"
      },
      "source": [
        "test_result1"
      ],
      "execution_count": 50,
      "outputs": [
        {
          "output_type": "execute_result",
          "data": {
            "text/plain": [
              "26"
            ]
          },
          "metadata": {},
          "execution_count": 50
        }
      ]
    },
    {
      "cell_type": "code",
      "metadata": {
        "id": "_Lrc144G34iz"
      },
      "source": [
        "test_data2= {\n",
        "    'cards': [12,45,26,63,96,55,41,89,42,67,5],\n",
        "    'query': 89\n",
        "}"
      ],
      "execution_count": 51,
      "outputs": []
    },
    {
      "cell_type": "code",
      "metadata": {
        "colab": {
          "base_uri": "https://localhost:8080/"
        },
        "id": "frEedcWZ3-uX",
        "outputId": "985a8f49-fea3-4ba1-834d-44c1e4bf90a8"
      },
      "source": [
        "test_result2= detect_card_position(test_data2['cards'], test_data2['query'])"
      ],
      "execution_count": 52,
      "outputs": [
        {
          "output_type": "stream",
          "name": "stdout",
          "text": [
            "lo: 0 hi: 10 mid: 5 mid_number: 45\n",
            "lo: 0 hi: 4 mid: 2 mid_number: 67\n",
            "lo: 0 hi: 1 mid: 0 mid_number: 96\n",
            "lo: 1 hi: 1 mid: 1 mid_number: 89\n"
          ]
        }
      ]
    },
    {
      "cell_type": "code",
      "metadata": {
        "id": "USGV_B3c4hAQ"
      },
      "source": [
        "test_data3= {\n",
        "    'cards': [12,45,26,63,96,55,41,89,42,67,5],\n",
        "    'query': 41\n",
        "}"
      ],
      "execution_count": 53,
      "outputs": []
    },
    {
      "cell_type": "code",
      "metadata": {
        "colab": {
          "base_uri": "https://localhost:8080/"
        },
        "id": "TBCbQT894jo6",
        "outputId": "5806fdf6-fccd-4798-b68b-2a1a45a2ff7a"
      },
      "source": [
        "test_result3= detect_card_position(test_data3['cards'], test_data3['query'])"
      ],
      "execution_count": 54,
      "outputs": [
        {
          "output_type": "stream",
          "name": "stdout",
          "text": [
            "lo: 0 hi: 10 mid: 5 mid_number: 45\n",
            "lo: 6 hi: 10 mid: 8 mid_number: 26\n",
            "lo: 6 hi: 7 mid: 6 mid_number: 42\n",
            "lo: 7 hi: 7 mid: 7 mid_number: 41\n"
          ]
        }
      ]
    },
    {
      "cell_type": "code",
      "metadata": {
        "colab": {
          "base_uri": "https://localhost:8080/"
        },
        "id": "jofAYLVK4_mD",
        "outputId": "26c88f11-fdc6-46ea-c188-86288e59015b"
      },
      "source": [
        "test_result3"
      ],
      "execution_count": 55,
      "outputs": [
        {
          "output_type": "execute_result",
          "data": {
            "text/plain": [
              "41"
            ]
          },
          "metadata": {},
          "execution_count": 55
        }
      ]
    },
    {
      "cell_type": "code",
      "metadata": {
        "id": "nGtZmpPj-chJ"
      },
      "source": [
        "test_data4= {\n",
        "    'cards': [12,45,26,63,96,55,41,89,42,67,5],\n",
        "    'query': 5\n",
        "}"
      ],
      "execution_count": 56,
      "outputs": []
    },
    {
      "cell_type": "code",
      "metadata": {
        "colab": {
          "base_uri": "https://localhost:8080/"
        },
        "id": "YAJGr6tT-hz5",
        "outputId": "a7cba443-02c6-4d96-8a84-d52ab2403c93"
      },
      "source": [
        "test_result4= detect_card_position(test_data4['cards'], test_data4['query'])"
      ],
      "execution_count": 57,
      "outputs": [
        {
          "output_type": "stream",
          "name": "stdout",
          "text": [
            "lo: 0 hi: 10 mid: 5 mid_number: 45\n",
            "lo: 6 hi: 10 mid: 8 mid_number: 26\n",
            "lo: 9 hi: 10 mid: 9 mid_number: 12\n",
            "lo: 10 hi: 10 mid: 10 mid_number: 5\n"
          ]
        }
      ]
    },
    {
      "cell_type": "code",
      "metadata": {
        "colab": {
          "base_uri": "https://localhost:8080/"
        },
        "id": "OCuUgeNg-ovN",
        "outputId": "06f30d56-0169-4b5e-9c48-78d00a3345c9"
      },
      "source": [
        "test_result4"
      ],
      "execution_count": 58,
      "outputs": [
        {
          "output_type": "execute_result",
          "data": {
            "text/plain": [
              "5"
            ]
          },
          "metadata": {},
          "execution_count": 58
        }
      ]
    },
    {
      "cell_type": "code",
      "metadata": {
        "id": "5X7PDZB4-dYJ"
      },
      "source": [
        "test_data5= {\n",
        "    'cards': [12,45,26,63,96,55,41,89,42,67,5],\n",
        "    'query': 12\n",
        "}"
      ],
      "execution_count": 59,
      "outputs": []
    },
    {
      "cell_type": "code",
      "metadata": {
        "colab": {
          "base_uri": "https://localhost:8080/"
        },
        "id": "RpV9S9eb-jBs",
        "outputId": "66180eef-b72d-416d-f100-39ef09b4d178"
      },
      "source": [
        "test_result5= detect_card_position(test_data5['cards'], test_data5['query'])"
      ],
      "execution_count": 60,
      "outputs": [
        {
          "output_type": "stream",
          "name": "stdout",
          "text": [
            "lo: 0 hi: 10 mid: 5 mid_number: 45\n",
            "lo: 6 hi: 10 mid: 8 mid_number: 26\n",
            "lo: 9 hi: 10 mid: 9 mid_number: 12\n"
          ]
        }
      ]
    },
    {
      "cell_type": "code",
      "metadata": {
        "colab": {
          "base_uri": "https://localhost:8080/"
        },
        "id": "RryAuxoc-rka",
        "outputId": "d842229e-7189-472d-a7df-aa33ab45990c"
      },
      "source": [
        "test_result5"
      ],
      "execution_count": 61,
      "outputs": [
        {
          "output_type": "execute_result",
          "data": {
            "text/plain": [
              "12"
            ]
          },
          "metadata": {},
          "execution_count": 61
        }
      ]
    },
    {
      "cell_type": "code",
      "metadata": {
        "id": "sFN-qCl5-d69"
      },
      "source": [
        "test_data6= {\n",
        "    'cards': [12,45,26,63,96,55,41,89,42,67,5],\n",
        "    'query': 43\n",
        "}"
      ],
      "execution_count": 62,
      "outputs": []
    },
    {
      "cell_type": "code",
      "metadata": {
        "colab": {
          "base_uri": "https://localhost:8080/"
        },
        "id": "5Pw_ZiHF-kcy",
        "outputId": "5349f9c9-cf6c-4599-f324-5d5a16887374"
      },
      "source": [
        "test_result6= detect_card_position(test_data6['cards'], test_data6['query'])"
      ],
      "execution_count": 63,
      "outputs": [
        {
          "output_type": "stream",
          "name": "stdout",
          "text": [
            "lo: 0 hi: 10 mid: 5 mid_number: 45\n",
            "lo: 6 hi: 10 mid: 8 mid_number: 26\n",
            "lo: 6 hi: 7 mid: 6 mid_number: 42\n"
          ]
        }
      ]
    },
    {
      "cell_type": "code",
      "metadata": {
        "colab": {
          "base_uri": "https://localhost:8080/"
        },
        "id": "UkJ-r0Y9-ltH",
        "outputId": "564e2841-3cdd-4db3-c3dd-1d4c94406364"
      },
      "source": [
        "test_result6"
      ],
      "execution_count": 64,
      "outputs": [
        {
          "output_type": "execute_result",
          "data": {
            "text/plain": [
              "-1"
            ]
          },
          "metadata": {},
          "execution_count": 64
        }
      ]
    },
    {
      "cell_type": "code",
      "metadata": {
        "id": "0qxz8ChO_JKZ"
      },
      "source": [
        "test_data7= {\n",
        "    'cards': [12,45,26,63,96,55,41,89,42,67,5],\n",
        "    'query': 45\n",
        "}"
      ],
      "execution_count": 65,
      "outputs": []
    },
    {
      "cell_type": "code",
      "metadata": {
        "colab": {
          "base_uri": "https://localhost:8080/"
        },
        "id": "2wV49ymi_L1o",
        "outputId": "f1c46b84-0d61-4ede-fb34-f2982a93c2e2"
      },
      "source": [
        "test_result7= detect_card_position(test_data7['cards'], test_data7['query'])"
      ],
      "execution_count": 66,
      "outputs": [
        {
          "output_type": "stream",
          "name": "stdout",
          "text": [
            "lo: 0 hi: 10 mid: 5 mid_number: 45\n"
          ]
        }
      ]
    },
    {
      "cell_type": "code",
      "metadata": {
        "colab": {
          "base_uri": "https://localhost:8080/"
        },
        "id": "LDLwsIJ__NmK",
        "outputId": "e4ef5760-eb99-4630-89d5-4e468dbe73d8"
      },
      "source": [
        "test_result7"
      ],
      "execution_count": 67,
      "outputs": [
        {
          "output_type": "execute_result",
          "data": {
            "text/plain": [
              "45"
            ]
          },
          "metadata": {},
          "execution_count": 67
        }
      ]
    },
    {
      "cell_type": "code",
      "metadata": {
        "colab": {
          "base_uri": "https://localhost:8080/"
        },
        "id": "zskHSoQ__i24",
        "outputId": "98f7b7b7-0e65-4a6a-fbd2-ec3e58892ed8"
      },
      "source": [
        "#Repeating the number:\n",
        "test_data8= {\n",
        "    'cards': [12,45,26,63,42,96,55,41,89,42,67,5],\n",
        "    'query': 42\n",
        "}\n",
        "\n",
        "test_result8= detect_card_position(test_data8['cards'], test_data8['query'])\n",
        "\n",
        "test_result8\n"
      ],
      "execution_count": 68,
      "outputs": [
        {
          "output_type": "stream",
          "name": "stdout",
          "text": [
            "lo: 0 hi: 11 mid: 5 mid_number: 45\n",
            "lo: 6 hi: 11 mid: 8 mid_number: 41\n",
            "lo: 6 hi: 7 mid: 6 mid_number: 42\n"
          ]
        },
        {
          "output_type": "execute_result",
          "data": {
            "text/plain": [
              "42"
            ]
          },
          "metadata": {},
          "execution_count": 68
        }
      ]
    },
    {
      "cell_type": "code",
      "metadata": {
        "id": "CWLfCtMvCBt8"
      },
      "source": [
        "#What if query number repeats and we need to find out what is the least index of the repeating query number: "
      ],
      "execution_count": 69,
      "outputs": []
    },
    {
      "cell_type": "code",
      "metadata": {
        "id": "jg_u_BKL7q8B"
      },
      "source": [
        "#We'll define a helper function called test_location, which will take the list cards, the query and mid as inputs."
      ],
      "execution_count": 70,
      "outputs": []
    },
    {
      "cell_type": "code",
      "metadata": {
        "id": "jsySN75qCPs_"
      },
      "source": [
        "def test_location(cards, query, mid):\n",
        "  mid_number= cards[mid]\n",
        "  print('mid:', mid, 'mid number:', mid_number)\n",
        "\n",
        "  if mid_number == query:\n",
        "    if mid-1 >= 0 and cards[mid-1] == query:\n",
        "      return 'left'\n",
        "    else:\n",
        "      return 'found'\n",
        "  elif mid_number > query:\n",
        "    return 'right'\n",
        "  else:\n",
        "    return 'left' "
      ],
      "execution_count": 71,
      "outputs": []
    },
    {
      "cell_type": "code",
      "metadata": {
        "id": "kSuh4rFIEmYu"
      },
      "source": [
        "def grab_query_position(cards, query):\n",
        "  cards.sort(reverse=True)\n",
        "  \n",
        "  lo, hi= 0, len(cards)-1\n",
        "\n",
        "  while lo <= hi:\n",
        "    mid = (lo + hi) // 2\n",
        "    print('lo:', lo, 'hi:', hi)\n",
        "    result = test_location(cards, query, mid)\n",
        "\n",
        "    if result == 'found':\n",
        "      return mid\n",
        "    elif result == 'right':\n",
        "      lo = mid + 1\n",
        "    elif result == 'left':\n",
        "      hi = mid - 1\n",
        "\n",
        "  return -1"
      ],
      "execution_count": 72,
      "outputs": []
    },
    {
      "cell_type": "code",
      "metadata": {
        "id": "H0HEfvYPH3Md"
      },
      "source": [
        "test_data9= {\n",
        "    'cards': [42,12,45,26,42,63,42,96,55,42,41,89,42,67,5,42],\n",
        "    'query': 42\n",
        "}\n"
      ],
      "execution_count": 73,
      "outputs": []
    },
    {
      "cell_type": "code",
      "metadata": {
        "colab": {
          "base_uri": "https://localhost:8080/"
        },
        "id": "undwy6NgJD6k",
        "outputId": "d2405e8f-86c7-43ea-8166-16cce51f1991"
      },
      "source": [
        "test_data9"
      ],
      "execution_count": 74,
      "outputs": [
        {
          "output_type": "execute_result",
          "data": {
            "text/plain": [
              "{'cards': [42, 12, 45, 26, 42, 63, 42, 96, 55, 42, 41, 89, 42, 67, 5, 42],\n",
              " 'query': 42}"
            ]
          },
          "metadata": {},
          "execution_count": 74
        }
      ]
    },
    {
      "cell_type": "code",
      "metadata": {
        "colab": {
          "base_uri": "https://localhost:8080/"
        },
        "id": "8BBcdfTBIRIl",
        "outputId": "a141bd73-66d8-47dc-bd7e-1cae6096298e"
      },
      "source": [
        "test_result9= grab_query_position(test_data9['cards'], test_data9['query'])"
      ],
      "execution_count": 75,
      "outputs": [
        {
          "output_type": "stream",
          "name": "stdout",
          "text": [
            "lo: 0 hi: 15\n",
            "mid: 7 mid number: 42\n",
            "lo: 0 hi: 6\n",
            "mid: 3 mid number: 63\n",
            "lo: 4 hi: 6\n",
            "mid: 5 mid number: 45\n",
            "lo: 6 hi: 6\n",
            "mid: 6 mid number: 42\n"
          ]
        }
      ]
    },
    {
      "cell_type": "code",
      "metadata": {
        "colab": {
          "base_uri": "https://localhost:8080/"
        },
        "id": "9rtyKFleKJci",
        "outputId": "6b07faf8-0301-43d3-9125-ba3dfe54698b"
      },
      "source": [
        "test_result9"
      ],
      "execution_count": 76,
      "outputs": [
        {
          "output_type": "execute_result",
          "data": {
            "text/plain": [
              "6"
            ]
          },
          "metadata": {},
          "execution_count": 76
        }
      ]
    },
    {
      "cell_type": "code",
      "metadata": {
        "colab": {
          "base_uri": "https://localhost:8080/"
        },
        "id": "eEhLjZyJImuc",
        "outputId": "33983ca6-c489-4d38-df47-a99b897020ad"
      },
      "source": [
        "test_data9['cards']"
      ],
      "execution_count": 77,
      "outputs": [
        {
          "output_type": "execute_result",
          "data": {
            "text/plain": [
              "[96, 89, 67, 63, 55, 45, 42, 42, 42, 42, 42, 42, 41, 26, 12, 5]"
            ]
          },
          "metadata": {},
          "execution_count": 77
        }
      ]
    },
    {
      "cell_type": "markdown",
      "metadata": {
        "id": "X0Sjnl-0P4z2"
      },
      "source": [
        "### 9. Analyze the algorithm's complexity and identify inefficiencies, if any.\n",
        "\n",
        "Once again, let's try to count the number of iterations in the algorithm. If we start out with an array of N elements, then each time the size of the array reduces to half for the next iteration, until we are left with just 1 element.\n",
        "\n",
        "Initial length - `N`\n",
        "\n",
        "Iteration 1 - `N/2`\n",
        "\n",
        "Iteration 2 - `N/4` i.e. `N/2^2`\n",
        "\n",
        "Iteration 3 - `N/8` i.e. `N/2^3`\n",
        "\n",
        "...\n",
        "\n",
        "Iteration k - `N/2^k`\n",
        "\n",
        "\n",
        "Since the final length of the array is 1, we can find the \n",
        "\n",
        "`N/2^k = 1`\n",
        "\n",
        "Rearranging the terms, we get\n",
        "\n",
        "`N = 2^k`\n",
        "\n",
        "Taking the logarithm\n",
        "\n",
        "`k = log N`\n",
        "\n",
        "Where `log` refers to log to the base 2. Therefore, our algorithm has the time complexity **O(log N)**. This fact is often stated as: binary search _runs_ in logarithmic time. You can verify that the space complexity of binary search is **O(1)**.\n",
        "\n",
        "\n",
        "\n"
      ]
    },
    {
      "cell_type": "markdown",
      "metadata": {
        "id": "yg4ms0ydQFL7"
      },
      "source": [
        "## Generic Binary Search\n",
        "\n",
        "Here is the general strategy behind binary search, which is applicable to a variety of problems:\n",
        "\n",
        "1. Come up with a condition to determine whether the answer lies before, after or at a given position\n",
        "1. Retrieve the midpoint and the middle element of the list.\n",
        "2. If it is the answer, return the middle position as the answer.\n",
        "3. If answer lies before it, repeat the search with the first half of the list\n",
        "4. If the answer lies after it, repeat the search with the second half of the list.\n",
        "\n",
        "Here is the generic algorithm for binary search, implemented in Python:"
      ]
    },
    {
      "cell_type": "code",
      "metadata": {
        "id": "rgPoP4poP59l"
      },
      "source": [
        "def binary_search(lo, hi, condition):\n",
        "    \n",
        "    while lo <= hi:\n",
        "      mid = (lo + hi) // 2\n",
        "      print('lo:', lo, 'hi:', hi)\n",
        "      result = condition(mid)\n",
        "      if result == 'found':\n",
        "        return mid\n",
        "      elif result == 'left':\n",
        "        hi = mid - 1\n",
        "      else:\n",
        "        lo = mid + 1\n",
        "    return -1"
      ],
      "execution_count": 78,
      "outputs": []
    },
    {
      "cell_type": "code",
      "metadata": {
        "id": "ZgQG1le0QYKW"
      },
      "source": [
        "def locate_card(cards, query):\n",
        "    \n",
        "    def condition(mid):\n",
        "      mid_number= cards[mid]\n",
        "      print('mid:', mid, 'mid number:', mid_number)\n",
        "      if cards[mid] == query:\n",
        "        if mid-1 > 0 and cards[mid-1] == query:\n",
        "          return 'left'\n",
        "        else:\n",
        "          return 'found'\n",
        "      elif cards[mid] < query:\n",
        "          return 'left'\n",
        "      else:\n",
        "          return 'right'\n",
        "    \n",
        "    return binary_search(0, len(cards) - 1, condition)"
      ],
      "execution_count": 79,
      "outputs": []
    },
    {
      "cell_type": "code",
      "metadata": {
        "colab": {
          "base_uri": "https://localhost:8080/"
        },
        "id": "y7q8IE0YQwBa",
        "outputId": "fbdbb273-f961-47a0-da6f-1adbc9bb1356"
      },
      "source": [
        "test_data9"
      ],
      "execution_count": 80,
      "outputs": [
        {
          "output_type": "execute_result",
          "data": {
            "text/plain": [
              "{'cards': [96, 89, 67, 63, 55, 45, 42, 42, 42, 42, 42, 42, 41, 26, 12, 5],\n",
              " 'query': 42}"
            ]
          },
          "metadata": {},
          "execution_count": 80
        }
      ]
    },
    {
      "cell_type": "code",
      "metadata": {
        "colab": {
          "base_uri": "https://localhost:8080/"
        },
        "id": "caHEdRHMSKKR",
        "outputId": "a2433d79-16ab-4a47-84dc-c544e961051c"
      },
      "source": [
        "test_result9= locate_card(test_data9['cards'], test_data9['query'])"
      ],
      "execution_count": 81,
      "outputs": [
        {
          "output_type": "stream",
          "name": "stdout",
          "text": [
            "lo: 0 hi: 15\n",
            "mid: 7 mid number: 42\n",
            "lo: 0 hi: 6\n",
            "mid: 3 mid number: 63\n",
            "lo: 4 hi: 6\n",
            "mid: 5 mid number: 45\n",
            "lo: 6 hi: 6\n",
            "mid: 6 mid number: 42\n"
          ]
        }
      ]
    },
    {
      "cell_type": "code",
      "metadata": {
        "colab": {
          "base_uri": "https://localhost:8080/"
        },
        "id": "dyhU27LUSX3C",
        "outputId": "8ef05060-8543-4cb1-86b9-4e2ab7315b8a"
      },
      "source": [
        "test_result9"
      ],
      "execution_count": 82,
      "outputs": [
        {
          "output_type": "execute_result",
          "data": {
            "text/plain": [
              "6"
            ]
          },
          "metadata": {},
          "execution_count": 82
        }
      ]
    },
    {
      "cell_type": "markdown",
      "metadata": {
        "id": "j8PrNv43CDu_"
      },
      "source": [
        "###Question:\n",
        "Given an array of integers nums sorted in ascending order, find the starting and ending position of a given number.\n",
        "\n",
        "This differs from the problem in only two significant ways:\n",
        "\n",
        "1. The numbers are sorted in increasing order.\n",
        "2. We are looking for both the increasing order and the decreasing order."
      ]
    },
    {
      "cell_type": "markdown",
      "metadata": {
        "id": "9XpY7l3vAziQ"
      },
      "source": [
        "The Naive Approach is to run a for loop and check given elements in an array.  \n",
        "\n",
        "1. Run a for loop and for i = 0 to n-1\n",
        "2. Take first = -1 and last = -1 \n",
        "3. When we find element first time then we update first = i \n",
        "4. We always update last=i whenever we find the element.\n",
        "5. We print first and last."
      ]
    },
    {
      "cell_type": "code",
      "metadata": {
        "id": "oDsvAYF_CgWf"
      },
      "source": [
        "def locate_first_position(nums, target):\n",
        "  (lo, hi) = (0, len(nums)-1)\n",
        "  \n",
        "  while lo<=hi:\n",
        "    mid = (lo + hi) // 2\n",
        "    mid_number= nums[mid]\n",
        "    print('lo:', lo, 'hi:', hi)\n",
        "    print('mid:', mid, 'mid number:', mid_number)\n",
        "    if nums[mid] == target:\n",
        "      if  mid>0 and nums[mid-1] == target:\n",
        "        hi =  mid-1\n",
        "      else:\n",
        "        return mid\n",
        "    elif nums[mid] < target:\n",
        "        lo = mid+1\n",
        "    else:\n",
        "        hi = mid-1\n",
        "  return -1 "
      ],
      "execution_count": 83,
      "outputs": []
    },
    {
      "cell_type": "code",
      "metadata": {
        "id": "ZJR-xuy-FGMT"
      },
      "source": [
        "def locate_last_position(nums, target):\n",
        "  (lo, hi) = (0, len(nums)-1)\n",
        "  \n",
        "  while lo<=hi:\n",
        "    mid = (lo + hi) // 2\n",
        "    mid_number= nums[mid]\n",
        "    print('lo:', lo, 'hi:', hi)\n",
        "    print('mid:', mid, 'mid number:', mid_number)\n",
        "    if nums[mid] == target:\n",
        "      if  mid<len(nums)-1 and nums[mid+1] == target:\n",
        "        lo = mid + 1\n",
        "      else:\n",
        "        return mid\n",
        "    elif nums[mid] < target:\n",
        "        lo = mid+1\n",
        "    else:\n",
        "        hi = mid-1\n",
        "  return -1"
      ],
      "execution_count": 84,
      "outputs": []
    },
    {
      "cell_type": "code",
      "metadata": {
        "id": "1ccyzWrEFkv2"
      },
      "source": [
        "def first_and_last_position(nums, target):\n",
        "  nums.sort()\n",
        "  return [locate_first_position(nums, target),locate_last_position(nums, target)]"
      ],
      "execution_count": 85,
      "outputs": []
    },
    {
      "cell_type": "code",
      "metadata": {
        "id": "F2faWt6oNLbs"
      },
      "source": [
        "test_data10={\n",
        "    'nums':[22,12,43,98,65,22,54,14,22,16,22,7,22,104,76,22],\n",
        "    'target': 22\n",
        "}"
      ],
      "execution_count": 86,
      "outputs": []
    },
    {
      "cell_type": "code",
      "metadata": {
        "colab": {
          "base_uri": "https://localhost:8080/"
        },
        "id": "4bUbGhnXNiI8",
        "outputId": "f439e90e-bf0a-4828-c2fa-dc5a76bbc45d"
      },
      "source": [
        "test_data10"
      ],
      "execution_count": 87,
      "outputs": [
        {
          "output_type": "execute_result",
          "data": {
            "text/plain": [
              "{'nums': [22, 12, 43, 98, 65, 22, 54, 14, 22, 16, 22, 7, 22, 104, 76, 22],\n",
              " 'target': 22}"
            ]
          },
          "metadata": {},
          "execution_count": 87
        }
      ]
    },
    {
      "cell_type": "code",
      "metadata": {
        "colab": {
          "base_uri": "https://localhost:8080/"
        },
        "id": "GRj5z3Gr3IhM",
        "outputId": "b5e43c77-ebae-4d45-81b5-ecc5fdf6e9b3"
      },
      "source": [
        "test_result10= first_and_last_position(test_data10['nums'], test_data10['target'])"
      ],
      "execution_count": 88,
      "outputs": [
        {
          "output_type": "stream",
          "name": "stdout",
          "text": [
            "lo: 0 hi: 15\n",
            "mid: 7 mid number: 22\n",
            "lo: 0 hi: 6\n",
            "mid: 3 mid number: 16\n",
            "lo: 4 hi: 6\n",
            "mid: 5 mid number: 22\n",
            "lo: 4 hi: 4\n",
            "mid: 4 mid number: 22\n",
            "lo: 0 hi: 15\n",
            "mid: 7 mid number: 22\n",
            "lo: 8 hi: 15\n",
            "mid: 11 mid number: 54\n",
            "lo: 8 hi: 10\n",
            "mid: 9 mid number: 22\n"
          ]
        }
      ]
    },
    {
      "cell_type": "code",
      "metadata": {
        "colab": {
          "base_uri": "https://localhost:8080/"
        },
        "id": "bWZW-AulNyTU",
        "outputId": "8349d769-845b-4f54-e635-3e7bf335f04d"
      },
      "source": [
        "test_result10"
      ],
      "execution_count": 89,
      "outputs": [
        {
          "output_type": "execute_result",
          "data": {
            "text/plain": [
              "[4, 9]"
            ]
          },
          "metadata": {},
          "execution_count": 89
        }
      ]
    },
    {
      "cell_type": "code",
      "metadata": {
        "id": "C8oLRoebNzkv",
        "colab": {
          "base_uri": "https://localhost:8080/"
        },
        "outputId": "ed0b0b72-9498-43db-b765-4b3632fd961b"
      },
      "source": [
        "test_data10"
      ],
      "execution_count": 90,
      "outputs": [
        {
          "output_type": "execute_result",
          "data": {
            "text/plain": [
              "{'nums': [7, 12, 14, 16, 22, 22, 22, 22, 22, 22, 43, 54, 65, 76, 98, 104],\n",
              " 'target': 22}"
            ]
          },
          "metadata": {},
          "execution_count": 90
        }
      ]
    },
    {
      "cell_type": "markdown",
      "metadata": {
        "id": "QXrMprcOyLmh"
      },
      "source": [
        "# **Problem - Rotated Lists**\n",
        "\n",
        "You are given list of numbers, obtained by rotating a sorted list an unknown number of times. Write a function to determine the minimum number of times the original sorted list was rotated to obtain the given list. Your function should have the worst-case complexity of O(log N), where N is the length of the list. You can assume that all the numbers in the list are unique.\n",
        "\n",
        "Example: The list [5, 6, 9, 0, 2, 3, 4] was obtained by rotating the sorted list [0, 2, 3, 4, 5, 6, 9] 3 times.\n",
        "\n",
        "We define \"rotating a list\" as removing the last element of the list and adding it before the first element. E.g. rotating the list [3, 2, 4, 1] produces [1, 3, 2, 4].\n",
        "\n",
        "\"Sorted list\" refers to a list where the elements are arranged in the increasing order e.g. [1, 3, 5, 7]."
      ]
    },
    {
      "cell_type": "markdown",
      "metadata": {
        "id": "3JP5B-ZQ0Xn_"
      },
      "source": [
        "###1. State the problem clearly. Identify the input & output formats.\n",
        "\n",
        "Here, we have to find the minimum number of rotations done in a given sorted list to obtain a given rotated list."
      ]
    },
    {
      "cell_type": "code",
      "metadata": {
        "id": "a3FgnkoVx2cC"
      },
      "source": [
        "def count_rotations(nums):\n",
        "  pass"
      ],
      "execution_count": 91,
      "outputs": []
    },
    {
      "cell_type": "markdown",
      "metadata": {
        "id": "bGJXCXqp0oIQ"
      },
      "source": [
        "###2. Come up with some example inputs & outputs. Try to cover all edge cases.\n",
        "Our function should be able to handle any set of valid inputs we pass into it. Here's a list of some possible variations we might encounter:\n",
        "\n",
        "1. A list of size 10 rotated 3 times.\n",
        "2. A list of size 8 rotated 5 times.\n",
        "3. A list that wasn't rotated at all.\n",
        "4. A list that was rotated just once.\n",
        "5. A list that was rotated n-1 times, where n is the size of the list.\n",
        "6. A list that was rotated n times (do you get back the original list here?)\n",
        "7. An empty list.\n",
        "8. A list containing just one element.\n",
        "\n",
        "We'll express our test cases as dictionaries, to test them easily. Each dictionary will contain 2 keys: input (a dictionary itself containing one key for each argument to the function and output (the expected result from the function). Here's an example."
      ]
    },
    {
      "cell_type": "code",
      "metadata": {
        "colab": {
          "base_uri": "https://localhost:8080/"
        },
        "id": "twOi9Tdh0K0I",
        "outputId": "424b338e-f958-45fa-8f79-b2be9e5f5fd7"
      },
      "source": [
        "# A list of size 8 rotated 5 times.\n",
        "test_1= {\n",
        "    'input': [4,5,6,7,8,1,2,3],\n",
        "    'output': 5\n",
        "}\n",
        "test_1"
      ],
      "execution_count": 92,
      "outputs": [
        {
          "output_type": "execute_result",
          "data": {
            "text/plain": [
              "{'input': [4, 5, 6, 7, 8, 1, 2, 3], 'output': 5}"
            ]
          },
          "metadata": {},
          "execution_count": 92
        }
      ]
    },
    {
      "cell_type": "code",
      "metadata": {
        "colab": {
          "base_uri": "https://localhost:8080/"
        },
        "id": "ZwnXn0h13ec-",
        "outputId": "b6c4451a-28d8-4bbc-b286-70953ed5e84d"
      },
      "source": [
        "# A list wasn't rotated at all.\n",
        "test_2= {\n",
        "    'input': [1,2,3,4,5,6,7,8],\n",
        "    'output': 0\n",
        "}\n",
        "test_2"
      ],
      "execution_count": 93,
      "outputs": [
        {
          "output_type": "execute_result",
          "data": {
            "text/plain": [
              "{'input': [1, 2, 3, 4, 5, 6, 7, 8], 'output': 0}"
            ]
          },
          "metadata": {},
          "execution_count": 93
        }
      ]
    },
    {
      "cell_type": "code",
      "metadata": {
        "colab": {
          "base_uri": "https://localhost:8080/"
        },
        "id": "8ff-wfHu3zsu",
        "outputId": "b7fb649a-bf6a-48fa-e9c1-79305a392df2"
      },
      "source": [
        "# A list rotated once.\n",
        "test_3= {\n",
        "    'input': [8,1,2,3,4,5,6,7],\n",
        "    'output': 1\n",
        "}\n",
        "test_3"
      ],
      "execution_count": 94,
      "outputs": [
        {
          "output_type": "execute_result",
          "data": {
            "text/plain": [
              "{'input': [8, 1, 2, 3, 4, 5, 6, 7], 'output': 1}"
            ]
          },
          "metadata": {},
          "execution_count": 94
        }
      ]
    },
    {
      "cell_type": "code",
      "metadata": {
        "colab": {
          "base_uri": "https://localhost:8080/"
        },
        "id": "VjAVXzZH37LN",
        "outputId": "1d4b262f-8763-47cd-bac4-8495be977ded"
      },
      "source": [
        "# A list that was rotated n-1 times, where n is the size of the list..\n",
        "test_4= {\n",
        "    'input': [2,3,4,5,6,7,8,1],\n",
        "    'output': 7\n",
        "}\n",
        "test_4"
      ],
      "execution_count": 95,
      "outputs": [
        {
          "output_type": "execute_result",
          "data": {
            "text/plain": [
              "{'input': [2, 3, 4, 5, 6, 7, 8, 1], 'output': 7}"
            ]
          },
          "metadata": {},
          "execution_count": 95
        }
      ]
    },
    {
      "cell_type": "code",
      "metadata": {
        "colab": {
          "base_uri": "https://localhost:8080/"
        },
        "id": "6ltenY8w4TAU",
        "outputId": "d49751f2-0f6b-4714-ec77-5c80863a678f"
      },
      "source": [
        "# A list that was rotated n times, where n is the size of the list..\n",
        "test_5= {\n",
        "    'input': [1,2,3,4,5,6,7,8],\n",
        "    'output': 0\n",
        "}\n",
        "test_5"
      ],
      "execution_count": 96,
      "outputs": [
        {
          "output_type": "execute_result",
          "data": {
            "text/plain": [
              "{'input': [1, 2, 3, 4, 5, 6, 7, 8], 'output': 0}"
            ]
          },
          "metadata": {},
          "execution_count": 96
        }
      ]
    },
    {
      "cell_type": "code",
      "metadata": {
        "colab": {
          "base_uri": "https://localhost:8080/"
        },
        "id": "u9Yhf9D949i6",
        "outputId": "f1592687-4156-4dad-fdc2-66d6043f483b"
      },
      "source": [
        "# An Emplty list..\n",
        "test_6= {\n",
        "    'input': [],\n",
        "    'output': 0\n",
        "}\n",
        "test_6"
      ],
      "execution_count": 97,
      "outputs": [
        {
          "output_type": "execute_result",
          "data": {
            "text/plain": [
              "{'input': [], 'output': 0}"
            ]
          },
          "metadata": {},
          "execution_count": 97
        }
      ]
    },
    {
      "cell_type": "code",
      "metadata": {
        "colab": {
          "base_uri": "https://localhost:8080/"
        },
        "id": "92-kiD6s5JZb",
        "outputId": "176cf68a-91ad-4e93-90a2-8d2e6208be15"
      },
      "source": [
        "# A list containing just one element..\n",
        "test_7= {\n",
        "    'input': [5],\n",
        "    'output': 0\n",
        "}\n",
        "test_7"
      ],
      "execution_count": 98,
      "outputs": [
        {
          "output_type": "execute_result",
          "data": {
            "text/plain": [
              "{'input': [5], 'output': 0}"
            ]
          },
          "metadata": {},
          "execution_count": 98
        }
      ]
    },
    {
      "cell_type": "code",
      "metadata": {
        "id": "40Lht4-E5T41"
      },
      "source": [
        "tests= [test_1, test_2, test_3, test_4, test_5, test_6, test_7]"
      ],
      "execution_count": 99,
      "outputs": []
    },
    {
      "cell_type": "code",
      "metadata": {
        "colab": {
          "base_uri": "https://localhost:8080/"
        },
        "id": "n5JA8nAm52iu",
        "outputId": "2f15cdfb-6469-4862-cbe0-cd49ea2523a3"
      },
      "source": [
        "tests"
      ],
      "execution_count": 100,
      "outputs": [
        {
          "output_type": "execute_result",
          "data": {
            "text/plain": [
              "[{'input': [4, 5, 6, 7, 8, 1, 2, 3], 'output': 5},\n",
              " {'input': [1, 2, 3, 4, 5, 6, 7, 8], 'output': 0},\n",
              " {'input': [8, 1, 2, 3, 4, 5, 6, 7], 'output': 1},\n",
              " {'input': [2, 3, 4, 5, 6, 7, 8, 1], 'output': 7},\n",
              " {'input': [1, 2, 3, 4, 5, 6, 7, 8], 'output': 0},\n",
              " {'input': [], 'output': 0},\n",
              " {'input': [5], 'output': 0}]"
            ]
          },
          "metadata": {},
          "execution_count": 100
        }
      ]
    },
    {
      "cell_type": "markdown",
      "metadata": {
        "id": "5Mtlwpv98GG2"
      },
      "source": [
        "# 3. Come up with a correct solution for the problem. State it in plain English.\n",
        "Our first goal should always be to come up with a correct solution to the problem, which may not necessarily be the most efficient solution. Try to think of a solution before you read further.\n",
        "\n",
        "Coming up with the correct solution is quite easy, and it's based on this insight: If a list of sorted numbers is rotated k times, then the smallest number in the list ends up at position k (counting from 0). Further, it is the only number in the list which is smaller than the number before it. Thus, we simply need to check for each number in the list whether it is smaller than the number that comes before it (if there is a number before it). Then, our answer i.e. the number of rotations is simply the position of this number is . If we cannot find such a number, then the list wasn't rotated at all.\n",
        "\n",
        "Example: In the list [19, 25, 29, 3, 5, 6, 7, 9, 11, 14], the number 3 is the only number smaller than its predecessor. It occurs at the position 4 (counting from 0), hence the array was rotated 3 times.\n",
        "\n",
        "We can use the linear search algorithm as a first attempt to solve this problem i.e. we can perform the check for every position one by one."
      ]
    },
    {
      "cell_type": "markdown",
      "metadata": {
        "id": "tdQ0FXfj8r70"
      },
      "source": [
        "# Q (Optional): Describe the linear search solution explained above problem in your own words.\n",
        "\n",
        "1. Create a variable position with value 1.\n",
        "2. Compare the number at current position to the number before it.\n",
        "3. If the number is smaller than its predecessor, then return position.\n",
        "4. Otherwise, increment position and repeat till we exhaust all the numbers.  "
      ]
    },
    {
      "cell_type": "code",
      "metadata": {
        "id": "P7gQod-A53jD"
      },
      "source": [
        "def count_rotations_linear(nums):\n",
        "  position= 0\n",
        "\n",
        "  while position<len(nums):\n",
        "    if position>0 and nums[position]<nums[position-1]:\n",
        "      return position\n",
        "    \n",
        "    position += 1\n",
        "  \n",
        "  return 0"
      ],
      "execution_count": 101,
      "outputs": []
    },
    {
      "cell_type": "code",
      "metadata": {
        "colab": {
          "base_uri": "https://localhost:8080/"
        },
        "id": "SfxitlrwADZn",
        "outputId": "65f695ce-748c-4f22-c9b3-33bb563056fe"
      },
      "source": [
        "test_1"
      ],
      "execution_count": 102,
      "outputs": [
        {
          "output_type": "execute_result",
          "data": {
            "text/plain": [
              "{'input': [4, 5, 6, 7, 8, 1, 2, 3], 'output': 5}"
            ]
          },
          "metadata": {},
          "execution_count": 102
        }
      ]
    },
    {
      "cell_type": "code",
      "metadata": {
        "id": "bwJTwLxgAH_I"
      },
      "source": [
        "result_1= count_rotations_linear(test_1['input'])"
      ],
      "execution_count": 103,
      "outputs": []
    },
    {
      "cell_type": "code",
      "metadata": {
        "colab": {
          "base_uri": "https://localhost:8080/"
        },
        "id": "wcGZ5zp4AQj0",
        "outputId": "51bbad62-eeb8-404f-abc4-0b1d843b1045"
      },
      "source": [
        "result_1"
      ],
      "execution_count": 104,
      "outputs": [
        {
          "output_type": "execute_result",
          "data": {
            "text/plain": [
              "5"
            ]
          },
          "metadata": {},
          "execution_count": 104
        }
      ]
    },
    {
      "cell_type": "code",
      "metadata": {
        "colab": {
          "base_uri": "https://localhost:8080/"
        },
        "id": "tNdd-HyQARy-",
        "outputId": "b6995458-e021-437a-97cb-39d6f5f12242"
      },
      "source": [
        "test_2"
      ],
      "execution_count": 105,
      "outputs": [
        {
          "output_type": "execute_result",
          "data": {
            "text/plain": [
              "{'input': [1, 2, 3, 4, 5, 6, 7, 8], 'output': 0}"
            ]
          },
          "metadata": {},
          "execution_count": 105
        }
      ]
    },
    {
      "cell_type": "code",
      "metadata": {
        "colab": {
          "base_uri": "https://localhost:8080/"
        },
        "id": "hhr8U8zqAhv-",
        "outputId": "61ab3918-10dd-4c16-92f9-36a60774757f"
      },
      "source": [
        "result_2= count_rotations_linear(test_2['input'])\n",
        "result_2"
      ],
      "execution_count": 106,
      "outputs": [
        {
          "output_type": "execute_result",
          "data": {
            "text/plain": [
              "0"
            ]
          },
          "metadata": {},
          "execution_count": 106
        }
      ]
    },
    {
      "cell_type": "code",
      "metadata": {
        "colab": {
          "base_uri": "https://localhost:8080/"
        },
        "id": "IDpCDtnHAokz",
        "outputId": "bb1bce57-089a-44d5-c239-c0ed657af2fa"
      },
      "source": [
        "test_3"
      ],
      "execution_count": 107,
      "outputs": [
        {
          "output_type": "execute_result",
          "data": {
            "text/plain": [
              "{'input': [8, 1, 2, 3, 4, 5, 6, 7], 'output': 1}"
            ]
          },
          "metadata": {},
          "execution_count": 107
        }
      ]
    },
    {
      "cell_type": "code",
      "metadata": {
        "colab": {
          "base_uri": "https://localhost:8080/"
        },
        "id": "0cKuPGMjA6by",
        "outputId": "28105ecb-8cf0-4405-ff59-c7eebbf46d29"
      },
      "source": [
        "result_3= count_rotations_linear(test_3['input'])\n",
        "result_3"
      ],
      "execution_count": 108,
      "outputs": [
        {
          "output_type": "execute_result",
          "data": {
            "text/plain": [
              "1"
            ]
          },
          "metadata": {},
          "execution_count": 108
        }
      ]
    },
    {
      "cell_type": "code",
      "metadata": {
        "colab": {
          "base_uri": "https://localhost:8080/"
        },
        "id": "Am81w2EYBa4D",
        "outputId": "ea6b42ba-027a-4aeb-8d87-70881a9d061d"
      },
      "source": [
        "test_4"
      ],
      "execution_count": 109,
      "outputs": [
        {
          "output_type": "execute_result",
          "data": {
            "text/plain": [
              "{'input': [2, 3, 4, 5, 6, 7, 8, 1], 'output': 7}"
            ]
          },
          "metadata": {},
          "execution_count": 109
        }
      ]
    },
    {
      "cell_type": "code",
      "metadata": {
        "colab": {
          "base_uri": "https://localhost:8080/"
        },
        "id": "6kUM4se7Bem0",
        "outputId": "3f4f9ced-5e91-4c7e-ac73-dd41c3181164"
      },
      "source": [
        "result_4= count_rotations_linear(test_4['input'])\n",
        "result_4"
      ],
      "execution_count": 110,
      "outputs": [
        {
          "output_type": "execute_result",
          "data": {
            "text/plain": [
              "7"
            ]
          },
          "metadata": {},
          "execution_count": 110
        }
      ]
    },
    {
      "cell_type": "code",
      "metadata": {
        "colab": {
          "base_uri": "https://localhost:8080/"
        },
        "id": "cP9AdWKvBivN",
        "outputId": "b2e2300f-773b-441c-b680-0cbc60e7304e"
      },
      "source": [
        "test_5"
      ],
      "execution_count": 111,
      "outputs": [
        {
          "output_type": "execute_result",
          "data": {
            "text/plain": [
              "{'input': [1, 2, 3, 4, 5, 6, 7, 8], 'output': 0}"
            ]
          },
          "metadata": {},
          "execution_count": 111
        }
      ]
    },
    {
      "cell_type": "code",
      "metadata": {
        "colab": {
          "base_uri": "https://localhost:8080/"
        },
        "id": "yx3oVtDGBmjc",
        "outputId": "46434c79-5ff7-4343-ec26-7c97cc91ea73"
      },
      "source": [
        "result_5= count_rotations_linear(test_5['input'])\n",
        "result_5"
      ],
      "execution_count": 112,
      "outputs": [
        {
          "output_type": "execute_result",
          "data": {
            "text/plain": [
              "0"
            ]
          },
          "metadata": {},
          "execution_count": 112
        }
      ]
    },
    {
      "cell_type": "code",
      "metadata": {
        "colab": {
          "base_uri": "https://localhost:8080/"
        },
        "id": "A2zABrmWBrMZ",
        "outputId": "30a4bfe4-1a21-471c-8345-261297cd395c"
      },
      "source": [
        "test_6"
      ],
      "execution_count": 113,
      "outputs": [
        {
          "output_type": "execute_result",
          "data": {
            "text/plain": [
              "{'input': [], 'output': 0}"
            ]
          },
          "metadata": {},
          "execution_count": 113
        }
      ]
    },
    {
      "cell_type": "code",
      "metadata": {
        "colab": {
          "base_uri": "https://localhost:8080/"
        },
        "id": "HHg8sZ7CBthB",
        "outputId": "3aad9c24-44fa-480d-8b91-97a8e11e647f"
      },
      "source": [
        "result_6= count_rotations_linear(test_6['input'])\n",
        "result_6"
      ],
      "execution_count": 114,
      "outputs": [
        {
          "output_type": "execute_result",
          "data": {
            "text/plain": [
              "0"
            ]
          },
          "metadata": {},
          "execution_count": 114
        }
      ]
    },
    {
      "cell_type": "code",
      "metadata": {
        "colab": {
          "base_uri": "https://localhost:8080/"
        },
        "id": "owZlea3dBxIj",
        "outputId": "c9786b00-c3e4-4926-81cb-c4d0d2a976bb"
      },
      "source": [
        "test_7"
      ],
      "execution_count": 115,
      "outputs": [
        {
          "output_type": "execute_result",
          "data": {
            "text/plain": [
              "{'input': [5], 'output': 0}"
            ]
          },
          "metadata": {},
          "execution_count": 115
        }
      ]
    },
    {
      "cell_type": "code",
      "metadata": {
        "colab": {
          "base_uri": "https://localhost:8080/"
        },
        "id": "DKh5Yu8xB1M-",
        "outputId": "962b780b-bfcc-4fb4-f8c0-48c5a466a037"
      },
      "source": [
        "result_7= count_rotations_linear(test_7['input'])\n",
        "result_7"
      ],
      "execution_count": 116,
      "outputs": [
        {
          "output_type": "execute_result",
          "data": {
            "text/plain": [
              "0"
            ]
          },
          "metadata": {},
          "execution_count": 116
        }
      ]
    },
    {
      "cell_type": "code",
      "metadata": {
        "id": "AB04bmzHB4xu"
      },
      "source": [
        "linear_search_complexity= 'O(N)'"
      ],
      "execution_count": 117,
      "outputs": []
    },
    {
      "cell_type": "markdown",
      "metadata": {
        "id": "AsnAwQLODzhC"
      },
      "source": [
        "### 6. Apply the right technique to overcome the inefficiency. Repeat steps 3 to 6.\n",
        "\n",
        "As you might have guessed, we can apply _Binary Search_ to solve this problem. The key question we need to answer in binary search is: Given the middle element, how to decide if it is the answer (smallest number), or whether the answer lies to the left or right of it. \n",
        "\n",
        "If the middle element is smaller than its predecessor, then it is the answer. However, if it isn't, this check is not sufficient to determine whether the answer lies to the left or the right of it. Consider the following examples.\n",
        "\n",
        "`[7, 8, 1, 3, 4, 5, 6]` (answer lies to the left of the middle element)\n",
        "\n",
        "`[1, 2, 3, 4, 5, -1, 0]` (answer lies to the right of the middle element)\n",
        "\n",
        "Here's a check that will help us determine if the answer lies to the left or the right: _If the middle element of the list is smaller than the last element of the range, then the answer lies to the left of it. Otherwise, the answer lies to the right._"
      ]
    },
    {
      "cell_type": "markdown",
      "metadata": {
        "id": "mZIucTkVExCl"
      },
      "source": [
        "# 7. Implement the solution and test it using example inputs. Fix bugs, if any."
      ]
    },
    {
      "cell_type": "code",
      "metadata": {
        "id": "858PybFfCnrC"
      },
      "source": [
        "def count_rotations_binary(nums):\n",
        "  (lo, hi)= (0, len(nums)-1)\n",
        "\n",
        "  while lo <= hi:\n",
        "    mid= (lo+hi) // 2\n",
        "    mid_num= nums[mid]\n",
        "    print('lo:', lo, 'hi:', hi)\n",
        "    print('mid:', mid, 'mid_num:', mid_num)\n",
        "\n",
        "    if mid>0 and nums[mid]<nums[mid-1]:\n",
        "      return mid\n",
        "    elif mid>0 and nums[mid]>nums[len(nums)-1]:\n",
        "      lo = mid+1\n",
        "    else:\n",
        "      hi = mid-1\n",
        "  \n",
        "  return 0"
      ],
      "execution_count": 195,
      "outputs": []
    },
    {
      "cell_type": "code",
      "metadata": {
        "colab": {
          "base_uri": "https://localhost:8080/"
        },
        "id": "IDeZSR1cKQpk",
        "outputId": "8f4df1b4-8582-4d4f-a903-6b690568504c"
      },
      "source": [
        "test_1"
      ],
      "execution_count": 196,
      "outputs": [
        {
          "output_type": "execute_result",
          "data": {
            "text/plain": [
              "{'input': [4, 5, 6, 7, 8, 1, 2, 3], 'output': 5}"
            ]
          },
          "metadata": {},
          "execution_count": 196
        }
      ]
    },
    {
      "cell_type": "code",
      "metadata": {
        "colab": {
          "base_uri": "https://localhost:8080/"
        },
        "id": "JKsiyUyYK8OJ",
        "outputId": "04c56937-f20a-4af2-ebab-be48b374ae5c"
      },
      "source": [
        "result_1b= count_rotations_binary(test_1['input'])\n",
        "result_1b"
      ],
      "execution_count": 197,
      "outputs": [
        {
          "output_type": "stream",
          "name": "stdout",
          "text": [
            "lo: 0 hi: 7\n",
            "mid: 3 mid_num: 7\n",
            "lo: 4 hi: 7\n",
            "mid: 5 mid_num: 1\n"
          ]
        },
        {
          "output_type": "execute_result",
          "data": {
            "text/plain": [
              "5"
            ]
          },
          "metadata": {},
          "execution_count": 197
        }
      ]
    },
    {
      "cell_type": "code",
      "metadata": {
        "colab": {
          "base_uri": "https://localhost:8080/"
        },
        "id": "MpQdQQaULR-G",
        "outputId": "1cf35493-1a78-4e09-a131-a0825fae2d69"
      },
      "source": [
        "test_2"
      ],
      "execution_count": 198,
      "outputs": [
        {
          "output_type": "execute_result",
          "data": {
            "text/plain": [
              "{'input': [1, 2, 3, 4, 5, 6, 7, 8], 'output': 0}"
            ]
          },
          "metadata": {},
          "execution_count": 198
        }
      ]
    },
    {
      "cell_type": "code",
      "metadata": {
        "colab": {
          "base_uri": "https://localhost:8080/"
        },
        "id": "Ui1evylxLLVH",
        "outputId": "6e5c83e5-b23c-4569-89fd-24a6a6dc2a08"
      },
      "source": [
        "result_2b= count_rotations_binary(test_2['input'])\n",
        "result_2b"
      ],
      "execution_count": 199,
      "outputs": [
        {
          "output_type": "stream",
          "name": "stdout",
          "text": [
            "lo: 0 hi: 7\n",
            "mid: 3 mid_num: 4\n",
            "lo: 0 hi: 2\n",
            "mid: 1 mid_num: 2\n",
            "lo: 0 hi: 0\n",
            "mid: 0 mid_num: 1\n"
          ]
        },
        {
          "output_type": "execute_result",
          "data": {
            "text/plain": [
              "0"
            ]
          },
          "metadata": {},
          "execution_count": 199
        }
      ]
    },
    {
      "cell_type": "code",
      "metadata": {
        "colab": {
          "base_uri": "https://localhost:8080/"
        },
        "id": "z__6ifYBLUwq",
        "outputId": "7d556d38-3bef-4bf1-d4e6-eaa6682011e2"
      },
      "source": [
        "test_3"
      ],
      "execution_count": 200,
      "outputs": [
        {
          "output_type": "execute_result",
          "data": {
            "text/plain": [
              "{'input': [8, 1, 2, 3, 4, 5, 6, 7], 'output': 1}"
            ]
          },
          "metadata": {},
          "execution_count": 200
        }
      ]
    },
    {
      "cell_type": "code",
      "metadata": {
        "colab": {
          "base_uri": "https://localhost:8080/"
        },
        "id": "drh7O5uZLXZY",
        "outputId": "61154bd1-56b4-470a-d9be-1b934fb1a4ea"
      },
      "source": [
        "result_3b= count_rotations_binary(test_3['input'])\n",
        "result_3b"
      ],
      "execution_count": 201,
      "outputs": [
        {
          "output_type": "stream",
          "name": "stdout",
          "text": [
            "lo: 0 hi: 7\n",
            "mid: 3 mid_num: 3\n",
            "lo: 0 hi: 2\n",
            "mid: 1 mid_num: 1\n"
          ]
        },
        {
          "output_type": "execute_result",
          "data": {
            "text/plain": [
              "1"
            ]
          },
          "metadata": {},
          "execution_count": 201
        }
      ]
    },
    {
      "cell_type": "code",
      "metadata": {
        "colab": {
          "base_uri": "https://localhost:8080/"
        },
        "id": "SMnyYYG_LaGk",
        "outputId": "fc759bff-32c3-457b-c397-f25be1e3200c"
      },
      "source": [
        "test_4"
      ],
      "execution_count": 202,
      "outputs": [
        {
          "output_type": "execute_result",
          "data": {
            "text/plain": [
              "{'input': [2, 3, 4, 5, 6, 7, 8, 1], 'output': 7}"
            ]
          },
          "metadata": {},
          "execution_count": 202
        }
      ]
    },
    {
      "cell_type": "code",
      "metadata": {
        "colab": {
          "base_uri": "https://localhost:8080/"
        },
        "id": "YUPPTTajODvS",
        "outputId": "2425c085-2db6-4613-81a0-5909deeb9d8a"
      },
      "source": [
        "result_4b= count_rotations_binary(test_4['input'])\n",
        "result_4b"
      ],
      "execution_count": 203,
      "outputs": [
        {
          "output_type": "stream",
          "name": "stdout",
          "text": [
            "lo: 0 hi: 7\n",
            "mid: 3 mid_num: 5\n",
            "lo: 4 hi: 7\n",
            "mid: 5 mid_num: 7\n",
            "lo: 6 hi: 7\n",
            "mid: 6 mid_num: 8\n",
            "lo: 7 hi: 7\n",
            "mid: 7 mid_num: 1\n"
          ]
        },
        {
          "output_type": "execute_result",
          "data": {
            "text/plain": [
              "7"
            ]
          },
          "metadata": {},
          "execution_count": 203
        }
      ]
    },
    {
      "cell_type": "code",
      "metadata": {
        "colab": {
          "base_uri": "https://localhost:8080/"
        },
        "id": "9AgUBzD5OGD_",
        "outputId": "031d31a4-97b0-434c-b46f-2bad779d5596"
      },
      "source": [
        "test_5"
      ],
      "execution_count": 204,
      "outputs": [
        {
          "output_type": "execute_result",
          "data": {
            "text/plain": [
              "{'input': [1, 2, 3, 4, 5, 6, 7, 8], 'output': 0}"
            ]
          },
          "metadata": {},
          "execution_count": 204
        }
      ]
    },
    {
      "cell_type": "code",
      "metadata": {
        "colab": {
          "base_uri": "https://localhost:8080/"
        },
        "id": "MRKQW2SmOw_i",
        "outputId": "94a07e5e-47ca-481f-8dc2-f107a763421d"
      },
      "source": [
        "result_5b= count_rotations_binary(test_5['input'])\n",
        "result_5b"
      ],
      "execution_count": 205,
      "outputs": [
        {
          "output_type": "stream",
          "name": "stdout",
          "text": [
            "lo: 0 hi: 7\n",
            "mid: 3 mid_num: 4\n",
            "lo: 0 hi: 2\n",
            "mid: 1 mid_num: 2\n",
            "lo: 0 hi: 0\n",
            "mid: 0 mid_num: 1\n"
          ]
        },
        {
          "output_type": "execute_result",
          "data": {
            "text/plain": [
              "0"
            ]
          },
          "metadata": {},
          "execution_count": 205
        }
      ]
    },
    {
      "cell_type": "code",
      "metadata": {
        "colab": {
          "base_uri": "https://localhost:8080/"
        },
        "id": "gB09hyZSO0Xw",
        "outputId": "e07d4ccf-af5e-4e14-d82c-8fd0aa287d11"
      },
      "source": [
        "test_6"
      ],
      "execution_count": 206,
      "outputs": [
        {
          "output_type": "execute_result",
          "data": {
            "text/plain": [
              "{'input': [], 'output': 0}"
            ]
          },
          "metadata": {},
          "execution_count": 206
        }
      ]
    },
    {
      "cell_type": "code",
      "metadata": {
        "colab": {
          "base_uri": "https://localhost:8080/"
        },
        "id": "WE0IviMIO43w",
        "outputId": "78d13bcc-e4ea-4092-b94e-08afd714729c"
      },
      "source": [
        "result_6b= count_rotations_binary(test_6['input'])\n",
        "result_6b"
      ],
      "execution_count": 207,
      "outputs": [
        {
          "output_type": "execute_result",
          "data": {
            "text/plain": [
              "0"
            ]
          },
          "metadata": {},
          "execution_count": 207
        }
      ]
    },
    {
      "cell_type": "code",
      "metadata": {
        "colab": {
          "base_uri": "https://localhost:8080/"
        },
        "id": "tMOsPECAO7-4",
        "outputId": "066891e3-2255-45af-9774-7a037ca31d28"
      },
      "source": [
        "test_7"
      ],
      "execution_count": 208,
      "outputs": [
        {
          "output_type": "execute_result",
          "data": {
            "text/plain": [
              "{'input': [5], 'output': 0}"
            ]
          },
          "metadata": {},
          "execution_count": 208
        }
      ]
    },
    {
      "cell_type": "code",
      "metadata": {
        "colab": {
          "base_uri": "https://localhost:8080/"
        },
        "id": "1D1QK_1nO9gy",
        "outputId": "f2b24451-61c5-45e0-e050-5fd4110577a2"
      },
      "source": [
        "result_7b= count_rotations_binary(test_7['input'])\n",
        "result_7b"
      ],
      "execution_count": 209,
      "outputs": [
        {
          "output_type": "stream",
          "name": "stdout",
          "text": [
            "lo: 0 hi: 0\n",
            "mid: 0 mid_num: 5\n"
          ]
        },
        {
          "output_type": "execute_result",
          "data": {
            "text/plain": [
              "0"
            ]
          },
          "metadata": {},
          "execution_count": 209
        }
      ]
    },
    {
      "cell_type": "markdown",
      "metadata": {
        "id": "BQtq9ONASYda"
      },
      "source": [
        "# 9. Analyze the algorithm's complexity and identify inefficiencies, if any."
      ]
    },
    {
      "cell_type": "code",
      "metadata": {
        "id": "nTU9QpeFSaht"
      },
      "source": [
        "binary_search_complexity = 'O(log N)'"
      ],
      "execution_count": 210,
      "outputs": []
    }
  ]
}