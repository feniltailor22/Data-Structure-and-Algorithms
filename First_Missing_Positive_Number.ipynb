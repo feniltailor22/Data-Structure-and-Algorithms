{
  "nbformat": 4,
  "nbformat_minor": 0,
  "metadata": {
    "colab": {
      "name": "First Missing Positive Number.ipynb",
      "provenance": [],
      "collapsed_sections": [],
      "authorship_tag": "ABX9TyO6tHqSaDfBWAAJEvtxPMNY",
      "include_colab_link": true
    },
    "kernelspec": {
      "name": "python3",
      "display_name": "Python 3"
    },
    "language_info": {
      "name": "python"
    }
  },
  "cells": [
    {
      "cell_type": "markdown",
      "metadata": {
        "id": "view-in-github",
        "colab_type": "text"
      },
      "source": [
        "<a href=\"https://colab.research.google.com/github/feniltailor22/Data-Structure-and-Algorithms/blob/main/First_Missing_Positive_Number.ipynb\" target=\"_parent\"><img src=\"https://colab.research.google.com/assets/colab-badge.svg\" alt=\"Open In Colab\"/></a>"
      ]
    },
    {
      "cell_type": "code",
      "metadata": {
        "id": "UnsGY6qalKF-"
      },
      "source": [
        "class Solution(object):\n",
        "    def firstMissingPositive(self, nums):\n",
        "        nums.sort()\n",
        "        print(nums)\n",
        "        currentNum = 0\n",
        "        for num in nums:\n",
        "            if num>currentNum+1:\n",
        "              return currentNum+1 \n",
        "            elif num>0:\n",
        "              currentNum = num\n",
        "        return currentNum+1"
      ],
      "execution_count": 43,
      "outputs": []
    },
    {
      "cell_type": "code",
      "metadata": {
        "id": "9PS6K3ZEnssi"
      },
      "source": [
        "A= [-8,0,1,1,1,2,3,4,4,4,4]"
      ],
      "execution_count": 50,
      "outputs": []
    },
    {
      "cell_type": "code",
      "metadata": {
        "id": "_LN1X5QrnXqA"
      },
      "source": [
        "sol= Solution()"
      ],
      "execution_count": 51,
      "outputs": []
    },
    {
      "cell_type": "code",
      "metadata": {
        "colab": {
          "base_uri": "https://localhost:8080/"
        },
        "id": "vof0QJ1gnezW",
        "outputId": "bdf09e37-6f28-49b8-cb0b-1ddf976d25c4"
      },
      "source": [
        "sol.firstMissingPositive(A)"
      ],
      "execution_count": 52,
      "outputs": [
        {
          "output_type": "stream",
          "name": "stdout",
          "text": [
            "[-8, 0, 1, 1, 1, 2, 3, 4, 4, 4, 4]\n"
          ]
        },
        {
          "output_type": "execute_result",
          "data": {
            "text/plain": [
              "5"
            ]
          },
          "metadata": {},
          "execution_count": 52
        }
      ]
    }
  ]
}