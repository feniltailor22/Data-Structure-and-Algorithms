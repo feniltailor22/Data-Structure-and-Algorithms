{
  "nbformat": 4,
  "nbformat_minor": 0,
  "metadata": {
    "colab": {
      "name": "\"+-+-+\" pattern.ipynb",
      "provenance": [],
      "collapsed_sections": [],
      "authorship_tag": "ABX9TyMjnbU7m/9ybZHIuSaP7pwM",
      "include_colab_link": true
    },
    "kernelspec": {
      "name": "python3",
      "display_name": "Python 3"
    },
    "language_info": {
      "name": "python"
    }
  },
  "cells": [
    {
      "cell_type": "markdown",
      "metadata": {
        "id": "view-in-github",
        "colab_type": "text"
      },
      "source": [
        "<a href=\"https://colab.research.google.com/github/feniltailor22/Data-Structure-and-Algorithms/blob/main/%22%2B_%2B_%2B%22_pattern.ipynb\" target=\"_parent\"><img src=\"https://colab.research.google.com/assets/colab-badge.svg\" alt=\"Open In Colab\"/></a>"
      ]
    },
    {
      "cell_type": "code",
      "metadata": {
        "id": "rj2jsUo79Qpo"
      },
      "source": [
        "def Sign(N):\n",
        "  s=\"\"\n",
        "  for i in range(N):\n",
        "    if i%2==0:\n",
        "      s += '+'\n",
        "    else:\n",
        "      s += '-'\n",
        "  print('\"{}\"'.format(s))"
      ],
      "execution_count": 2,
      "outputs": []
    },
    {
      "cell_type": "code",
      "metadata": {
        "colab": {
          "base_uri": "https://localhost:8080/"
        },
        "id": "Ae9yfbPm9TXt",
        "outputId": "6d790dd1-a653-491d-94d5-11816d8aa49d"
      },
      "source": [
        "k=Sign(4)"
      ],
      "execution_count": 3,
      "outputs": [
        {
          "output_type": "stream",
          "name": "stdout",
          "text": [
            "\"+-+-\"\n"
          ]
        }
      ]
    }
  ]
}