{
  "nbformat": 4,
  "nbformat_minor": 0,
  "metadata": {
    "colab": {
      "name": "Single Number in an Array.ipynb",
      "provenance": [],
      "collapsed_sections": [],
      "authorship_tag": "ABX9TyM/Z7I7OwV/GYfjWZ9Yu5wn",
      "include_colab_link": true
    },
    "kernelspec": {
      "name": "python3",
      "display_name": "Python 3"
    },
    "language_info": {
      "name": "python"
    }
  },
  "cells": [
    {
      "cell_type": "markdown",
      "metadata": {
        "id": "view-in-github",
        "colab_type": "text"
      },
      "source": [
        "<a href=\"https://colab.research.google.com/github/feniltailor22/Data-Structure-and-Algorithms/blob/main/Single_Number_in_an_Array.ipynb\" target=\"_parent\"><img src=\"https://colab.research.google.com/assets/colab-badge.svg\" alt=\"Open In Colab\"/></a>"
      ]
    },
    {
      "cell_type": "code",
      "metadata": {
        "id": "VN2CLCllXt4S"
      },
      "source": [
        "#Given a non-empty array of integers nums, every element appears twice except for one. Find that single one.\n",
        "\n",
        "#You must implement a solution with a linear runtime complexity and use only constant extra space."
      ],
      "execution_count": 16,
      "outputs": []
    },
    {
      "cell_type": "markdown",
      "metadata": {
        "id": "OVjwKHlWb5bt"
      },
      "source": [
        "###Use of XOR\n",
        "####Truth Table\n",
        "0 0: 0\n",
        "---\n",
        "0 1: 1\n",
        "---\n",
        "1 0: 1\n",
        "---\n",
        "1 1: 0\n",
        "---\n",
        "\n"
      ]
    },
    {
      "cell_type": "code",
      "metadata": {
        "colab": {
          "base_uri": "https://localhost:8080/"
        },
        "id": "OIFHbLh6bvBX",
        "outputId": "8109273f-9eb9-4619-f477-24e9cd0e150c"
      },
      "source": [
        "1^2^2^3^1"
      ],
      "execution_count": 19,
      "outputs": [
        {
          "output_type": "execute_result",
          "data": {
            "text/plain": [
              "3"
            ]
          },
          "metadata": {},
          "execution_count": 19
        }
      ]
    },
    {
      "cell_type": "code",
      "metadata": {
        "id": "_p7Lo3v5cn_i"
      },
      "source": [
        "##Process\n",
        "#(1^1=0)\n",
        "#(0^2=2)\n",
        "#(2^2=0)\n",
        "#(0^3=3)"
      ],
      "execution_count": 20,
      "outputs": []
    },
    {
      "cell_type": "code",
      "metadata": {
        "id": "dEmzDfAHXv8J"
      },
      "source": [
        "class Solution:\n",
        "    def singleNumber(self, nums):\n",
        "        ans=0\n",
        "        for i in nums:\n",
        "            ans^=i  #ans= ans^i\n",
        "        return ans"
      ],
      "execution_count": 22,
      "outputs": []
    },
    {
      "cell_type": "code",
      "metadata": {
        "id": "kYhu1usnXdaV"
      },
      "source": [
        "s=Solution()"
      ],
      "execution_count": 23,
      "outputs": []
    },
    {
      "cell_type": "code",
      "metadata": {
        "id": "oXW5GXSSXnXw"
      },
      "source": [
        "A=[1,1,2,2,3,4,4]"
      ],
      "execution_count": 24,
      "outputs": []
    },
    {
      "cell_type": "code",
      "metadata": {
        "colab": {
          "base_uri": "https://localhost:8080/"
        },
        "id": "cSIKGURfX_8Q",
        "outputId": "397e4ab1-2d84-41c7-e84f-b7cf4ab6d87d"
      },
      "source": [
        "s.singleNumber(A)"
      ],
      "execution_count": 25,
      "outputs": [
        {
          "output_type": "execute_result",
          "data": {
            "text/plain": [
              "3"
            ]
          },
          "metadata": {},
          "execution_count": 25
        }
      ]
    },
    {
      "cell_type": "code",
      "metadata": {
        "id": "WocFqRs1eLN7"
      },
      "source": [
        "##Process\n",
        "# ans=0 and i=1:\n",
        "# 0^1=1. Hence ans=1\n",
        "# ans=1 and i=1:\n",
        "# 1^1=0. Hence ans=0\n",
        "# ans=0 and i=2:\n",
        "# 0^2=1. Hence ans=2\n",
        "# ans=2 and i=2:\n",
        "# 2^2=0. Hence ans=0\n",
        "# ans=0 and i=4:\n",
        "# 0^4=4. Hence ans=4\n",
        "# ans=4 and i=4:\n",
        "# 4^4=0. Hence ans=0\n",
        "# ans=0 and i=3:\n",
        "# 0^3=1. Hence ans=3"
      ],
      "execution_count": 26,
      "outputs": []
    }
  ]
}