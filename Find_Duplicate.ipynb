{
  "nbformat": 4,
  "nbformat_minor": 0,
  "metadata": {
    "colab": {
      "name": "Find Duplicate.ipynb",
      "provenance": [],
      "authorship_tag": "ABX9TyM9xTlSLNk2ZzQkfF4VkhaZ",
      "include_colab_link": true
    },
    "kernelspec": {
      "name": "python3",
      "display_name": "Python 3"
    },
    "language_info": {
      "name": "python"
    }
  },
  "cells": [
    {
      "cell_type": "markdown",
      "metadata": {
        "id": "view-in-github",
        "colab_type": "text"
      },
      "source": [
        "<a href=\"https://colab.research.google.com/github/feniltailor22/Data-Structure-and-Algorithms/blob/main/Find_Duplicate.ipynb\" target=\"_parent\"><img src=\"https://colab.research.google.com/assets/colab-badge.svg\" alt=\"Open In Colab\"/></a>"
      ]
    },
    {
      "cell_type": "code",
      "metadata": {
        "id": "DxlyBaqnQs-u"
      },
      "source": [
        "#Given an array of integers nums containing n + 1 integers where each integer is in the range [1, n] inclusive.\n",
        "\n",
        "#There is only one repeated number in nums, return this repeated number.\n",
        "\n",
        "#You must solve the problem without modifying the array nums and uses only constant extra space."
      ],
      "execution_count": 5,
      "outputs": []
    },
    {
      "cell_type": "code",
      "metadata": {
        "id": "JzCqW2xWQ1j0"
      },
      "source": [
        "class Solution(object):\n",
        "    def findDuplicate(self, nums):\n",
        "        nums.sort()\n",
        "        N=len(nums)\n",
        "        \n",
        "        for i in range(N):\n",
        "            if nums[i]==nums[i+1]:\n",
        "                return nums[i]\n",
        "            i+=1"
      ],
      "execution_count": 6,
      "outputs": []
    },
    {
      "cell_type": "code",
      "metadata": {
        "id": "zrdL-UHDQa6J"
      },
      "source": [
        "nums = [1,3,4,2,2]"
      ],
      "execution_count": 7,
      "outputs": []
    },
    {
      "cell_type": "code",
      "metadata": {
        "id": "lEGV2549QfNM"
      },
      "source": [
        "s= Solution()"
      ],
      "execution_count": 8,
      "outputs": []
    },
    {
      "cell_type": "code",
      "metadata": {
        "colab": {
          "base_uri": "https://localhost:8080/"
        },
        "id": "Uz_fKJI1Qi6W",
        "outputId": "77a0f82d-0612-4dcb-c3a3-c4e69d61c702"
      },
      "source": [
        "s.findDuplicate(nums)"
      ],
      "execution_count": 9,
      "outputs": [
        {
          "output_type": "execute_result",
          "data": {
            "text/plain": [
              "2"
            ]
          },
          "metadata": {},
          "execution_count": 9
        }
      ]
    }
  ]
}